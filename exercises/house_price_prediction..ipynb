{
 "cells": [
  {
   "cell_type": "code",
   "execution_count": 1,
   "metadata": {
    "ExecuteTime": {
     "end_time": "2023-04-08T00:08:37.481249Z",
     "start_time": "2023-04-08T00:08:37.402686Z"
    }
   },
   "outputs": [],
   "source": [
    "%reload_ext autoreload\n",
    "%autoreload 2\n",
    "import sys\n",
    "\n",
    "sys.path.append(\"../\")"
   ]
  },
  {
   "cell_type": "code",
   "execution_count": 2,
   "metadata": {
    "ExecuteTime": {
     "end_time": "2023-04-08T00:08:39.494093Z",
     "start_time": "2023-04-08T00:08:38.373938Z"
    }
   },
   "outputs": [],
   "source": [
    "from IMLearn.utils import split_train_test\n",
    "from IMLearn.learners.regressors import LinearRegression\n",
    "\n",
    "from typing import NoReturn, Optional\n",
    "import numpy as np\n",
    "import pandas as pd\n",
    "import plotly.graph_objects as go\n",
    "import plotly.express as px\n",
    "import plotly.io as pio"
   ]
  },
  {
   "cell_type": "code",
   "execution_count": null,
   "metadata": {
    "ExecuteTime": {
     "end_time": "2023-04-07T23:01:03.110092Z",
     "start_time": "2023-04-07T23:01:02.819291Z"
    }
   },
   "outputs": [],
   "source": [
    "np.random.seed(0)\n",
    "df = pd.read_csv(\"../datasets/house_prices.csv\")\n",
    "\n",
    "y = df['price']\n",
    "X = df.drop('price', axis=1)\n",
    "train_X, train_y, test_X, test_y = split_train_test(X, y, 0.75)"
   ]
  },
  {
   "cell_type": "markdown",
   "metadata": {},
   "source": [
    "id - <b>not important for model</b>\n",
    "date - <b>drop</b>\n",
    "bedrooms - yes\n",
    "bathrooms - yes\n",
    "sqft_living - yes\n",
    "sqft_lot - yes\n",
    "floors - yes\n",
    "waterfront - yes\n",
    "view - yes\n",
    "condition - yes\n",
    "grade - 1 to 13 overall grade <b> maybe break down into other features</b>\n",
    "sqft_above - yes\n",
    "sqft_basement - yes\n",
    "yr_built - yes\n",
    "yr_renovated - yes\n",
    "zipcode - <b> break into hot one encoding, maybe get rid of </b>\n",
    "lat - <b>check!</b>\n",
    "long - <b>check!</b>\n",
    "sqft_living15 - neighbors avg sqft\n",
    "sqft_lot15 - neighbors avg lot sqft"
   ]
  },
  {
   "cell_type": "code",
   "execution_count": null,
   "metadata": {
    "ExecuteTime": {
     "end_time": "2023-04-07T20:02:26.900369Z",
     "start_time": "2023-04-07T20:02:26.731115Z"
    }
   },
   "outputs": [],
   "source": [
    "X = train_X\n",
    "y = train_y\n",
    "train = X\n",
    "train['price'] = y\n",
    "train = train.dropna()\n",
    "# train = train.drop('date', axis=1)\n",
    "train = train[train['id'] != 0.0]\n",
    "train = train[train['sqft_lot15'] > 0]\n",
    "train = train[train['price'] > 0]"
   ]
  },
  {
   "cell_type": "markdown",
   "metadata": {},
   "source": [
    "Adding one-hot encoding to zipcodes"
   ]
  },
  {
   "cell_type": "code",
   "execution_count": null,
   "metadata": {
    "ExecuteTime": {
     "end_time": "2023-04-07T20:02:28.359636Z",
     "start_time": "2023-04-07T20:02:28.034831Z"
    }
   },
   "outputs": [],
   "source": [
    "one_hot_zipcode_df = pd.get_dummies(train['zipcode'], prefix='zip')\n",
    "train = train.join(one_hot_zipcode_df)\n",
    "train = train.drop('zipcode', axis=1)"
   ]
  },
  {
   "cell_type": "code",
   "execution_count": null,
   "metadata": {
    "ExecuteTime": {
     "end_time": "2023-04-07T20:02:29.659951Z",
     "start_time": "2023-04-07T20:02:29.298302Z"
    }
   },
   "outputs": [],
   "source": [
    "train[train.duplicated(subset=['id'], keep=False)]"
   ]
  },
  {
   "cell_type": "code",
   "execution_count": null,
   "metadata": {
    "ExecuteTime": {
     "end_time": "2023-04-07T20:02:31.171810Z",
     "start_time": "2023-04-07T20:02:30.355950Z"
    }
   },
   "outputs": [],
   "source": [
    "train.describe(include='all')"
   ]
  },
  {
   "cell_type": "code",
   "execution_count": null,
   "metadata": {
    "ExecuteTime": {
     "end_time": "2023-04-07T20:02:31.919449Z",
     "start_time": "2023-04-07T20:02:31.182744Z"
    }
   },
   "outputs": [],
   "source": [
    "(train.isna().sum() / len(train)) * 100"
   ]
  },
  {
   "cell_type": "code",
   "execution_count": null,
   "metadata": {
    "ExecuteTime": {
     "end_time": "2023-04-07T20:02:32.914886Z",
     "start_time": "2023-04-07T20:02:32.594071Z"
    }
   },
   "outputs": [],
   "source": [
    "train[train.duplicated(subset=['id', 'date'], keep=False)]"
   ]
  },
  {
   "cell_type": "code",
   "execution_count": null,
   "metadata": {
    "ExecuteTime": {
     "end_time": "2023-04-07T20:02:34.049783Z",
     "start_time": "2023-04-07T20:02:33.819919Z"
    }
   },
   "outputs": [],
   "source": [
    "train.dtypes"
   ]
  },
  {
   "cell_type": "markdown",
   "metadata": {},
   "source": [
    "### feature engineering"
   ]
  },
  {
   "cell_type": "code",
   "execution_count": null,
   "metadata": {
    "ExecuteTime": {
     "end_time": "2023-04-07T20:02:35.668677Z",
     "start_time": "2023-04-07T20:02:35.517379Z"
    }
   },
   "outputs": [],
   "source": [
    "# TODO number of bathrooms per bedrooms"
   ]
  },
  {
   "cell_type": "code",
   "execution_count": null,
   "metadata": {
    "ExecuteTime": {
     "end_time": "2023-04-07T20:02:37.001403Z",
     "start_time": "2023-04-07T20:02:36.702588Z"
    }
   },
   "outputs": [],
   "source": [
    "# age of the house\n",
    "X['date'] = pd.to_datetime(X['date'], format='%Y%m%dT000000', errors='coerce')\n",
    "X['house_age_yr'] = X['date'].dt.year - X['yr_built']"
   ]
  },
  {
   "cell_type": "code",
   "execution_count": null,
   "metadata": {
    "ExecuteTime": {
     "end_time": "2023-04-07T20:02:38.055660Z",
     "start_time": "2023-04-07T20:02:37.788068Z"
    }
   },
   "outputs": [],
   "source": [
    "X['sqft_ratio'] = X['sqft_living'] / X['sqft_lot']\n",
    "X"
   ]
  },
  {
   "cell_type": "code",
   "execution_count": null,
   "metadata": {
    "ExecuteTime": {
     "end_time": "2023-04-07T20:02:42.373649Z",
     "start_time": "2023-04-07T20:02:42.109687Z"
    }
   },
   "outputs": [],
   "source": [
    "fig = px.scatter(x=X['grade'], y=X['price'])\n",
    "fig.show()"
   ]
  },
  {
   "cell_type": "code",
   "execution_count": null,
   "metadata": {
    "ExecuteTime": {
     "end_time": "2023-04-07T20:02:43.775342Z",
     "start_time": "2023-04-07T20:02:43.399980Z"
    }
   },
   "outputs": [],
   "source": [
    "# a very cool graphic representation:\n",
    "test = X[X['id'] != 0.0]\n",
    "test = test[test['price'] > 0]\n",
    "fig = px.scatter(test, x='long', y='lat', color='price', size='price')\n",
    "fig.show()"
   ]
  },
  {
   "cell_type": "markdown",
   "metadata": {},
   "source": [
    "lat: 47.620422\n",
    "long: -122.349358"
   ]
  },
  {
   "cell_type": "code",
   "execution_count": null,
   "metadata": {
    "ExecuteTime": {
     "end_time": "2023-04-07T20:02:59.827603Z",
     "start_time": "2023-04-07T20:02:59.668905Z"
    }
   },
   "outputs": [],
   "source": [
    "def dist_from_center(lat, long):\n",
    "    ref_lat, ref_long = 47.612619936344856, -122.20516535787827  # Bellevue Downtown Park\n",
    "    R = 6371  # radius of the Earth in km\n",
    "    phi1 = np.radians(lat)\n",
    "    phi2 = np.radians(ref_lat)\n",
    "    delta_phi = np.radians(ref_lat - lat)\n",
    "    delta_lambda = np.radians(ref_long - long)\n",
    "    a = np.sin(delta_phi / 2) ** 2 + np.cos(phi1) * np.cos(phi2) * np.sin(delta_lambda / 2) ** 2\n",
    "    c = 2 * np.arctan2(np.sqrt(a), np.sqrt(1 - a))\n",
    "    d = R * c\n",
    "    return d"
   ]
  },
  {
   "cell_type": "code",
   "execution_count": null,
   "metadata": {
    "ExecuteTime": {
     "end_time": "2023-04-07T20:03:02.095450Z",
     "start_time": "2023-04-07T20:03:01.025251Z"
    }
   },
   "outputs": [],
   "source": [
    "test['dist_from_center'] = test.apply(lambda row: dist_from_center(row['lat'], row['long']), axis=1)\n",
    "px.scatter(test, x='dist_from_center', y='price').show()"
   ]
  },
  {
   "cell_type": "code",
   "execution_count": null,
   "metadata": {
    "ExecuteTime": {
     "end_time": "2023-04-07T20:03:02.956085Z",
     "start_time": "2023-04-07T20:03:02.580463Z"
    }
   },
   "outputs": [],
   "source": [
    "test['bed_bath_ratio'] = test['bathrooms'] / test['bedrooms']\n",
    "px.scatter(test, x='bed_bath_ratio', y='price')"
   ]
  },
  {
   "cell_type": "markdown",
   "metadata": {},
   "source": [
    "# Beggining"
   ]
  },
  {
   "cell_type": "code",
   "execution_count": 131,
   "metadata": {
    "ExecuteTime": {
     "start_time": "2023-04-08T01:23:15.937698Z",
     "end_time": "2023-04-08T01:23:16.028319Z"
    }
   },
   "outputs": [],
   "source": [
    "def dist_from_reference(lat, long):\n",
    "    ref_lat, ref_long = 47.612619936344856, -122.20516535787827  # Bellevue Downtown Park\n",
    "    R = 6371  # radius of the Earth in km\n",
    "    phi1 = np.radians(lat)\n",
    "    phi2 = np.radians(ref_lat)\n",
    "    delta_phi = np.radians(ref_lat - lat)\n",
    "    delta_lambda = np.radians(ref_long - long)\n",
    "    a = np.sin(delta_phi / 2) ** 2 + np.cos(phi1) * np.cos(phi2) * np.sin(delta_lambda / 2) ** 2\n",
    "    c = 2 * np.arctan2(np.sqrt(a), np.sqrt(1 - a))\n",
    "    d = R * c\n",
    "    return d"
   ]
  },
  {
   "cell_type": "code",
   "execution_count": 190,
   "metadata": {
    "ExecuteTime": {
     "start_time": "2023-04-08T01:51:48.554975Z",
     "end_time": "2023-04-08T01:51:48.676287Z"
    }
   },
   "outputs": [],
   "source": [
    "np.random.seed(0)\n",
    "df = pd.read_csv(\"../datasets/house_prices.csv\")\n",
    "\n",
    "# Question 1 - split data into train and test sets\n",
    "y = df.loc[:, 'price']\n",
    "X = df.drop('price', axis=1)\n",
    "train_X, train_y, test_X, test_y = split_train_test(X, y, 0.75)\n",
    "\n",
    "X, y = train_X, train_y"
   ]
  },
  {
   "cell_type": "code",
   "execution_count": 191,
   "metadata": {
    "ExecuteTime": {
     "start_time": "2023-04-08T01:51:48.787110Z",
     "end_time": "2023-04-08T01:51:48.895277Z"
    }
   },
   "outputs": [],
   "source": [
    "\n",
    "# Question 2 - Preprocessing of housing prices dataset\n",
    "X.loc[:, 'price'] = y.loc[:]\n",
    "# X = X[X['sqft_lot15'] > 0]\n",
    "X.loc[:] = X.loc[X['sqft_lot15'] > 0]\n",
    "X.dropna(inplace=True)\n",
    "X.drop_duplicates(subset=['id'], inplace=True)"
   ]
  },
  {
   "cell_type": "code",
   "execution_count": 192,
   "metadata": {
    "ExecuteTime": {
     "start_time": "2023-04-08T01:51:49.132484Z",
     "end_time": "2023-04-08T01:51:49.935392Z"
    }
   },
   "outputs": [],
   "source": [
    "\n",
    "# FEATURE ENGINEERING:\n",
    "# one-hot encoding for zipcodes\n",
    "one_hot_zipcode_df = pd.get_dummies(X['zipcode'], prefix='zip')\n",
    "X = X.join(one_hot_zipcode_df)\n",
    "# age of the house\n",
    "X.loc[:, 'date'] = pd.to_datetime(X['date'], format='%Y%m%dT000000', errors='coerce')\n",
    "X.loc[:, 'house_age_yr'] = X['date'].dt.year - X['yr_built']\n",
    "# square footage ratio\n",
    "X['sqft_ratio'] = X['sqft_living'] / X['sqft_lot']\n",
    "# distance from city center\n",
    "X.loc[:, 'dist_from_center'] = X.apply(lambda row: dist_from_reference(row['lat'], row['long']), axis=1)\n",
    "# bathroom to bedroom ratio\n",
    "X.loc[:, 'bath_bed_ratio'] = X['bathrooms'] / X['bedrooms']\n",
    "X.loc[:, 'bath_bed_ratio'] = X.loc[:, 'bath_bed_ratio'].replace([np.inf, -np.inf], np.nan)\n",
    "X['bath_bed_ratio'].fillna(0, inplace=True)\n",
    "# was house renovated\n",
    "X['is_renovated'] = X['yr_renovated'].apply(lambda row: 1 if (row != 0.0) else 0)\n",
    "# last column drops\n",
    "X.drop(['date', 'id', 'lat', 'long', 'zipcode', 'yr_renovated'], axis=1, inplace=True)\n",
    "\n",
    "# X = X.replace([np.inf, -np.inf], np.nan).dropna()\n",
    "\n",
    "y = X.loc[:, 'price']\n",
    "X.drop('price', axis=1, inplace=True)"
   ]
  },
  {
   "cell_type": "code",
   "execution_count": 193,
   "metadata": {
    "ExecuteTime": {
     "start_time": "2023-04-08T01:51:50.284096Z",
     "end_time": "2023-04-08T01:51:50.363756Z"
    }
   },
   "outputs": [],
   "source": [
    "pearson = X.loc[:, ~(X.columns.str.contains('^zip_', case=False) | X.columns.str.contains('^is_renovated', case=False))]"
   ]
  },
  {
   "cell_type": "code",
   "execution_count": 95,
   "metadata": {
    "ExecuteTime": {
     "start_time": "2023-04-08T01:12:05.131986Z",
     "end_time": "2023-04-08T01:12:05.235202Z"
    }
   },
   "outputs": [
    {
     "data": {
      "text/plain": "       bedrooms  bathrooms  sqft_living  sqft_lot  floors  waterfront  view  \\\n4808        3.0       2.50       2540.0    6093.0     2.0         0.0   0.0   \n19509       3.0       2.00       1820.0    6324.0     1.0         0.0   0.0   \n4309        2.0       1.75       2330.0    7280.0     1.0         0.0   0.0   \n2604        3.0       2.00       1600.0   16530.0     1.0         0.0   0.0   \n1783        3.0       1.75       1530.0    8028.0     1.0         0.0   0.0   \n...         ...        ...          ...       ...     ...         ...   ...   \n9200        3.0       1.00       1520.0    7800.0     1.0         0.0   0.0   \n10550       4.0       2.25       3290.0   12329.0     1.5         0.0   0.0   \n4568        4.0       1.00       1310.0    6000.0     1.5         0.0   0.0   \n16767       3.0       2.00       2060.0    4040.0     1.0         0.0   0.0   \n10052       2.0       2.50       2600.0    5000.0     1.0         0.0   0.0   \n\n       condition  grade  sqft_above  sqft_basement  yr_built  sqft_living15  \\\n4808         3.0    9.0      2540.0            0.0    1999.0         2540.0   \n19509        5.0    7.0       910.0          910.0    1945.0         1850.0   \n4309         3.0    7.0      1450.0          880.0    1982.0         1830.0   \n2604         5.0    7.0      1600.0            0.0    1967.0         1850.0   \n1783         3.0    7.0      1200.0          330.0    1967.0         1530.0   \n...          ...    ...         ...            ...       ...            ...   \n9200         4.0    7.0      1120.0          400.0    1967.0         1740.0   \n10550        4.0   10.0      3290.0            0.0    1968.0         3170.0   \n4568         3.0    7.0      1310.0            0.0    1940.0         1630.0   \n16767        4.0    8.0      1120.0          940.0    1947.0         1500.0   \n10052        5.0    8.0      1300.0         1300.0    1926.0         2260.0   \n\n       sqft_lot15  house_age_yr  sqft_ratio  dist_from_center  bed_bath_ratio  \n4808       5924.0          15.0    0.416872         10.441816        0.833333  \n19509      6440.0          70.0    0.287793          9.144469        0.666667  \n4309      12178.0          33.0    0.320055         21.262605        0.875000  \n2604      41006.0          47.0    0.096794         14.584472        0.666667  \n1783       8028.0          48.0    0.190583         21.663563        0.583333  \n...           ...           ...         ...               ...             ...  \n9200       8000.0          47.0    0.194872         26.812588        0.333333  \n10550     12329.0          46.0    0.266851          5.478008        0.562500  \n4568       6000.0          74.0    0.218333          7.537632        0.250000  \n16767      4000.0          67.0    0.509901         13.296517        0.666667  \n10052      5000.0          88.0    0.520000         13.512312        1.250000  \n\n[16115 rows x 18 columns]",
      "text/html": "<div>\n<style scoped>\n    .dataframe tbody tr th:only-of-type {\n        vertical-align: middle;\n    }\n\n    .dataframe tbody tr th {\n        vertical-align: top;\n    }\n\n    .dataframe thead th {\n        text-align: right;\n    }\n</style>\n<table border=\"1\" class=\"dataframe\">\n  <thead>\n    <tr style=\"text-align: right;\">\n      <th></th>\n      <th>bedrooms</th>\n      <th>bathrooms</th>\n      <th>sqft_living</th>\n      <th>sqft_lot</th>\n      <th>floors</th>\n      <th>waterfront</th>\n      <th>view</th>\n      <th>condition</th>\n      <th>grade</th>\n      <th>sqft_above</th>\n      <th>sqft_basement</th>\n      <th>yr_built</th>\n      <th>sqft_living15</th>\n      <th>sqft_lot15</th>\n      <th>house_age_yr</th>\n      <th>sqft_ratio</th>\n      <th>dist_from_center</th>\n      <th>bed_bath_ratio</th>\n    </tr>\n  </thead>\n  <tbody>\n    <tr>\n      <th>4808</th>\n      <td>3.0</td>\n      <td>2.50</td>\n      <td>2540.0</td>\n      <td>6093.0</td>\n      <td>2.0</td>\n      <td>0.0</td>\n      <td>0.0</td>\n      <td>3.0</td>\n      <td>9.0</td>\n      <td>2540.0</td>\n      <td>0.0</td>\n      <td>1999.0</td>\n      <td>2540.0</td>\n      <td>5924.0</td>\n      <td>15.0</td>\n      <td>0.416872</td>\n      <td>10.441816</td>\n      <td>0.833333</td>\n    </tr>\n    <tr>\n      <th>19509</th>\n      <td>3.0</td>\n      <td>2.00</td>\n      <td>1820.0</td>\n      <td>6324.0</td>\n      <td>1.0</td>\n      <td>0.0</td>\n      <td>0.0</td>\n      <td>5.0</td>\n      <td>7.0</td>\n      <td>910.0</td>\n      <td>910.0</td>\n      <td>1945.0</td>\n      <td>1850.0</td>\n      <td>6440.0</td>\n      <td>70.0</td>\n      <td>0.287793</td>\n      <td>9.144469</td>\n      <td>0.666667</td>\n    </tr>\n    <tr>\n      <th>4309</th>\n      <td>2.0</td>\n      <td>1.75</td>\n      <td>2330.0</td>\n      <td>7280.0</td>\n      <td>1.0</td>\n      <td>0.0</td>\n      <td>0.0</td>\n      <td>3.0</td>\n      <td>7.0</td>\n      <td>1450.0</td>\n      <td>880.0</td>\n      <td>1982.0</td>\n      <td>1830.0</td>\n      <td>12178.0</td>\n      <td>33.0</td>\n      <td>0.320055</td>\n      <td>21.262605</td>\n      <td>0.875000</td>\n    </tr>\n    <tr>\n      <th>2604</th>\n      <td>3.0</td>\n      <td>2.00</td>\n      <td>1600.0</td>\n      <td>16530.0</td>\n      <td>1.0</td>\n      <td>0.0</td>\n      <td>0.0</td>\n      <td>5.0</td>\n      <td>7.0</td>\n      <td>1600.0</td>\n      <td>0.0</td>\n      <td>1967.0</td>\n      <td>1850.0</td>\n      <td>41006.0</td>\n      <td>47.0</td>\n      <td>0.096794</td>\n      <td>14.584472</td>\n      <td>0.666667</td>\n    </tr>\n    <tr>\n      <th>1783</th>\n      <td>3.0</td>\n      <td>1.75</td>\n      <td>1530.0</td>\n      <td>8028.0</td>\n      <td>1.0</td>\n      <td>0.0</td>\n      <td>0.0</td>\n      <td>3.0</td>\n      <td>7.0</td>\n      <td>1200.0</td>\n      <td>330.0</td>\n      <td>1967.0</td>\n      <td>1530.0</td>\n      <td>8028.0</td>\n      <td>48.0</td>\n      <td>0.190583</td>\n      <td>21.663563</td>\n      <td>0.583333</td>\n    </tr>\n    <tr>\n      <th>...</th>\n      <td>...</td>\n      <td>...</td>\n      <td>...</td>\n      <td>...</td>\n      <td>...</td>\n      <td>...</td>\n      <td>...</td>\n      <td>...</td>\n      <td>...</td>\n      <td>...</td>\n      <td>...</td>\n      <td>...</td>\n      <td>...</td>\n      <td>...</td>\n      <td>...</td>\n      <td>...</td>\n      <td>...</td>\n      <td>...</td>\n    </tr>\n    <tr>\n      <th>9200</th>\n      <td>3.0</td>\n      <td>1.00</td>\n      <td>1520.0</td>\n      <td>7800.0</td>\n      <td>1.0</td>\n      <td>0.0</td>\n      <td>0.0</td>\n      <td>4.0</td>\n      <td>7.0</td>\n      <td>1120.0</td>\n      <td>400.0</td>\n      <td>1967.0</td>\n      <td>1740.0</td>\n      <td>8000.0</td>\n      <td>47.0</td>\n      <td>0.194872</td>\n      <td>26.812588</td>\n      <td>0.333333</td>\n    </tr>\n    <tr>\n      <th>10550</th>\n      <td>4.0</td>\n      <td>2.25</td>\n      <td>3290.0</td>\n      <td>12329.0</td>\n      <td>1.5</td>\n      <td>0.0</td>\n      <td>0.0</td>\n      <td>4.0</td>\n      <td>10.0</td>\n      <td>3290.0</td>\n      <td>0.0</td>\n      <td>1968.0</td>\n      <td>3170.0</td>\n      <td>12329.0</td>\n      <td>46.0</td>\n      <td>0.266851</td>\n      <td>5.478008</td>\n      <td>0.562500</td>\n    </tr>\n    <tr>\n      <th>4568</th>\n      <td>4.0</td>\n      <td>1.00</td>\n      <td>1310.0</td>\n      <td>6000.0</td>\n      <td>1.5</td>\n      <td>0.0</td>\n      <td>0.0</td>\n      <td>3.0</td>\n      <td>7.0</td>\n      <td>1310.0</td>\n      <td>0.0</td>\n      <td>1940.0</td>\n      <td>1630.0</td>\n      <td>6000.0</td>\n      <td>74.0</td>\n      <td>0.218333</td>\n      <td>7.537632</td>\n      <td>0.250000</td>\n    </tr>\n    <tr>\n      <th>16767</th>\n      <td>3.0</td>\n      <td>2.00</td>\n      <td>2060.0</td>\n      <td>4040.0</td>\n      <td>1.0</td>\n      <td>0.0</td>\n      <td>0.0</td>\n      <td>4.0</td>\n      <td>8.0</td>\n      <td>1120.0</td>\n      <td>940.0</td>\n      <td>1947.0</td>\n      <td>1500.0</td>\n      <td>4000.0</td>\n      <td>67.0</td>\n      <td>0.509901</td>\n      <td>13.296517</td>\n      <td>0.666667</td>\n    </tr>\n    <tr>\n      <th>10052</th>\n      <td>2.0</td>\n      <td>2.50</td>\n      <td>2600.0</td>\n      <td>5000.0</td>\n      <td>1.0</td>\n      <td>0.0</td>\n      <td>0.0</td>\n      <td>5.0</td>\n      <td>8.0</td>\n      <td>1300.0</td>\n      <td>1300.0</td>\n      <td>1926.0</td>\n      <td>2260.0</td>\n      <td>5000.0</td>\n      <td>88.0</td>\n      <td>0.520000</td>\n      <td>13.512312</td>\n      <td>1.250000</td>\n    </tr>\n  </tbody>\n</table>\n<p>16115 rows × 18 columns</p>\n</div>"
     },
     "execution_count": 95,
     "metadata": {},
     "output_type": "execute_result"
    }
   ],
   "source": [
    "pearson"
   ]
  },
  {
   "cell_type": "markdown",
   "metadata": {},
   "source": [
    "for i, feature in enumerate(pearson, start=1):\n",
    "    # cov = np.cov(X[feature], y) / (np.std(X[feature]) * np.std(y))\n",
    "    fig = px.scatter(pd.DataFrame({'x': pearson[feature], 'y': y}), x='x', y='y')\n",
    "    fig.write_html(str(i) + \".html\")"
   ]
  },
  {
   "cell_type": "code",
   "execution_count": 96,
   "outputs": [],
   "source": [
    "def _config_plot(fig, feature, cov):\n",
    "    fig.update_traces(\n",
    "        marker=dict(\n",
    "            size=5,\n",
    "            symbol=\"diamond\",\n",
    "            color=\"#0033cc\",\n",
    "            opacity=0.7,\n",
    "            line=dict(\n",
    "                color='white',\n",
    "                width=0.2\n",
    "            )\n",
    "        )\n",
    "    )\n",
    "    fig.update_layout(\n",
    "        title={\n",
    "            \"text\": f\"Pearson correlation between {feature} and Response. <br>Pearson Correlation: {np.round(cov, 3)}\",\n",
    "            \"x\": 0.5, \"y\": 0.95},\n",
    "        template=\"simple_white\",\n",
    "        font_color=\"black\",\n",
    "        title_font_family=\"Helvetica\",\n",
    "        title_font_color=\"black\",\n",
    "    )"
   ],
   "metadata": {
    "collapsed": false,
    "ExecuteTime": {
     "start_time": "2023-04-08T01:12:07.640725Z",
     "end_time": "2023-04-08T01:12:07.717474Z"
    }
   }
  },
  {
   "cell_type": "code",
   "execution_count": 178,
   "metadata": {
    "ExecuteTime": {
     "start_time": "2023-04-08T01:38:16.399008Z",
     "end_time": "2023-04-08T01:38:17.706129Z"
    }
   },
   "outputs": [
    {
     "name": "stdout",
     "output_type": "stream",
     "text": [
      "float64\n",
      "float64\n",
      "float64\n",
      "float64\n",
      "float64\n",
      "float64\n",
      "float64\n",
      "float64\n",
      "float64\n",
      "float64\n",
      "float64\n",
      "float64\n",
      "float64\n",
      "float64\n",
      "float64\n",
      "float64\n",
      "float64\n",
      "float64\n"
     ]
    }
   ],
   "source": [
    "for i, feature in enumerate(pearson):\n",
    "    print(X[feature].dtype)\n",
    "    p_corr = np.cov(X[feature], y)[0][1] / (np.std(X[feature]) * np.std(y))\n",
    "    fig = px.scatter(pd.DataFrame({'x': pearson[feature], 'y': y}), x='x', y='y',\n",
    "                     labels={'x': f'{feature} value', 'y': 'Response values'}, trendline='ols',\n",
    "                     trendline_color_override='black')\n",
    "    _config_plot(fig, feature, p_corr)\n",
    "    # fig.write_html()"
   ]
  },
  {
   "cell_type": "markdown",
   "metadata": {},
   "source": [
    "pearson.hist(bins='auto', figsize=(20, 20))"
   ]
  }
 ],
 "metadata": {
  "kernelspec": {
   "display_name": "Python 3 (ipykernel)",
   "language": "python",
   "name": "python3"
  },
  "language_info": {
   "codemirror_mode": {
    "name": "ipython",
    "version": 3
   },
   "file_extension": ".py",
   "mimetype": "text/x-python",
   "name": "python",
   "nbconvert_exporter": "python",
   "pygments_lexer": "ipython3",
   "version": "3.7.16"
  }
 },
 "nbformat": 4,
 "nbformat_minor": 1
}
