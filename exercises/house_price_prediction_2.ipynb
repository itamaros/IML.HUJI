{
 "cells": [
  {
   "cell_type": "code",
   "execution_count": 125,
   "metadata": {
    "ExecuteTime": {
     "start_time": "2023-04-08T18:39:27.389058Z",
     "end_time": "2023-04-08T18:39:27.813957Z"
    }
   },
   "outputs": [],
   "source": [
    "%reload_ext autoreload\n",
    "%autoreload 2\n",
    "import sys\n",
    "sys.path.append(\"../\")"
   ]
  },
  {
   "cell_type": "code",
   "execution_count": 126,
   "metadata": {
    "ExecuteTime": {
     "start_time": "2023-04-08T18:39:27.791153Z",
     "end_time": "2023-04-08T18:39:28.310657Z"
    }
   },
   "outputs": [],
   "source": [
    "from IMLearn.utils import split_train_test\n",
    "from IMLearn.learners.regressors import LinearRegression\n",
    "\n",
    "from typing import NoReturn, Optional\n",
    "import numpy as np\n",
    "import pandas as pd\n",
    "import plotly.graph_objects as go\n",
    "import plotly.express as px\n",
    "import plotly.io as pio\n",
    "\n",
    "pio.templates.default = \"simple_white\""
   ]
  },
  {
   "cell_type": "code",
   "execution_count": 133,
   "metadata": {
    "ExecuteTime": {
     "start_time": "2023-04-08T18:41:29.218167Z",
     "end_time": "2023-04-08T18:41:29.547569Z"
    }
   },
   "outputs": [],
   "source": [
    "def preprocess_data(X: pd.DataFrame, y: Optional[pd.Series] = None):\n",
    "    \"\"\"\n",
    "    preprocess data\n",
    "    Parameters\n",
    "    ----------\n",
    "    X : DataFrame of shape (n_samples, n_features)\n",
    "        Design matrix of regression problem\n",
    "\n",
    "    y : array-like of shape (n_samples, )\n",
    "        Response vector corresponding given samples\n",
    "\n",
    "    Returns\n",
    "    -------\n",
    "    Post-processed design matrix and response vector (prices) - either as a single\n",
    "    DataFrame or a Tuple[DataFrame, Series]\n",
    "    \"\"\"\n",
    "    # # clean samples\n",
    "    # X = X.dropna().drop_duplicates()\n",
    "\n",
    "    # Only if in train\n",
    "    if y is not None:\n",
    "        X.loc[:, 'price'] = y.loc[:]\n",
    "        # X.loc[:] = X.loc[X['sqft_lot15'] > 0]\n",
    "        # X.drop_duplicates(subset=['id'], inplace=True)\n",
    "\n",
    "    # FEATURE ENGINEERING:\n",
    "    one_hot_zipcode_df = pd.get_dummies(X['zipcode'], prefix='zipcode')\n",
    "    X = X.join(one_hot_zipcode_df)\n",
    "    X.loc[:, 'date'] = pd.to_datetime(X['date'], format='%Y%m%dT000000', errors='coerce')\n",
    "    X.loc[:, 'house_age_yr'] = X['date'].dt.year - X['yr_built']\n",
    "    X.loc[:, 'sqft_ratio'] = X['sqft_living'] / X['sqft_lot']\n",
    "    X.loc[:, 'dist_from_center'] = X.apply(lambda row: dist_from_reference(row['lat'], row['long']), axis=1)\n",
    "    X.loc[:, 'bath_bed_ratio'] = X['bathrooms'] / X['bedrooms']\n",
    "    X.loc[:, 'bath_bed_ratio'] = X.loc[:, 'bath_bed_ratio'].replace([np.inf, -np.inf], np.nan)\n",
    "    X.loc[:, 'bath_bed_ratio'] = X['bath_bed_ratio'].fillna(0)\n",
    "    # X = X.replace([np.inf, -np.inf, np.nan], 0)\n",
    "    X.loc[:, 'is_renovated'] = X['yr_renovated'].apply(lambda row: 1 if (row != 0.0) else 0)\n",
    "\n",
    "    X.drop(['date', 'id', 'lat', 'long', 'zipcode'], axis=1, inplace=True)  # non-linear data\n",
    "    X.drop(['yr_renovated', 'sqft_lot', 'floors', 'waterfront', 'condition', 'yr_built', 'sqft_lot15', 'house_age_yr', 'sqft_ratio'], axis=1, inplace=True)  # just irrelevant features\n",
    "\n",
    "    if y is not None:\n",
    "        return X.drop('price', axis=1), X.loc[:, 'price']\n",
    "    return X"
   ]
  },
  {
   "cell_type": "code",
   "execution_count": 134,
   "metadata": {
    "ExecuteTime": {
     "start_time": "2023-04-08T18:41:29.850453Z",
     "end_time": "2023-04-08T18:41:30.254784Z"
    }
   },
   "outputs": [],
   "source": [
    "def dist_from_reference(lat, long):\n",
    "    ref_lat, ref_long = 47.612619936344856, -122.20516535787827  # Bellevue Downtown Park\n",
    "    R = 6371  # radius of the Earth in km\n",
    "    phi1 = np.radians(lat)\n",
    "    phi2 = np.radians(ref_lat)\n",
    "    delta_phi = np.radians(ref_lat - lat)\n",
    "    delta_lambda = np.radians(ref_long - long)\n",
    "    a = np.sin(delta_phi / 2)**2 + np.cos(phi1) * np.cos(phi2) * np.sin(delta_lambda / 2)**2\n",
    "    c = 2 * np.arctan2(np.sqrt(a), np.sqrt(1 - a))\n",
    "    d = R * c\n",
    "    return d"
   ]
  },
  {
   "cell_type": "code",
   "execution_count": 135,
   "metadata": {
    "ExecuteTime": {
     "start_time": "2023-04-08T18:41:30.396312Z",
     "end_time": "2023-04-08T18:41:30.854033Z"
    }
   },
   "outputs": [],
   "source": [
    "def _config_plot(fig, feature, cov):\n",
    "    fig.update_traces(\n",
    "    marker=dict(\n",
    "        size=5,\n",
    "        symbol=\"diamond\",\n",
    "        color=\"#0033cc\",\n",
    "        opacity=0.7,\n",
    "        line=dict(\n",
    "            color='white',\n",
    "            width=0.2\n",
    "        )\n",
    "    )\n",
    "    )\n",
    "    fig.update_layout(\n",
    "        title={\"text\": f\"Pearson correlation between {feature} and Response. <br>Pearson Correlation: \"\n",
    "                       f\"{np.round(cov, 3)}\", \"x\": 0.5, \"y\": 0.95},\n",
    "        template=\"simple_white\",\n",
    "        font_color=\"black\",\n",
    "        title_font_family=\"Helvetica\",\n",
    "        title_font_color=\"black\",\n",
    "    )"
   ]
  },
  {
   "cell_type": "code",
   "execution_count": 136,
   "metadata": {
    "ExecuteTime": {
     "start_time": "2023-04-08T18:41:30.873907Z",
     "end_time": "2023-04-08T18:41:31.298599Z"
    }
   },
   "outputs": [],
   "source": [
    "def feature_evaluation(X: pd.DataFrame, y: pd.Series, output_path: str = \".\") -> NoReturn:\n",
    "    \"\"\"\n",
    "    Create scatter plot between each feature and the response.\n",
    "        - Plot title specifies feature name\n",
    "        - Plot title specifies Pearson Correlation between feature and response\n",
    "        - Plot saved under given folder with file name including feature name\n",
    "    Parameters\n",
    "    ----------\n",
    "    X : DataFrame of shape (n_samples, n_features)\n",
    "        Design matrix of regression problem\n",
    "\n",
    "    y : array-like of shape (n_samples, )\n",
    "        Response vector to evaluate against\n",
    "\n",
    "    output_path: str (default \".\")\n",
    "        Path to folder in which plots are saved\n",
    "    \"\"\"\n",
    "    X = X.loc[:, ~(X.columns.str.contains('^zipcode_', case=False) |\n",
    "                   X.columns.str.contains('^is_renovated', case=False))]\n",
    "    for feature in X:\n",
    "        p_corr = np.cov(X[feature], y)[0][1] / (np.std(X[feature]) * np.std(y))\n",
    "        fig = px.scatter(pd.DataFrame({'x': X[feature], 'y': y}), x='x', y='y',\n",
    "                         labels={'x': f'{feature} value', 'y': 'Response values'}, trendline='ols',\n",
    "                         trendline_color_override='black')\n",
    "        _config_plot(fig, feature, p_corr)\n",
    "        pio.write_html(fig, output_path + f\"/pearson corr. {feature}\" + \".html\")"
   ]
  },
  {
   "cell_type": "code",
   "execution_count": 137,
   "metadata": {
    "ExecuteTime": {
     "start_time": "2023-04-08T18:41:31.834591Z",
     "end_time": "2023-04-08T18:41:32.509307Z"
    }
   },
   "outputs": [],
   "source": [
    "def clean_df(df: pd.DataFrame) -> pd.DataFrame:\n",
    "    df = df.dropna().drop_duplicates()\n",
    "    # weed out non-plausible samples\n",
    "    for feature in ['sqft_living', 'sqft_lot', 'yr_built', 'price']:\n",
    "        df = df[df[feature] > 0]\n",
    "    for feature in ['bathrooms', 'floors', 'sqft_basement', 'yr_renovated']:\n",
    "        df = df[df[feature] >= 0]\n",
    "    return df"
   ]
  },
  {
   "cell_type": "code",
   "execution_count": 138,
   "metadata": {
    "ExecuteTime": {
     "start_time": "2023-04-08T18:41:33.464479Z",
     "end_time": "2023-04-08T18:41:38.105283Z"
    }
   },
   "outputs": [
    {
     "name": "stdout",
     "output_type": "stream",
     "text": [
      "bath_bed_ratio p_corr is 0.275\n"
     ]
    }
   ],
   "source": [
    "if __name__ == '__main__':\n",
    "    np.random.seed(0)\n",
    "    df = pd.read_csv(\"../datasets/house_prices.csv\")\n",
    "    df = clean_df(df)\n",
    "\n",
    "    # Question 1 - split data into train and test sets\n",
    "    y = df['price']\n",
    "    X = df.drop('price', axis=1)\n",
    "    train_X, train_y, test_X, test_y = split_train_test(X, y, 0.75)\n",
    "\n",
    "    # Question 2 - Preprocessing of housing prices dataset\n",
    "    train_X, train_y = preprocess_data(train_X, train_y)\n",
    "    test_X = preprocess_data(test_X)\n",
    "\n",
    "    # Question 3 - Feature evaluation with respect to response\n",
    "    feature_evaluation(train_X, train_y, \"p_corr\")"
   ]
  },
  {
   "cell_type": "code",
   "execution_count": 139,
   "outputs": [],
   "source": [
    "\n",
    "    # Question 4 - Fit model over increasing percentages of the overall training data\n",
    "    # For every percentage p in 10%, 11%, ..., 100%, repeat the following 10 times:\n",
    "    #   1) Sample p% of the overall training data\n",
    "    #   2) Fit linear model (including intercept) over sampled set\n",
    "    #   3) Test fitted model over test set\n",
    "    #   4) Store average and variance of loss over test set\n",
    "    # Then plot average loss as function of training size with error ribbon of size (mean-2*std, mean+2*std)\n",
    "\n",
    "    index = list(range(10, 101))\n",
    "    loss_matrix = np.zeros((len(index), 10))\n",
    "    for i, p in enumerate(index):\n",
    "        for j in range(loss_matrix.shape[1]):\n",
    "            sample_X = train_X.sample(frac=p / 100.0)\n",
    "            sample_y = train_y.loc[sample_X.index]\n",
    "            fitted_model = LinearRegression().fit(sample_X, sample_y)\n",
    "            loss_matrix[i, j] = fitted_model.loss(test_X, test_y)\n",
    "\n",
    "    loss_avg, loss_var = loss_matrix.mean(axis=1), loss_matrix.std(axis=1)"
   ],
   "metadata": {
    "collapsed": false,
    "ExecuteTime": {
     "start_time": "2023-04-08T18:41:43.810919Z",
     "end_time": "2023-04-08T18:42:39.782798Z"
    }
   }
  },
  {
   "cell_type": "code",
   "execution_count": 141,
   "metadata": {
    "ExecuteTime": {
     "start_time": "2023-04-08T21:27:42.076901Z",
     "end_time": "2023-04-08T21:27:42.771403Z"
    }
   },
   "outputs": [
    {
     "data": {
      "application/vnd.plotly.v1+json": {
       "data": [
        {
         "line": {
          "dash": "dash"
         },
         "marker": {
          "color": "black"
         },
         "mode": "markers+lines",
         "x": [
          10,
          11,
          12,
          13,
          14,
          15,
          16,
          17,
          18,
          19,
          20,
          21,
          22,
          23,
          24,
          25,
          26,
          27,
          28,
          29,
          30,
          31,
          32,
          33,
          34,
          35,
          36,
          37,
          38,
          39,
          40,
          41,
          42,
          43,
          44,
          45,
          46,
          47,
          48,
          49,
          50,
          51,
          52,
          53,
          54,
          55,
          56,
          57,
          58,
          59,
          60,
          61,
          62,
          63,
          64,
          65,
          66,
          67,
          68,
          69,
          70,
          71,
          72,
          73,
          74,
          75,
          76,
          77,
          78,
          79,
          80,
          81,
          82,
          83,
          84,
          85,
          86,
          87,
          88,
          89,
          90,
          91,
          92,
          93,
          94,
          95,
          96,
          97,
          98,
          99,
          100
         ],
         "y": [
          3.111066174446095E10,
          3.04062279932902E10,
          2.988452764766388E10,
          3.0350664401081554E10,
          2.9640280480097942E10,
          2.9941118746378044E10,
          2.9707041553100018E10,
          2.9563559790508842E10,
          2.9609745945153454E10,
          2.9210701636516357E10,
          2.916375161090042E10,
          2.936802965923421E10,
          2.9033891011476585E10,
          2.9309787706265137E10,
          2.9174098346638428E10,
          2.9130113700538776E10,
          2.923807006261853E10,
          2.887658647661933E10,
          2.910429867395122E10,
          2.8901685679266396E10,
          2.890362929769995E10,
          2.8877003190811256E10,
          2.891639206512447E10,
          2.8828337211933113E10,
          2.8833261570976288E10,
          2.873253932519906E10,
          2.8688894958546314E10,
          2.8908815488197296E10,
          2.8675238001859253E10,
          2.8741582634026142E10,
          2.8619117273512714E10,
          2.8669801538190956E10,
          2.864264604953654E10,
          2.8737162460280815E10,
          2.854460297978958E10,
          2.862093179508426E10,
          2.854758283371888E10,
          2.8668373985145874E10,
          2.8627600596992474E10,
          2.850828399269211E10,
          2.8604311249210052E10,
          2.8573828575116432E10,
          2.8538902553141304E10,
          2.8492460533053825E10,
          2.8569147151139935E10,
          2.8589286871060802E10,
          2.854656519325782E10,
          2.850431266665556E10,
          2.8541387365862965E10,
          2.84778165215932E10,
          2.849443342777426E10,
          2.838340889379075E10,
          2.846531742905532E10,
          2.848453942172135E10,
          2.847076830011689E10,
          2.848901386790335E10,
          2.8439047097791145E10,
          2.846795253142797E10,
          2.841868756860849E10,
          2.8391305692978905E10,
          2.843458297658407E10,
          2.839719170090222E10,
          2.8491771441619263E10,
          2.8398305825465527E10,
          2.8455883031956512E10,
          2.8424326927222878E10,
          2.8431245825149605E10,
          2.8413639204276215E10,
          2.836887825862655E10,
          2.8419110986528526E10,
          2.8375374272312164E10,
          2.8366569321638817E10,
          2.834586171046454E10,
          2.8335860063674065E10,
          2.838974274269494E10,
          2.8339547078444664E10,
          2.8341418162708588E10,
          2.834295849680477E10,
          2.8379643914681305E10,
          2.8371849842417183E10,
          2.8362998947200054E10,
          2.8352436884656456E10,
          2.8354921756887733E10,
          2.833003090251893E10,
          2.831391170958421E10,
          2.8335024201957104E10,
          2.834773748936338E10,
          2.8328104306576355E10,
          2.8317898335535774E10,
          2.831920517372175E10,
          2.8320731652772114E10
         ],
         "type": "scatter"
        },
        {
         "line": {
          "color": "lightgrey"
         },
         "mode": "lines",
         "x": [
          10,
          11,
          12,
          13,
          14,
          15,
          16,
          17,
          18,
          19,
          20,
          21,
          22,
          23,
          24,
          25,
          26,
          27,
          28,
          29,
          30,
          31,
          32,
          33,
          34,
          35,
          36,
          37,
          38,
          39,
          40,
          41,
          42,
          43,
          44,
          45,
          46,
          47,
          48,
          49,
          50,
          51,
          52,
          53,
          54,
          55,
          56,
          57,
          58,
          59,
          60,
          61,
          62,
          63,
          64,
          65,
          66,
          67,
          68,
          69,
          70,
          71,
          72,
          73,
          74,
          75,
          76,
          77,
          78,
          79,
          80,
          81,
          82,
          83,
          84,
          85,
          86,
          87,
          88,
          89,
          90,
          91,
          92,
          93,
          94,
          95,
          96,
          97,
          98,
          99,
          100
         ],
         "y": [
          2.880370820949749E10,
          2.8539275030654636E10,
          2.9007620603188274E10,
          2.8249727707417397E10,
          2.859223112823653E10,
          2.8474533951423717E10,
          2.839034981080312E10,
          2.8869227582414497E10,
          2.84741380724009E10,
          2.8568213846751934E10,
          2.851357597854616E10,
          2.869857698710535E10,
          2.8596848581770214E10,
          2.868319368388977E10,
          2.8519293250284893E10,
          2.8449540888385593E10,
          2.8526571155103622E10,
          2.835888736050586E10,
          2.852901066551074E10,
          2.815571126246864E10,
          2.8413291389092426E10,
          2.840688819682294E10,
          2.8519872422436836E10,
          2.8133390537013832E10,
          2.8300242996521324E10,
          2.8240521085981903E10,
          2.8307482182908615E10,
          2.8293959501426517E10,
          2.8288101195912636E10,
          2.840285793013582E10,
          2.8307511318290466E10,
          2.835967365110244E10,
          2.8467714585419113E10,
          2.839355836178296E10,
          2.8348134256895287E10,
          2.8265408983619488E10,
          2.817752804822046E10,
          2.831302592052238E10,
          2.8331978091620674E10,
          2.834368999454513E10,
          2.835801156964314E10,
          2.8384912684737595E10,
          2.8288372001259808E10,
          2.8195482097457073E10,
          2.826742802031692E10,
          2.8369938646897835E10,
          2.8243738990799736E10,
          2.823942949551703E10,
          2.8408986735603333E10,
          2.8164158746572216E10,
          2.8336222009725178E10,
          2.8126254424033276E10,
          2.8215725248118282E10,
          2.8317212481361046E10,
          2.8265406509516495E10,
          2.824959974159851E10,
          2.8318657503492367E10,
          2.8227143727909225E10,
          2.825562080048864E10,
          2.817471979639944E10,
          2.8150494469664948E10,
          2.818846892354986E10,
          2.835604606393284E10,
          2.8213730854323326E10,
          2.827123618673511E10,
          2.8207231771840355E10,
          2.8269354305334923E10,
          2.8217721645205532E10,
          2.8234077632620815E10,
          2.8204858444621826E10,
          2.8179183981609684E10,
          2.8246428371581104E10,
          2.8203850429538948E10,
          2.821564101112331E10,
          2.8287140953876816E10,
          2.8225583370088383E10,
          2.825169757267148E10,
          2.827952065515096E10,
          2.8242929734110363E10,
          2.8263569130112408E10,
          2.8270854872526688E10,
          2.8207319993311344E10,
          2.829009197340475E10,
          2.824121535317356E10,
          2.822343549179649E10,
          2.8274727043702446E10,
          2.8282343990517754E10,
          2.8281979067300873E10,
          2.8300693511168514E10,
          2.829698093844982E10,
          2.8320731652771317E10
         ],
         "type": "scatter"
        },
        {
         "fill": "tonexty",
         "line": {
          "color": "lightgrey"
         },
         "mode": "lines",
         "x": [
          10,
          11,
          12,
          13,
          14,
          15,
          16,
          17,
          18,
          19,
          20,
          21,
          22,
          23,
          24,
          25,
          26,
          27,
          28,
          29,
          30,
          31,
          32,
          33,
          34,
          35,
          36,
          37,
          38,
          39,
          40,
          41,
          42,
          43,
          44,
          45,
          46,
          47,
          48,
          49,
          50,
          51,
          52,
          53,
          54,
          55,
          56,
          57,
          58,
          59,
          60,
          61,
          62,
          63,
          64,
          65,
          66,
          67,
          68,
          69,
          70,
          71,
          72,
          73,
          74,
          75,
          76,
          77,
          78,
          79,
          80,
          81,
          82,
          83,
          84,
          85,
          86,
          87,
          88,
          89,
          90,
          91,
          92,
          93,
          94,
          95,
          96,
          97,
          98,
          99,
          100
         ],
         "y": [
          3.3417615279424408E10,
          3.2273180955925762E10,
          3.0761434692139484E10,
          3.2451601094745712E10,
          3.0688329831959354E10,
          3.140770354133237E10,
          3.1023733295396915E10,
          3.0257891998603188E10,
          3.0745353817906006E10,
          2.985318942628078E10,
          2.981392724325468E10,
          3.003748233136307E10,
          2.9470933441182957E10,
          2.9936381728640503E10,
          2.9828903442991962E10,
          2.981068651269196E10,
          2.994956897013344E10,
          2.9394285592732803E10,
          2.9679586682391705E10,
          2.964766009606415E10,
          2.9393967206307476E10,
          2.9347118184799572E10,
          2.9312911707812103E10,
          2.9523283886852394E10,
          2.936628014543125E10,
          2.9224557564416214E10,
          2.9070307734184013E10,
          2.9523671474968075E10,
          2.906237480780587E10,
          2.9080307337916466E10,
          2.8930723228734962E10,
          2.8979929425279472E10,
          2.881757751365397E10,
          2.908076655877867E10,
          2.8741071702683876E10,
          2.897645460654903E10,
          2.89176376192173E10,
          2.9023722049769367E10,
          2.8923223102364273E10,
          2.8672877990839085E10,
          2.8850610928776966E10,
          2.876274446549527E10,
          2.87894331050228E10,
          2.8789438968650578E10,
          2.8870866281962948E10,
          2.880863509522377E10,
          2.8849391395715904E10,
          2.876919583779409E10,
          2.8673787996122597E10,
          2.8791474296614185E10,
          2.8652644845823345E10,
          2.864056336354822E10,
          2.871490960999236E10,
          2.8651866362081657E10,
          2.8676130090717285E10,
          2.872842799420819E10,
          2.8559436692089924E10,
          2.8708761334946716E10,
          2.858175433672834E10,
          2.860789158955837E10,
          2.871867148350319E10,
          2.8605914478254585E10,
          2.8627496819305687E10,
          2.8582880796607727E10,
          2.8640529877177914E10,
          2.86414220826054E10,
          2.8593137344964287E10,
          2.8609556763346897E10,
          2.8503678884632282E10,
          2.8633363528435226E10,
          2.8571564563014645E10,
          2.848671027169653E10,
          2.848787299139013E10,
          2.845607911622482E10,
          2.849234453151306E10,
          2.8453510786800945E10,
          2.8431138752745697E10,
          2.8406396338458584E10,
          2.8516358095252247E10,
          2.848013055472196E10,
          2.845514302187342E10,
          2.8497553776001568E10,
          2.8419751540370716E10,
          2.8418846451864296E10,
          2.840438792737193E10,
          2.839532136021176E10,
          2.8413130988209007E10,
          2.8374229545851837E10,
          2.8335103159903034E10,
          2.8341429408993675E10,
          2.832073165277291E10
         ],
         "type": "scatter"
        }
       ],
       "layout": {
        "showlegend": false,
        "template": {
         "data": {
          "barpolar": [
           {
            "marker": {
             "line": {
              "color": "white",
              "width": 0.5
             },
             "pattern": {
              "fillmode": "overlay",
              "size": 10,
              "solidity": 0.2
             }
            },
            "type": "barpolar"
           }
          ],
          "bar": [
           {
            "error_x": {
             "color": "rgb(36,36,36)"
            },
            "error_y": {
             "color": "rgb(36,36,36)"
            },
            "marker": {
             "line": {
              "color": "white",
              "width": 0.5
             },
             "pattern": {
              "fillmode": "overlay",
              "size": 10,
              "solidity": 0.2
             }
            },
            "type": "bar"
           }
          ],
          "carpet": [
           {
            "aaxis": {
             "endlinecolor": "rgb(36,36,36)",
             "gridcolor": "white",
             "linecolor": "white",
             "minorgridcolor": "white",
             "startlinecolor": "rgb(36,36,36)"
            },
            "baxis": {
             "endlinecolor": "rgb(36,36,36)",
             "gridcolor": "white",
             "linecolor": "white",
             "minorgridcolor": "white",
             "startlinecolor": "rgb(36,36,36)"
            },
            "type": "carpet"
           }
          ],
          "choropleth": [
           {
            "colorbar": {
             "outlinewidth": 1,
             "tickcolor": "rgb(36,36,36)",
             "ticks": "outside"
            },
            "type": "choropleth"
           }
          ],
          "contourcarpet": [
           {
            "colorbar": {
             "outlinewidth": 1,
             "tickcolor": "rgb(36,36,36)",
             "ticks": "outside"
            },
            "type": "contourcarpet"
           }
          ],
          "contour": [
           {
            "colorbar": {
             "outlinewidth": 1,
             "tickcolor": "rgb(36,36,36)",
             "ticks": "outside"
            },
            "colorscale": [
             [
              0.0,
              "#440154"
             ],
             [
              0.1111111111111111,
              "#482878"
             ],
             [
              0.2222222222222222,
              "#3e4989"
             ],
             [
              0.3333333333333333,
              "#31688e"
             ],
             [
              0.4444444444444444,
              "#26828e"
             ],
             [
              0.5555555555555556,
              "#1f9e89"
             ],
             [
              0.6666666666666666,
              "#35b779"
             ],
             [
              0.7777777777777778,
              "#6ece58"
             ],
             [
              0.8888888888888888,
              "#b5de2b"
             ],
             [
              1.0,
              "#fde725"
             ]
            ],
            "type": "contour"
           }
          ],
          "heatmapgl": [
           {
            "colorbar": {
             "outlinewidth": 1,
             "tickcolor": "rgb(36,36,36)",
             "ticks": "outside"
            },
            "colorscale": [
             [
              0.0,
              "#440154"
             ],
             [
              0.1111111111111111,
              "#482878"
             ],
             [
              0.2222222222222222,
              "#3e4989"
             ],
             [
              0.3333333333333333,
              "#31688e"
             ],
             [
              0.4444444444444444,
              "#26828e"
             ],
             [
              0.5555555555555556,
              "#1f9e89"
             ],
             [
              0.6666666666666666,
              "#35b779"
             ],
             [
              0.7777777777777778,
              "#6ece58"
             ],
             [
              0.8888888888888888,
              "#b5de2b"
             ],
             [
              1.0,
              "#fde725"
             ]
            ],
            "type": "heatmapgl"
           }
          ],
          "heatmap": [
           {
            "colorbar": {
             "outlinewidth": 1,
             "tickcolor": "rgb(36,36,36)",
             "ticks": "outside"
            },
            "colorscale": [
             [
              0.0,
              "#440154"
             ],
             [
              0.1111111111111111,
              "#482878"
             ],
             [
              0.2222222222222222,
              "#3e4989"
             ],
             [
              0.3333333333333333,
              "#31688e"
             ],
             [
              0.4444444444444444,
              "#26828e"
             ],
             [
              0.5555555555555556,
              "#1f9e89"
             ],
             [
              0.6666666666666666,
              "#35b779"
             ],
             [
              0.7777777777777778,
              "#6ece58"
             ],
             [
              0.8888888888888888,
              "#b5de2b"
             ],
             [
              1.0,
              "#fde725"
             ]
            ],
            "type": "heatmap"
           }
          ],
          "histogram2dcontour": [
           {
            "colorbar": {
             "outlinewidth": 1,
             "tickcolor": "rgb(36,36,36)",
             "ticks": "outside"
            },
            "colorscale": [
             [
              0.0,
              "#440154"
             ],
             [
              0.1111111111111111,
              "#482878"
             ],
             [
              0.2222222222222222,
              "#3e4989"
             ],
             [
              0.3333333333333333,
              "#31688e"
             ],
             [
              0.4444444444444444,
              "#26828e"
             ],
             [
              0.5555555555555556,
              "#1f9e89"
             ],
             [
              0.6666666666666666,
              "#35b779"
             ],
             [
              0.7777777777777778,
              "#6ece58"
             ],
             [
              0.8888888888888888,
              "#b5de2b"
             ],
             [
              1.0,
              "#fde725"
             ]
            ],
            "type": "histogram2dcontour"
           }
          ],
          "histogram2d": [
           {
            "colorbar": {
             "outlinewidth": 1,
             "tickcolor": "rgb(36,36,36)",
             "ticks": "outside"
            },
            "colorscale": [
             [
              0.0,
              "#440154"
             ],
             [
              0.1111111111111111,
              "#482878"
             ],
             [
              0.2222222222222222,
              "#3e4989"
             ],
             [
              0.3333333333333333,
              "#31688e"
             ],
             [
              0.4444444444444444,
              "#26828e"
             ],
             [
              0.5555555555555556,
              "#1f9e89"
             ],
             [
              0.6666666666666666,
              "#35b779"
             ],
             [
              0.7777777777777778,
              "#6ece58"
             ],
             [
              0.8888888888888888,
              "#b5de2b"
             ],
             [
              1.0,
              "#fde725"
             ]
            ],
            "type": "histogram2d"
           }
          ],
          "histogram": [
           {
            "marker": {
             "line": {
              "color": "white",
              "width": 0.6
             }
            },
            "type": "histogram"
           }
          ],
          "mesh3d": [
           {
            "colorbar": {
             "outlinewidth": 1,
             "tickcolor": "rgb(36,36,36)",
             "ticks": "outside"
            },
            "type": "mesh3d"
           }
          ],
          "parcoords": [
           {
            "line": {
             "colorbar": {
              "outlinewidth": 1,
              "tickcolor": "rgb(36,36,36)",
              "ticks": "outside"
             }
            },
            "type": "parcoords"
           }
          ],
          "pie": [
           {
            "automargin": true,
            "type": "pie"
           }
          ],
          "scatter3d": [
           {
            "line": {
             "colorbar": {
              "outlinewidth": 1,
              "tickcolor": "rgb(36,36,36)",
              "ticks": "outside"
             }
            },
            "marker": {
             "colorbar": {
              "outlinewidth": 1,
              "tickcolor": "rgb(36,36,36)",
              "ticks": "outside"
             }
            },
            "type": "scatter3d"
           }
          ],
          "scattercarpet": [
           {
            "marker": {
             "colorbar": {
              "outlinewidth": 1,
              "tickcolor": "rgb(36,36,36)",
              "ticks": "outside"
             }
            },
            "type": "scattercarpet"
           }
          ],
          "scattergeo": [
           {
            "marker": {
             "colorbar": {
              "outlinewidth": 1,
              "tickcolor": "rgb(36,36,36)",
              "ticks": "outside"
             }
            },
            "type": "scattergeo"
           }
          ],
          "scattergl": [
           {
            "marker": {
             "colorbar": {
              "outlinewidth": 1,
              "tickcolor": "rgb(36,36,36)",
              "ticks": "outside"
             }
            },
            "type": "scattergl"
           }
          ],
          "scattermapbox": [
           {
            "marker": {
             "colorbar": {
              "outlinewidth": 1,
              "tickcolor": "rgb(36,36,36)",
              "ticks": "outside"
             }
            },
            "type": "scattermapbox"
           }
          ],
          "scatterpolargl": [
           {
            "marker": {
             "colorbar": {
              "outlinewidth": 1,
              "tickcolor": "rgb(36,36,36)",
              "ticks": "outside"
             }
            },
            "type": "scatterpolargl"
           }
          ],
          "scatterpolar": [
           {
            "marker": {
             "colorbar": {
              "outlinewidth": 1,
              "tickcolor": "rgb(36,36,36)",
              "ticks": "outside"
             }
            },
            "type": "scatterpolar"
           }
          ],
          "scatter": [
           {
            "fillpattern": {
             "fillmode": "overlay",
             "size": 10,
             "solidity": 0.2
            },
            "type": "scatter"
           }
          ],
          "scatterternary": [
           {
            "marker": {
             "colorbar": {
              "outlinewidth": 1,
              "tickcolor": "rgb(36,36,36)",
              "ticks": "outside"
             }
            },
            "type": "scatterternary"
           }
          ],
          "surface": [
           {
            "colorbar": {
             "outlinewidth": 1,
             "tickcolor": "rgb(36,36,36)",
             "ticks": "outside"
            },
            "colorscale": [
             [
              0.0,
              "#440154"
             ],
             [
              0.1111111111111111,
              "#482878"
             ],
             [
              0.2222222222222222,
              "#3e4989"
             ],
             [
              0.3333333333333333,
              "#31688e"
             ],
             [
              0.4444444444444444,
              "#26828e"
             ],
             [
              0.5555555555555556,
              "#1f9e89"
             ],
             [
              0.6666666666666666,
              "#35b779"
             ],
             [
              0.7777777777777778,
              "#6ece58"
             ],
             [
              0.8888888888888888,
              "#b5de2b"
             ],
             [
              1.0,
              "#fde725"
             ]
            ],
            "type": "surface"
           }
          ],
          "table": [
           {
            "cells": {
             "fill": {
              "color": "rgb(237,237,237)"
             },
             "line": {
              "color": "white"
             }
            },
            "header": {
             "fill": {
              "color": "rgb(217,217,217)"
             },
             "line": {
              "color": "white"
             }
            },
            "type": "table"
           }
          ]
         },
         "layout": {
          "annotationdefaults": {
           "arrowhead": 0,
           "arrowwidth": 1
          },
          "autotypenumbers": "strict",
          "coloraxis": {
           "colorbar": {
            "outlinewidth": 1,
            "tickcolor": "rgb(36,36,36)",
            "ticks": "outside"
           }
          },
          "colorscale": {
           "diverging": [
            [
             0.0,
             "rgb(103,0,31)"
            ],
            [
             0.1,
             "rgb(178,24,43)"
            ],
            [
             0.2,
             "rgb(214,96,77)"
            ],
            [
             0.3,
             "rgb(244,165,130)"
            ],
            [
             0.4,
             "rgb(253,219,199)"
            ],
            [
             0.5,
             "rgb(247,247,247)"
            ],
            [
             0.6,
             "rgb(209,229,240)"
            ],
            [
             0.7,
             "rgb(146,197,222)"
            ],
            [
             0.8,
             "rgb(67,147,195)"
            ],
            [
             0.9,
             "rgb(33,102,172)"
            ],
            [
             1.0,
             "rgb(5,48,97)"
            ]
           ],
           "sequential": [
            [
             0.0,
             "#440154"
            ],
            [
             0.1111111111111111,
             "#482878"
            ],
            [
             0.2222222222222222,
             "#3e4989"
            ],
            [
             0.3333333333333333,
             "#31688e"
            ],
            [
             0.4444444444444444,
             "#26828e"
            ],
            [
             0.5555555555555556,
             "#1f9e89"
            ],
            [
             0.6666666666666666,
             "#35b779"
            ],
            [
             0.7777777777777778,
             "#6ece58"
            ],
            [
             0.8888888888888888,
             "#b5de2b"
            ],
            [
             1.0,
             "#fde725"
            ]
           ],
           "sequentialminus": [
            [
             0.0,
             "#440154"
            ],
            [
             0.1111111111111111,
             "#482878"
            ],
            [
             0.2222222222222222,
             "#3e4989"
            ],
            [
             0.3333333333333333,
             "#31688e"
            ],
            [
             0.4444444444444444,
             "#26828e"
            ],
            [
             0.5555555555555556,
             "#1f9e89"
            ],
            [
             0.6666666666666666,
             "#35b779"
            ],
            [
             0.7777777777777778,
             "#6ece58"
            ],
            [
             0.8888888888888888,
             "#b5de2b"
            ],
            [
             1.0,
             "#fde725"
            ]
           ]
          },
          "colorway": [
           "#1F77B4",
           "#FF7F0E",
           "#2CA02C",
           "#D62728",
           "#9467BD",
           "#8C564B",
           "#E377C2",
           "#7F7F7F",
           "#BCBD22",
           "#17BECF"
          ],
          "font": {
           "color": "rgb(36,36,36)"
          },
          "geo": {
           "bgcolor": "white",
           "lakecolor": "white",
           "landcolor": "white",
           "showlakes": true,
           "showland": true,
           "subunitcolor": "white"
          },
          "hoverlabel": {
           "align": "left"
          },
          "hovermode": "closest",
          "mapbox": {
           "style": "light"
          },
          "paper_bgcolor": "white",
          "plot_bgcolor": "white",
          "polar": {
           "angularaxis": {
            "gridcolor": "rgb(232,232,232)",
            "linecolor": "rgb(36,36,36)",
            "showgrid": false,
            "showline": true,
            "ticks": "outside"
           },
           "bgcolor": "white",
           "radialaxis": {
            "gridcolor": "rgb(232,232,232)",
            "linecolor": "rgb(36,36,36)",
            "showgrid": false,
            "showline": true,
            "ticks": "outside"
           }
          },
          "scene": {
           "xaxis": {
            "backgroundcolor": "white",
            "gridcolor": "rgb(232,232,232)",
            "gridwidth": 2,
            "linecolor": "rgb(36,36,36)",
            "showbackground": true,
            "showgrid": false,
            "showline": true,
            "ticks": "outside",
            "zeroline": false,
            "zerolinecolor": "rgb(36,36,36)"
           },
           "yaxis": {
            "backgroundcolor": "white",
            "gridcolor": "rgb(232,232,232)",
            "gridwidth": 2,
            "linecolor": "rgb(36,36,36)",
            "showbackground": true,
            "showgrid": false,
            "showline": true,
            "ticks": "outside",
            "zeroline": false,
            "zerolinecolor": "rgb(36,36,36)"
           },
           "zaxis": {
            "backgroundcolor": "white",
            "gridcolor": "rgb(232,232,232)",
            "gridwidth": 2,
            "linecolor": "rgb(36,36,36)",
            "showbackground": true,
            "showgrid": false,
            "showline": true,
            "ticks": "outside",
            "zeroline": false,
            "zerolinecolor": "rgb(36,36,36)"
           }
          },
          "shapedefaults": {
           "fillcolor": "black",
           "line": {
            "width": 0
           },
           "opacity": 0.3
          },
          "ternary": {
           "aaxis": {
            "gridcolor": "rgb(232,232,232)",
            "linecolor": "rgb(36,36,36)",
            "showgrid": false,
            "showline": true,
            "ticks": "outside"
           },
           "baxis": {
            "gridcolor": "rgb(232,232,232)",
            "linecolor": "rgb(36,36,36)",
            "showgrid": false,
            "showline": true,
            "ticks": "outside"
           },
           "bgcolor": "white",
           "caxis": {
            "gridcolor": "rgb(232,232,232)",
            "linecolor": "rgb(36,36,36)",
            "showgrid": false,
            "showline": true,
            "ticks": "outside"
           }
          },
          "title": {
           "x": 0.05
          },
          "xaxis": {
           "automargin": true,
           "gridcolor": "rgb(232,232,232)",
           "linecolor": "rgb(36,36,36)",
           "showgrid": false,
           "showline": true,
           "ticks": "outside",
           "title": {
            "standoff": 15
           },
           "zeroline": false,
           "zerolinecolor": "rgb(36,36,36)"
          },
          "yaxis": {
           "automargin": true,
           "gridcolor": "rgb(232,232,232)",
           "linecolor": "rgb(36,36,36)",
           "showgrid": false,
           "showline": true,
           "ticks": "outside",
           "title": {
            "standoff": 15
           },
           "zeroline": false,
           "zerolinecolor": "rgb(36,36,36)"
          }
         }
        },
        "title": {
         "text": "MSE over test set, as a function of train set size",
         "font": {
          "family": "Helvetica",
          "color": "black"
         },
         "x": 0.5,
         "y": 0.95
        },
        "xaxis": {
         "title": {
          "text": "Percentage of training set used"
         }
        },
        "yaxis": {
         "title": {
          "text": "MSE over test set"
         }
        },
        "font": {
         "color": "black"
        }
       },
       "config": {
        "plotlyServerURL": "https://plot.ly"
       }
      },
      "text/html": "<div>                            <div id=\"31941259-ff8c-45ef-9117-84547454eaa3\" class=\"plotly-graph-div\" style=\"height:525px; width:100%;\"></div>            <script type=\"text/javascript\">                require([\"plotly\"], function(Plotly) {                    window.PLOTLYENV=window.PLOTLYENV || {};                                    if (document.getElementById(\"31941259-ff8c-45ef-9117-84547454eaa3\")) {                    Plotly.newPlot(                        \"31941259-ff8c-45ef-9117-84547454eaa3\",                        [{\"line\":{\"dash\":\"dash\"},\"marker\":{\"color\":\"black\"},\"mode\":\"markers+lines\",\"x\":[10,11,12,13,14,15,16,17,18,19,20,21,22,23,24,25,26,27,28,29,30,31,32,33,34,35,36,37,38,39,40,41,42,43,44,45,46,47,48,49,50,51,52,53,54,55,56,57,58,59,60,61,62,63,64,65,66,67,68,69,70,71,72,73,74,75,76,77,78,79,80,81,82,83,84,85,86,87,88,89,90,91,92,93,94,95,96,97,98,99,100],\"y\":[31110661744.46095,30406227993.2902,29884527647.66388,30350664401.081554,29640280480.097942,29941118746.378044,29707041553.100018,29563559790.508842,29609745945.153454,29210701636.516357,29163751610.90042,29368029659.23421,29033891011.476585,29309787706.265137,29174098346.638428,29130113700.538776,29238070062.61853,28876586476.61933,29104298673.95122,28901685679.266396,28903629297.69995,28877003190.811256,28916392065.12447,28828337211.933113,28833261570.976288,28732539325.19906,28688894958.546314,28908815488.197296,28675238001.859253,28741582634.026142,28619117273.512714,28669801538.190956,28642646049.53654,28737162460.280815,28544602979.78958,28620931795.08426,28547582833.71888,28668373985.145874,28627600596.992474,28508283992.69211,28604311249.210052,28573828575.116432,28538902553.141304,28492460533.053825,28569147151.139935,28589286871.060802,28546565193.25782,28504312666.65556,28541387365.862965,28477816521.5932,28494433427.77426,28383408893.79075,28465317429.05532,28484539421.72135,28470768300.11689,28489013867.90335,28439047097.791145,28467952531.42797,28418687568.60849,28391305692.978905,28434582976.58407,28397191700.90222,28491771441.619263,28398305825.465527,28455883031.956512,28424326927.222878,28431245825.149605,28413639204.276215,28368878258.62655,28419110986.528526,28375374272.312164,28366569321.638817,28345861710.46454,28335860063.674065,28389742742.69494,28339547078.444664,28341418162.708588,28342958496.80477,28379643914.681305,28371849842.417183,28362998947.200054,28352436884.656456,28354921756.887733,28330030902.51893,28313911709.58421,28335024201.957104,28347737489.36338,28328104306.576355,28317898335.535774,28319205173.72175,28320731652.772114],\"type\":\"scatter\"},{\"line\":{\"color\":\"lightgrey\"},\"mode\":\"lines\",\"x\":[10,11,12,13,14,15,16,17,18,19,20,21,22,23,24,25,26,27,28,29,30,31,32,33,34,35,36,37,38,39,40,41,42,43,44,45,46,47,48,49,50,51,52,53,54,55,56,57,58,59,60,61,62,63,64,65,66,67,68,69,70,71,72,73,74,75,76,77,78,79,80,81,82,83,84,85,86,87,88,89,90,91,92,93,94,95,96,97,98,99,100],\"y\":[28803708209.49749,28539275030.654636,29007620603.188274,28249727707.417397,28592231128.23653,28474533951.423717,28390349810.80312,28869227582.414497,28474138072.4009,28568213846.751934,28513575978.54616,28698576987.10535,28596848581.770214,28683193683.88977,28519293250.284893,28449540888.385593,28526571155.103622,28358887360.50586,28529010665.51074,28155711262.46864,28413291389.092426,28406888196.82294,28519872422.436836,28133390537.013832,28300242996.521324,28240521085.981903,28307482182.908615,28293959501.426517,28288101195.912636,28402857930.13582,28307511318.290466,28359673651.10244,28467714585.419113,28393558361.78296,28348134256.895287,28265408983.619488,28177528048.22046,28313025920.52238,28331978091.620674,28343689994.54513,28358011569.64314,28384912684.737595,28288372001.259808,28195482097.457073,28267428020.31692,28369938646.897835,28243738990.799736,28239429495.51703,28408986735.603333,28164158746.572216,28336222009.725178,28126254424.033276,28215725248.118282,28317212481.361046,28265406509.516495,28249599741.59851,28318657503.492367,28227143727.909225,28255620800.48864,28174719796.39944,28150494469.664948,28188468923.54986,28356046063.93284,28213730854.323326,28271236186.73511,28207231771.840355,28269354305.334923,28217721645.205532,28234077632.620815,28204858444.621826,28179183981.609684,28246428371.581104,28203850429.538948,28215641011.12331,28287140953.876816,28225583370.088383,28251697572.67148,28279520655.15096,28242929734.110363,28263569130.112408,28270854872.526688,28207319993.311344,28290091973.40475,28241215353.17356,28223435491.79649,28274727043.702446,28282343990.517754,28281979067.300873,28300693511.168514,28296980938.44982,28320731652.771317],\"type\":\"scatter\"},{\"fill\":\"tonexty\",\"line\":{\"color\":\"lightgrey\"},\"mode\":\"lines\",\"x\":[10,11,12,13,14,15,16,17,18,19,20,21,22,23,24,25,26,27,28,29,30,31,32,33,34,35,36,37,38,39,40,41,42,43,44,45,46,47,48,49,50,51,52,53,54,55,56,57,58,59,60,61,62,63,64,65,66,67,68,69,70,71,72,73,74,75,76,77,78,79,80,81,82,83,84,85,86,87,88,89,90,91,92,93,94,95,96,97,98,99,100],\"y\":[33417615279.424408,32273180955.925762,30761434692.139484,32451601094.745712,30688329831.959354,31407703541.33237,31023733295.396915,30257891998.603188,30745353817.906006,29853189426.28078,29813927243.25468,30037482331.36307,29470933441.182957,29936381728.640503,29828903442.991962,29810686512.69196,29949568970.13344,29394285592.732803,29679586682.391705,29647660096.06415,29393967206.307476,29347118184.799572,29312911707.812103,29523283886.852394,29366280145.43125,29224557564.416214,29070307734.184013,29523671474.968075,29062374807.80587,29080307337.916466,28930723228.734962,28979929425.279472,28817577513.65397,29080766558.77867,28741071702.683876,28976454606.54903,28917637619.2173,29023722049.769367,28923223102.364273,28672877990.839085,28850610928.776966,28762744465.49527,28789433105.0228,28789438968.650578,28870866281.962948,28808635095.22377,28849391395.715904,28769195837.79409,28673787996.122597,28791474296.614185,28652644845.823345,28640563363.54822,28714909609.99236,28651866362.081657,28676130090.717285,28728427994.20819,28559436692.089924,28708761334.946716,28581754336.72834,28607891589.55837,28718671483.50319,28605914478.254585,28627496819.305687,28582880796.607727,28640529877.177914,28641422082.6054,28593137344.964287,28609556763.346897,28503678884.632282,28633363528.435226,28571564563.014645,28486710271.69653,28487872991.39013,28456079116.22482,28492344531.51306,28453510786.800945,28431138752.745697,28406396338.458584,28516358095.252247,28480130554.72196,28455143021.87342,28497553776.001568,28419751540.370716,28418846451.864296,28404387927.37193,28395321360.21176,28413130988.209007,28374229545.851837,28335103159.903034,28341429408.993675,28320731652.77291],\"type\":\"scatter\"}],                        {\"showlegend\":false,\"template\":{\"data\":{\"barpolar\":[{\"marker\":{\"line\":{\"color\":\"white\",\"width\":0.5},\"pattern\":{\"fillmode\":\"overlay\",\"size\":10,\"solidity\":0.2}},\"type\":\"barpolar\"}],\"bar\":[{\"error_x\":{\"color\":\"rgb(36,36,36)\"},\"error_y\":{\"color\":\"rgb(36,36,36)\"},\"marker\":{\"line\":{\"color\":\"white\",\"width\":0.5},\"pattern\":{\"fillmode\":\"overlay\",\"size\":10,\"solidity\":0.2}},\"type\":\"bar\"}],\"carpet\":[{\"aaxis\":{\"endlinecolor\":\"rgb(36,36,36)\",\"gridcolor\":\"white\",\"linecolor\":\"white\",\"minorgridcolor\":\"white\",\"startlinecolor\":\"rgb(36,36,36)\"},\"baxis\":{\"endlinecolor\":\"rgb(36,36,36)\",\"gridcolor\":\"white\",\"linecolor\":\"white\",\"minorgridcolor\":\"white\",\"startlinecolor\":\"rgb(36,36,36)\"},\"type\":\"carpet\"}],\"choropleth\":[{\"colorbar\":{\"outlinewidth\":1,\"tickcolor\":\"rgb(36,36,36)\",\"ticks\":\"outside\"},\"type\":\"choropleth\"}],\"contourcarpet\":[{\"colorbar\":{\"outlinewidth\":1,\"tickcolor\":\"rgb(36,36,36)\",\"ticks\":\"outside\"},\"type\":\"contourcarpet\"}],\"contour\":[{\"colorbar\":{\"outlinewidth\":1,\"tickcolor\":\"rgb(36,36,36)\",\"ticks\":\"outside\"},\"colorscale\":[[0.0,\"#440154\"],[0.1111111111111111,\"#482878\"],[0.2222222222222222,\"#3e4989\"],[0.3333333333333333,\"#31688e\"],[0.4444444444444444,\"#26828e\"],[0.5555555555555556,\"#1f9e89\"],[0.6666666666666666,\"#35b779\"],[0.7777777777777778,\"#6ece58\"],[0.8888888888888888,\"#b5de2b\"],[1.0,\"#fde725\"]],\"type\":\"contour\"}],\"heatmapgl\":[{\"colorbar\":{\"outlinewidth\":1,\"tickcolor\":\"rgb(36,36,36)\",\"ticks\":\"outside\"},\"colorscale\":[[0.0,\"#440154\"],[0.1111111111111111,\"#482878\"],[0.2222222222222222,\"#3e4989\"],[0.3333333333333333,\"#31688e\"],[0.4444444444444444,\"#26828e\"],[0.5555555555555556,\"#1f9e89\"],[0.6666666666666666,\"#35b779\"],[0.7777777777777778,\"#6ece58\"],[0.8888888888888888,\"#b5de2b\"],[1.0,\"#fde725\"]],\"type\":\"heatmapgl\"}],\"heatmap\":[{\"colorbar\":{\"outlinewidth\":1,\"tickcolor\":\"rgb(36,36,36)\",\"ticks\":\"outside\"},\"colorscale\":[[0.0,\"#440154\"],[0.1111111111111111,\"#482878\"],[0.2222222222222222,\"#3e4989\"],[0.3333333333333333,\"#31688e\"],[0.4444444444444444,\"#26828e\"],[0.5555555555555556,\"#1f9e89\"],[0.6666666666666666,\"#35b779\"],[0.7777777777777778,\"#6ece58\"],[0.8888888888888888,\"#b5de2b\"],[1.0,\"#fde725\"]],\"type\":\"heatmap\"}],\"histogram2dcontour\":[{\"colorbar\":{\"outlinewidth\":1,\"tickcolor\":\"rgb(36,36,36)\",\"ticks\":\"outside\"},\"colorscale\":[[0.0,\"#440154\"],[0.1111111111111111,\"#482878\"],[0.2222222222222222,\"#3e4989\"],[0.3333333333333333,\"#31688e\"],[0.4444444444444444,\"#26828e\"],[0.5555555555555556,\"#1f9e89\"],[0.6666666666666666,\"#35b779\"],[0.7777777777777778,\"#6ece58\"],[0.8888888888888888,\"#b5de2b\"],[1.0,\"#fde725\"]],\"type\":\"histogram2dcontour\"}],\"histogram2d\":[{\"colorbar\":{\"outlinewidth\":1,\"tickcolor\":\"rgb(36,36,36)\",\"ticks\":\"outside\"},\"colorscale\":[[0.0,\"#440154\"],[0.1111111111111111,\"#482878\"],[0.2222222222222222,\"#3e4989\"],[0.3333333333333333,\"#31688e\"],[0.4444444444444444,\"#26828e\"],[0.5555555555555556,\"#1f9e89\"],[0.6666666666666666,\"#35b779\"],[0.7777777777777778,\"#6ece58\"],[0.8888888888888888,\"#b5de2b\"],[1.0,\"#fde725\"]],\"type\":\"histogram2d\"}],\"histogram\":[{\"marker\":{\"line\":{\"color\":\"white\",\"width\":0.6}},\"type\":\"histogram\"}],\"mesh3d\":[{\"colorbar\":{\"outlinewidth\":1,\"tickcolor\":\"rgb(36,36,36)\",\"ticks\":\"outside\"},\"type\":\"mesh3d\"}],\"parcoords\":[{\"line\":{\"colorbar\":{\"outlinewidth\":1,\"tickcolor\":\"rgb(36,36,36)\",\"ticks\":\"outside\"}},\"type\":\"parcoords\"}],\"pie\":[{\"automargin\":true,\"type\":\"pie\"}],\"scatter3d\":[{\"line\":{\"colorbar\":{\"outlinewidth\":1,\"tickcolor\":\"rgb(36,36,36)\",\"ticks\":\"outside\"}},\"marker\":{\"colorbar\":{\"outlinewidth\":1,\"tickcolor\":\"rgb(36,36,36)\",\"ticks\":\"outside\"}},\"type\":\"scatter3d\"}],\"scattercarpet\":[{\"marker\":{\"colorbar\":{\"outlinewidth\":1,\"tickcolor\":\"rgb(36,36,36)\",\"ticks\":\"outside\"}},\"type\":\"scattercarpet\"}],\"scattergeo\":[{\"marker\":{\"colorbar\":{\"outlinewidth\":1,\"tickcolor\":\"rgb(36,36,36)\",\"ticks\":\"outside\"}},\"type\":\"scattergeo\"}],\"scattergl\":[{\"marker\":{\"colorbar\":{\"outlinewidth\":1,\"tickcolor\":\"rgb(36,36,36)\",\"ticks\":\"outside\"}},\"type\":\"scattergl\"}],\"scattermapbox\":[{\"marker\":{\"colorbar\":{\"outlinewidth\":1,\"tickcolor\":\"rgb(36,36,36)\",\"ticks\":\"outside\"}},\"type\":\"scattermapbox\"}],\"scatterpolargl\":[{\"marker\":{\"colorbar\":{\"outlinewidth\":1,\"tickcolor\":\"rgb(36,36,36)\",\"ticks\":\"outside\"}},\"type\":\"scatterpolargl\"}],\"scatterpolar\":[{\"marker\":{\"colorbar\":{\"outlinewidth\":1,\"tickcolor\":\"rgb(36,36,36)\",\"ticks\":\"outside\"}},\"type\":\"scatterpolar\"}],\"scatter\":[{\"fillpattern\":{\"fillmode\":\"overlay\",\"size\":10,\"solidity\":0.2},\"type\":\"scatter\"}],\"scatterternary\":[{\"marker\":{\"colorbar\":{\"outlinewidth\":1,\"tickcolor\":\"rgb(36,36,36)\",\"ticks\":\"outside\"}},\"type\":\"scatterternary\"}],\"surface\":[{\"colorbar\":{\"outlinewidth\":1,\"tickcolor\":\"rgb(36,36,36)\",\"ticks\":\"outside\"},\"colorscale\":[[0.0,\"#440154\"],[0.1111111111111111,\"#482878\"],[0.2222222222222222,\"#3e4989\"],[0.3333333333333333,\"#31688e\"],[0.4444444444444444,\"#26828e\"],[0.5555555555555556,\"#1f9e89\"],[0.6666666666666666,\"#35b779\"],[0.7777777777777778,\"#6ece58\"],[0.8888888888888888,\"#b5de2b\"],[1.0,\"#fde725\"]],\"type\":\"surface\"}],\"table\":[{\"cells\":{\"fill\":{\"color\":\"rgb(237,237,237)\"},\"line\":{\"color\":\"white\"}},\"header\":{\"fill\":{\"color\":\"rgb(217,217,217)\"},\"line\":{\"color\":\"white\"}},\"type\":\"table\"}]},\"layout\":{\"annotationdefaults\":{\"arrowhead\":0,\"arrowwidth\":1},\"autotypenumbers\":\"strict\",\"coloraxis\":{\"colorbar\":{\"outlinewidth\":1,\"tickcolor\":\"rgb(36,36,36)\",\"ticks\":\"outside\"}},\"colorscale\":{\"diverging\":[[0.0,\"rgb(103,0,31)\"],[0.1,\"rgb(178,24,43)\"],[0.2,\"rgb(214,96,77)\"],[0.3,\"rgb(244,165,130)\"],[0.4,\"rgb(253,219,199)\"],[0.5,\"rgb(247,247,247)\"],[0.6,\"rgb(209,229,240)\"],[0.7,\"rgb(146,197,222)\"],[0.8,\"rgb(67,147,195)\"],[0.9,\"rgb(33,102,172)\"],[1.0,\"rgb(5,48,97)\"]],\"sequential\":[[0.0,\"#440154\"],[0.1111111111111111,\"#482878\"],[0.2222222222222222,\"#3e4989\"],[0.3333333333333333,\"#31688e\"],[0.4444444444444444,\"#26828e\"],[0.5555555555555556,\"#1f9e89\"],[0.6666666666666666,\"#35b779\"],[0.7777777777777778,\"#6ece58\"],[0.8888888888888888,\"#b5de2b\"],[1.0,\"#fde725\"]],\"sequentialminus\":[[0.0,\"#440154\"],[0.1111111111111111,\"#482878\"],[0.2222222222222222,\"#3e4989\"],[0.3333333333333333,\"#31688e\"],[0.4444444444444444,\"#26828e\"],[0.5555555555555556,\"#1f9e89\"],[0.6666666666666666,\"#35b779\"],[0.7777777777777778,\"#6ece58\"],[0.8888888888888888,\"#b5de2b\"],[1.0,\"#fde725\"]]},\"colorway\":[\"#1F77B4\",\"#FF7F0E\",\"#2CA02C\",\"#D62728\",\"#9467BD\",\"#8C564B\",\"#E377C2\",\"#7F7F7F\",\"#BCBD22\",\"#17BECF\"],\"font\":{\"color\":\"rgb(36,36,36)\"},\"geo\":{\"bgcolor\":\"white\",\"lakecolor\":\"white\",\"landcolor\":\"white\",\"showlakes\":true,\"showland\":true,\"subunitcolor\":\"white\"},\"hoverlabel\":{\"align\":\"left\"},\"hovermode\":\"closest\",\"mapbox\":{\"style\":\"light\"},\"paper_bgcolor\":\"white\",\"plot_bgcolor\":\"white\",\"polar\":{\"angularaxis\":{\"gridcolor\":\"rgb(232,232,232)\",\"linecolor\":\"rgb(36,36,36)\",\"showgrid\":false,\"showline\":true,\"ticks\":\"outside\"},\"bgcolor\":\"white\",\"radialaxis\":{\"gridcolor\":\"rgb(232,232,232)\",\"linecolor\":\"rgb(36,36,36)\",\"showgrid\":false,\"showline\":true,\"ticks\":\"outside\"}},\"scene\":{\"xaxis\":{\"backgroundcolor\":\"white\",\"gridcolor\":\"rgb(232,232,232)\",\"gridwidth\":2,\"linecolor\":\"rgb(36,36,36)\",\"showbackground\":true,\"showgrid\":false,\"showline\":true,\"ticks\":\"outside\",\"zeroline\":false,\"zerolinecolor\":\"rgb(36,36,36)\"},\"yaxis\":{\"backgroundcolor\":\"white\",\"gridcolor\":\"rgb(232,232,232)\",\"gridwidth\":2,\"linecolor\":\"rgb(36,36,36)\",\"showbackground\":true,\"showgrid\":false,\"showline\":true,\"ticks\":\"outside\",\"zeroline\":false,\"zerolinecolor\":\"rgb(36,36,36)\"},\"zaxis\":{\"backgroundcolor\":\"white\",\"gridcolor\":\"rgb(232,232,232)\",\"gridwidth\":2,\"linecolor\":\"rgb(36,36,36)\",\"showbackground\":true,\"showgrid\":false,\"showline\":true,\"ticks\":\"outside\",\"zeroline\":false,\"zerolinecolor\":\"rgb(36,36,36)\"}},\"shapedefaults\":{\"fillcolor\":\"black\",\"line\":{\"width\":0},\"opacity\":0.3},\"ternary\":{\"aaxis\":{\"gridcolor\":\"rgb(232,232,232)\",\"linecolor\":\"rgb(36,36,36)\",\"showgrid\":false,\"showline\":true,\"ticks\":\"outside\"},\"baxis\":{\"gridcolor\":\"rgb(232,232,232)\",\"linecolor\":\"rgb(36,36,36)\",\"showgrid\":false,\"showline\":true,\"ticks\":\"outside\"},\"bgcolor\":\"white\",\"caxis\":{\"gridcolor\":\"rgb(232,232,232)\",\"linecolor\":\"rgb(36,36,36)\",\"showgrid\":false,\"showline\":true,\"ticks\":\"outside\"}},\"title\":{\"x\":0.05},\"xaxis\":{\"automargin\":true,\"gridcolor\":\"rgb(232,232,232)\",\"linecolor\":\"rgb(36,36,36)\",\"showgrid\":false,\"showline\":true,\"ticks\":\"outside\",\"title\":{\"standoff\":15},\"zeroline\":false,\"zerolinecolor\":\"rgb(36,36,36)\"},\"yaxis\":{\"automargin\":true,\"gridcolor\":\"rgb(232,232,232)\",\"linecolor\":\"rgb(36,36,36)\",\"showgrid\":false,\"showline\":true,\"ticks\":\"outside\",\"title\":{\"standoff\":15},\"zeroline\":false,\"zerolinecolor\":\"rgb(36,36,36)\"}}},\"title\":{\"text\":\"MSE over test set, as a function of train set size\",\"font\":{\"family\":\"Helvetica\",\"color\":\"black\"},\"x\":0.5,\"y\":0.95},\"xaxis\":{\"title\":{\"text\":\"Percentage of training set used\"}},\"yaxis\":{\"title\":{\"text\":\"MSE over test set\"}},\"font\":{\"color\":\"black\"}},                        {\"responsive\": true}                    ).then(function(){\n                            \nvar gd = document.getElementById('31941259-ff8c-45ef-9117-84547454eaa3');\nvar x = new MutationObserver(function (mutations, observer) {{\n        var display = window.getComputedStyle(gd).display;\n        if (!display || display === 'none') {{\n            console.log([gd, 'removed!']);\n            Plotly.purge(gd);\n            observer.disconnect();\n        }}\n}});\n\n// Listen for the removal of the full notebook cells\nvar notebookContainer = gd.closest('#notebook-container');\nif (notebookContainer) {{\n    x.observe(notebookContainer, {childList: true});\n}}\n\n// Listen for the clearing of the current output cell\nvar outputEl = gd.closest('.output');\nif (outputEl) {{\n    x.observe(outputEl, {childList: true});\n}}\n\n                        })                };                });            </script>        </div>"
     },
     "metadata": {},
     "output_type": "display_data"
    }
   ],
   "source": [
    "    fig = go.Figure([go.Scatter(x=index, y=loss_avg, mode='markers+lines', marker=dict(color='black')),\n",
    "                     go.Scatter(x=index, y=loss_avg-2*loss_var, fill=None, mode='lines', line=dict(color='lightgrey')),\n",
    "                     go.Scatter(x=index, y=loss_avg+2*loss_var, fill='tonexty', mode='lines', line=dict(color='lightgrey'))],\n",
    "                    layout=go.Layout(title='MSE over test set, as a function of train set size',\n",
    "\n",
    "                                     xaxis=dict(title='Percentage of training set used'),\n",
    "                                     yaxis=dict(title='MSE over test set'),\n",
    "                                     showlegend=False,\n",
    "                                     template='simple_white'))\n",
    "    fig.update_layout(\n",
    "        title={\n",
    "            \"x\": 0.5,\n",
    "            \"y\": 0.95},\n",
    "        template=\"simple_white\",\n",
    "        font_color=\"black\",\n",
    "        title_font_family=\"Helvetica\",\n",
    "        title_font_color=\"black\",\n",
    "    )\n",
    "    fig.show()"
   ]
  }
 ],
 "metadata": {
  "kernelspec": {
   "display_name": "Python 3 (ipykernel)",
   "language": "python",
   "name": "python3"
  },
  "language_info": {
   "codemirror_mode": {
    "name": "ipython",
    "version": 3
   },
   "file_extension": ".py",
   "mimetype": "text/x-python",
   "name": "python",
   "nbconvert_exporter": "python",
   "pygments_lexer": "ipython3",
   "version": "3.7.16"
  }
 },
 "nbformat": 4,
 "nbformat_minor": 1
}
