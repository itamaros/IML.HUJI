{
 "cells": [
  {
   "cell_type": "markdown",
   "source": [
    "%reload_ext autoreload\n",
    "%autoreload 2\n",
    "import sys\n",
    "sys.path.append(\"../\")"
   ],
   "metadata": {
    "collapsed": false
   }
  },
  {
   "cell_type": "code",
   "execution_count": 35,
   "metadata": {},
   "outputs": [],
   "source": [
    "from IMLearn.learners import UnivariateGaussian  # TODO resolve import (with\\without IMLearn)\n",
    "import numpy as np\n",
    "import plotly.express as px"
   ]
  },
  {
   "cell_type": "code",
   "execution_count": 36,
   "metadata": {},
   "outputs": [],
   "source": [
    "def univariate_gaussian_estimation():\n",
    "    # Q1:\n",
    "    mu, var = 10, 1\n",
    "    samples = np.random.normal(loc=mu, scale=var, size=1000)\n",
    "\n",
    "    estimator = UnivariateGaussian().fit(samples)\n",
    "    print((estimator.mu_, estimator.var_))\n",
    "\n",
    "    # Q2:\n",
    "    expectations = [abs(mu - UnivariateGaussian().fit(samples[:n]).mu_) for n in range(10, 1010, 10)]\n",
    "    fig_1 = px.scatter(x=[n for n in range(10, 1010, 10)], y=expectations,\n",
    "                    labels={\n",
    "                        \"x\": \"sample size\",\n",
    "                        \"y\": \"absolute distance\"})\n",
    "    \n",
    "    _fig_1_config(fig_1)\n",
    "    fig_1.show()\n",
    "    \n",
    "    # Q3:\n",
    "    # I'm expecting to see a normal (Gaussian) distribution around 10, with a variance of 1\n",
    "    pdfs = estimator.pdf(samples)\n",
    "    X = np.column_stack((samples, pdfs))\n",
    "    X = X[np.argsort(X[:, 1])]\n",
    "    \n",
    "    fig_2 = px.scatter(x=X[:, 0], y=X[:, 1],\n",
    "                      labels={\n",
    "                          \"x\": \"sample\",\n",
    "                          \"y\": \"empirical PDF\"})\n",
    "    _fig_2_config(fig_2)\n",
    "    fig_2.show()"
   ]
  },
  {
   "cell_type": "code",
   "execution_count": 37,
   "metadata": {},
   "outputs": [],
   "source": [
    "def _fig_1_config(fig):\n",
    "    fig.update_layout(\n",
    "        title={\n",
    "            \"text\": \"Error of Estimated Value of Expectation, as a Function of Sample Size\",\n",
    "            \"x\": 0.5, \n",
    "            \"y\": 0.95},\n",
    "        template=\"simple_white\",\n",
    "        font_color=\"black\",\n",
    "        title_font_family=\"Helvetica\",\n",
    "        title_font_color=\"black\",\n",
    "    )\n",
    "    fig.update_traces(\n",
    "        marker=dict(size=5, symbol=\"diamond\", color=\"black\"),\n",
    "        selector=dict(mode=\"markers\"),\n",
    "    )\n",
    "    fig.update_xaxes(\n",
    "        title=\"Sample Size\",\n",
    "        title_font_family=\"Times New Roman\", tickmode = \"linear\", tick0 = 0, dtick = 50)\n",
    "    fig.update_yaxes(\n",
    "        title=\"Absolute distance between est. and true value of expectation\",\n",
    "        title_font_family=\"Times New Roman\")\n",
    "\n",
    "def _fig_2_config(fig):\n",
    "    fig.update_layout(\n",
    "        title={\n",
    "            \"text\": \"Empirical PDF Under the Fitted Model\",\n",
    "            \"x\": 0.5, \n",
    "            \"y\": 0.95},\n",
    "        template=\"simple_white\",\n",
    "        font_color=\"black\",\n",
    "        title_font_family=\"Helvetica\",\n",
    "        title_font_color=\"black\")\n",
    "    fig.update_traces(\n",
    "        marker=dict(size=5, symbol=\"diamond\", color=\"black\"),\n",
    "        selector=dict(mode=\"markers\"))\n",
    "    fig.update_xaxes(\n",
    "        title=\"x (sample)\",\n",
    "        title_font_family=\"Times New Roman\")\n",
    "    fig.update_yaxes(\n",
    "        title=\"Empirical PDF\",\n",
    "        title_font_family=\"Times New Roman\")"
   ]
  },
  {
   "cell_type": "code",
   "execution_count": 38,
   "metadata": {},
   "outputs": [],
   "source": [
    "def multivariate_gaussian_estimation():\n",
    "    # Q4:\n",
    "    pass"
   ]
  },
  {
   "cell_type": "code",
   "execution_count": 39,
   "metadata": {},
   "outputs": [
    {
     "name": "stdout",
     "output_type": "stream",
     "text": [
      "(10.000348480377385, 0.9485592794250123)\n"
     ]
    },
    {
     "data": {
      "application/vnd.plotly.v1+json": {
       "data": [
        {
         "hovertemplate": "sample size=%{x}<br>absolute distance=%{y}<extra></extra>",
         "legendgroup": "",
         "marker": {
          "color": "black",
          "symbol": "diamond",
          "size": 5
         },
         "mode": "markers",
         "name": "",
         "orientation": "v",
         "showlegend": false,
         "x": [
          10,
          20,
          30,
          40,
          50,
          60,
          70,
          80,
          90,
          100,
          110,
          120,
          130,
          140,
          150,
          160,
          170,
          180,
          190,
          200,
          210,
          220,
          230,
          240,
          250,
          260,
          270,
          280,
          290,
          300,
          310,
          320,
          330,
          340,
          350,
          360,
          370,
          380,
          390,
          400,
          410,
          420,
          430,
          440,
          450,
          460,
          470,
          480,
          490,
          500,
          510,
          520,
          530,
          540,
          550,
          560,
          570,
          580,
          590,
          600,
          610,
          620,
          630,
          640,
          650,
          660,
          670,
          680,
          690,
          700,
          710,
          720,
          730,
          740,
          750,
          760,
          770,
          780,
          790,
          800,
          810,
          820,
          830,
          840,
          850,
          860,
          870,
          880,
          890,
          900,
          910,
          920,
          930,
          940,
          950,
          960,
          970,
          980,
          990,
          1000
         ],
         "xaxis": "x",
         "y": [
          0.5005666501229751,
          0.3992327851419546,
          0.39499917759740555,
          0.23909279978733622,
          0.2607312788885636,
          0.18054971480256832,
          0.17156767986529253,
          0.14832436405328409,
          0.11815332576211546,
          0.09775767134405378,
          0.1448486721593838,
          0.12200311041474343,
          0.12037202194378693,
          0.1186101095263119,
          0.08979789048036224,
          0.05207354860286273,
          0.042039213886102544,
          0.028962003595610852,
          0.03396564822936021,
          0.06051888069569067,
          0.06836666050012319,
          0.03966843172116974,
          0.04863279231334516,
          0.02926235210962247,
          0.032202360796469875,
          0.04218853170189618,
          0.049034666464578436,
          0.044893117368413726,
          0.04243854548780135,
          0.040675846922683334,
          0.03127040757389565,
          0.02493420107028932,
          0.03958212029039743,
          0.04493482448576458,
          0.04106546414769063,
          0.03679222680996297,
          0.05198133190413046,
          0.04759112798697984,
          0.0466311022200383,
          0.04066467866672774,
          0.046999008355717464,
          0.03353699783244046,
          0.03472181396130125,
          0.0219839592507185,
          0.021771473487117277,
          0.01368512016606438,
          0.014015662990743749,
          0.02370637307001644,
          0.020359666153810352,
          0.02491355548842833,
          0.027641074890107475,
          0.04305409003137406,
          0.04190494649495946,
          0.04103906970722093,
          0.041388715618996486,
          0.041546221641290515,
          0.033644171383055976,
          0.03252388270836448,
          0.027710574732074278,
          0.019039234729673282,
          0.015842681622954657,
          0.013288653087977664,
          0.014518635279612724,
          0.012086412153147208,
          0.01077654120972582,
          0.013285414018019637,
          0.012420031069023452,
          0.01150816944065447,
          0.01192273727883908,
          0.01612648022081231,
          0.014744110676197408,
          0.018234811285894992,
          0.009969830745930608,
          0.01586207908658288,
          0.007235369052379426,
          0.005145348318180254,
          0.00397133600135291,
          8.700126110454676E-4,
          0.0043049782848783025,
          0.006236731515270932,
          0.008774152320395245,
          0.014328370613172936,
          0.011497239961521188,
          0.007788403156732571,
          0.003470449839793943,
          0.007092270347754948,
          0.006817215541254029,
          0.01191674016856581,
          0.006981008866233651,
          0.005281714593349918,
          6.317869294356626E-4,
          0.00464275227012223,
          0.006914072824157458,
          0.010506323043847132,
          0.0050301783746302675,
          0.003053169562539537,
          1.5373842167321072E-5,
          0.002485186016317087,
          7.914980729495369E-6,
          3.4848037738477444E-4
         ],
         "yaxis": "y",
         "type": "scatter"
        }
       ],
       "layout": {
        "template": {
         "data": {
          "barpolar": [
           {
            "marker": {
             "line": {
              "color": "white",
              "width": 0.5
             },
             "pattern": {
              "fillmode": "overlay",
              "size": 10,
              "solidity": 0.2
             }
            },
            "type": "barpolar"
           }
          ],
          "bar": [
           {
            "error_x": {
             "color": "rgb(36,36,36)"
            },
            "error_y": {
             "color": "rgb(36,36,36)"
            },
            "marker": {
             "line": {
              "color": "white",
              "width": 0.5
             },
             "pattern": {
              "fillmode": "overlay",
              "size": 10,
              "solidity": 0.2
             }
            },
            "type": "bar"
           }
          ],
          "carpet": [
           {
            "aaxis": {
             "endlinecolor": "rgb(36,36,36)",
             "gridcolor": "white",
             "linecolor": "white",
             "minorgridcolor": "white",
             "startlinecolor": "rgb(36,36,36)"
            },
            "baxis": {
             "endlinecolor": "rgb(36,36,36)",
             "gridcolor": "white",
             "linecolor": "white",
             "minorgridcolor": "white",
             "startlinecolor": "rgb(36,36,36)"
            },
            "type": "carpet"
           }
          ],
          "choropleth": [
           {
            "colorbar": {
             "outlinewidth": 1,
             "tickcolor": "rgb(36,36,36)",
             "ticks": "outside"
            },
            "type": "choropleth"
           }
          ],
          "contourcarpet": [
           {
            "colorbar": {
             "outlinewidth": 1,
             "tickcolor": "rgb(36,36,36)",
             "ticks": "outside"
            },
            "type": "contourcarpet"
           }
          ],
          "contour": [
           {
            "colorbar": {
             "outlinewidth": 1,
             "tickcolor": "rgb(36,36,36)",
             "ticks": "outside"
            },
            "colorscale": [
             [
              0.0,
              "#440154"
             ],
             [
              0.1111111111111111,
              "#482878"
             ],
             [
              0.2222222222222222,
              "#3e4989"
             ],
             [
              0.3333333333333333,
              "#31688e"
             ],
             [
              0.4444444444444444,
              "#26828e"
             ],
             [
              0.5555555555555556,
              "#1f9e89"
             ],
             [
              0.6666666666666666,
              "#35b779"
             ],
             [
              0.7777777777777778,
              "#6ece58"
             ],
             [
              0.8888888888888888,
              "#b5de2b"
             ],
             [
              1.0,
              "#fde725"
             ]
            ],
            "type": "contour"
           }
          ],
          "heatmapgl": [
           {
            "colorbar": {
             "outlinewidth": 1,
             "tickcolor": "rgb(36,36,36)",
             "ticks": "outside"
            },
            "colorscale": [
             [
              0.0,
              "#440154"
             ],
             [
              0.1111111111111111,
              "#482878"
             ],
             [
              0.2222222222222222,
              "#3e4989"
             ],
             [
              0.3333333333333333,
              "#31688e"
             ],
             [
              0.4444444444444444,
              "#26828e"
             ],
             [
              0.5555555555555556,
              "#1f9e89"
             ],
             [
              0.6666666666666666,
              "#35b779"
             ],
             [
              0.7777777777777778,
              "#6ece58"
             ],
             [
              0.8888888888888888,
              "#b5de2b"
             ],
             [
              1.0,
              "#fde725"
             ]
            ],
            "type": "heatmapgl"
           }
          ],
          "heatmap": [
           {
            "colorbar": {
             "outlinewidth": 1,
             "tickcolor": "rgb(36,36,36)",
             "ticks": "outside"
            },
            "colorscale": [
             [
              0.0,
              "#440154"
             ],
             [
              0.1111111111111111,
              "#482878"
             ],
             [
              0.2222222222222222,
              "#3e4989"
             ],
             [
              0.3333333333333333,
              "#31688e"
             ],
             [
              0.4444444444444444,
              "#26828e"
             ],
             [
              0.5555555555555556,
              "#1f9e89"
             ],
             [
              0.6666666666666666,
              "#35b779"
             ],
             [
              0.7777777777777778,
              "#6ece58"
             ],
             [
              0.8888888888888888,
              "#b5de2b"
             ],
             [
              1.0,
              "#fde725"
             ]
            ],
            "type": "heatmap"
           }
          ],
          "histogram2dcontour": [
           {
            "colorbar": {
             "outlinewidth": 1,
             "tickcolor": "rgb(36,36,36)",
             "ticks": "outside"
            },
            "colorscale": [
             [
              0.0,
              "#440154"
             ],
             [
              0.1111111111111111,
              "#482878"
             ],
             [
              0.2222222222222222,
              "#3e4989"
             ],
             [
              0.3333333333333333,
              "#31688e"
             ],
             [
              0.4444444444444444,
              "#26828e"
             ],
             [
              0.5555555555555556,
              "#1f9e89"
             ],
             [
              0.6666666666666666,
              "#35b779"
             ],
             [
              0.7777777777777778,
              "#6ece58"
             ],
             [
              0.8888888888888888,
              "#b5de2b"
             ],
             [
              1.0,
              "#fde725"
             ]
            ],
            "type": "histogram2dcontour"
           }
          ],
          "histogram2d": [
           {
            "colorbar": {
             "outlinewidth": 1,
             "tickcolor": "rgb(36,36,36)",
             "ticks": "outside"
            },
            "colorscale": [
             [
              0.0,
              "#440154"
             ],
             [
              0.1111111111111111,
              "#482878"
             ],
             [
              0.2222222222222222,
              "#3e4989"
             ],
             [
              0.3333333333333333,
              "#31688e"
             ],
             [
              0.4444444444444444,
              "#26828e"
             ],
             [
              0.5555555555555556,
              "#1f9e89"
             ],
             [
              0.6666666666666666,
              "#35b779"
             ],
             [
              0.7777777777777778,
              "#6ece58"
             ],
             [
              0.8888888888888888,
              "#b5de2b"
             ],
             [
              1.0,
              "#fde725"
             ]
            ],
            "type": "histogram2d"
           }
          ],
          "histogram": [
           {
            "marker": {
             "line": {
              "color": "white",
              "width": 0.6
             }
            },
            "type": "histogram"
           }
          ],
          "mesh3d": [
           {
            "colorbar": {
             "outlinewidth": 1,
             "tickcolor": "rgb(36,36,36)",
             "ticks": "outside"
            },
            "type": "mesh3d"
           }
          ],
          "parcoords": [
           {
            "line": {
             "colorbar": {
              "outlinewidth": 1,
              "tickcolor": "rgb(36,36,36)",
              "ticks": "outside"
             }
            },
            "type": "parcoords"
           }
          ],
          "pie": [
           {
            "automargin": true,
            "type": "pie"
           }
          ],
          "scatter3d": [
           {
            "line": {
             "colorbar": {
              "outlinewidth": 1,
              "tickcolor": "rgb(36,36,36)",
              "ticks": "outside"
             }
            },
            "marker": {
             "colorbar": {
              "outlinewidth": 1,
              "tickcolor": "rgb(36,36,36)",
              "ticks": "outside"
             }
            },
            "type": "scatter3d"
           }
          ],
          "scattercarpet": [
           {
            "marker": {
             "colorbar": {
              "outlinewidth": 1,
              "tickcolor": "rgb(36,36,36)",
              "ticks": "outside"
             }
            },
            "type": "scattercarpet"
           }
          ],
          "scattergeo": [
           {
            "marker": {
             "colorbar": {
              "outlinewidth": 1,
              "tickcolor": "rgb(36,36,36)",
              "ticks": "outside"
             }
            },
            "type": "scattergeo"
           }
          ],
          "scattergl": [
           {
            "marker": {
             "colorbar": {
              "outlinewidth": 1,
              "tickcolor": "rgb(36,36,36)",
              "ticks": "outside"
             }
            },
            "type": "scattergl"
           }
          ],
          "scattermapbox": [
           {
            "marker": {
             "colorbar": {
              "outlinewidth": 1,
              "tickcolor": "rgb(36,36,36)",
              "ticks": "outside"
             }
            },
            "type": "scattermapbox"
           }
          ],
          "scatterpolargl": [
           {
            "marker": {
             "colorbar": {
              "outlinewidth": 1,
              "tickcolor": "rgb(36,36,36)",
              "ticks": "outside"
             }
            },
            "type": "scatterpolargl"
           }
          ],
          "scatterpolar": [
           {
            "marker": {
             "colorbar": {
              "outlinewidth": 1,
              "tickcolor": "rgb(36,36,36)",
              "ticks": "outside"
             }
            },
            "type": "scatterpolar"
           }
          ],
          "scatter": [
           {
            "fillpattern": {
             "fillmode": "overlay",
             "size": 10,
             "solidity": 0.2
            },
            "type": "scatter"
           }
          ],
          "scatterternary": [
           {
            "marker": {
             "colorbar": {
              "outlinewidth": 1,
              "tickcolor": "rgb(36,36,36)",
              "ticks": "outside"
             }
            },
            "type": "scatterternary"
           }
          ],
          "surface": [
           {
            "colorbar": {
             "outlinewidth": 1,
             "tickcolor": "rgb(36,36,36)",
             "ticks": "outside"
            },
            "colorscale": [
             [
              0.0,
              "#440154"
             ],
             [
              0.1111111111111111,
              "#482878"
             ],
             [
              0.2222222222222222,
              "#3e4989"
             ],
             [
              0.3333333333333333,
              "#31688e"
             ],
             [
              0.4444444444444444,
              "#26828e"
             ],
             [
              0.5555555555555556,
              "#1f9e89"
             ],
             [
              0.6666666666666666,
              "#35b779"
             ],
             [
              0.7777777777777778,
              "#6ece58"
             ],
             [
              0.8888888888888888,
              "#b5de2b"
             ],
             [
              1.0,
              "#fde725"
             ]
            ],
            "type": "surface"
           }
          ],
          "table": [
           {
            "cells": {
             "fill": {
              "color": "rgb(237,237,237)"
             },
             "line": {
              "color": "white"
             }
            },
            "header": {
             "fill": {
              "color": "rgb(217,217,217)"
             },
             "line": {
              "color": "white"
             }
            },
            "type": "table"
           }
          ]
         },
         "layout": {
          "annotationdefaults": {
           "arrowhead": 0,
           "arrowwidth": 1
          },
          "autotypenumbers": "strict",
          "coloraxis": {
           "colorbar": {
            "outlinewidth": 1,
            "tickcolor": "rgb(36,36,36)",
            "ticks": "outside"
           }
          },
          "colorscale": {
           "diverging": [
            [
             0.0,
             "rgb(103,0,31)"
            ],
            [
             0.1,
             "rgb(178,24,43)"
            ],
            [
             0.2,
             "rgb(214,96,77)"
            ],
            [
             0.3,
             "rgb(244,165,130)"
            ],
            [
             0.4,
             "rgb(253,219,199)"
            ],
            [
             0.5,
             "rgb(247,247,247)"
            ],
            [
             0.6,
             "rgb(209,229,240)"
            ],
            [
             0.7,
             "rgb(146,197,222)"
            ],
            [
             0.8,
             "rgb(67,147,195)"
            ],
            [
             0.9,
             "rgb(33,102,172)"
            ],
            [
             1.0,
             "rgb(5,48,97)"
            ]
           ],
           "sequential": [
            [
             0.0,
             "#440154"
            ],
            [
             0.1111111111111111,
             "#482878"
            ],
            [
             0.2222222222222222,
             "#3e4989"
            ],
            [
             0.3333333333333333,
             "#31688e"
            ],
            [
             0.4444444444444444,
             "#26828e"
            ],
            [
             0.5555555555555556,
             "#1f9e89"
            ],
            [
             0.6666666666666666,
             "#35b779"
            ],
            [
             0.7777777777777778,
             "#6ece58"
            ],
            [
             0.8888888888888888,
             "#b5de2b"
            ],
            [
             1.0,
             "#fde725"
            ]
           ],
           "sequentialminus": [
            [
             0.0,
             "#440154"
            ],
            [
             0.1111111111111111,
             "#482878"
            ],
            [
             0.2222222222222222,
             "#3e4989"
            ],
            [
             0.3333333333333333,
             "#31688e"
            ],
            [
             0.4444444444444444,
             "#26828e"
            ],
            [
             0.5555555555555556,
             "#1f9e89"
            ],
            [
             0.6666666666666666,
             "#35b779"
            ],
            [
             0.7777777777777778,
             "#6ece58"
            ],
            [
             0.8888888888888888,
             "#b5de2b"
            ],
            [
             1.0,
             "#fde725"
            ]
           ]
          },
          "colorway": [
           "#1F77B4",
           "#FF7F0E",
           "#2CA02C",
           "#D62728",
           "#9467BD",
           "#8C564B",
           "#E377C2",
           "#7F7F7F",
           "#BCBD22",
           "#17BECF"
          ],
          "font": {
           "color": "rgb(36,36,36)"
          },
          "geo": {
           "bgcolor": "white",
           "lakecolor": "white",
           "landcolor": "white",
           "showlakes": true,
           "showland": true,
           "subunitcolor": "white"
          },
          "hoverlabel": {
           "align": "left"
          },
          "hovermode": "closest",
          "mapbox": {
           "style": "light"
          },
          "paper_bgcolor": "white",
          "plot_bgcolor": "white",
          "polar": {
           "angularaxis": {
            "gridcolor": "rgb(232,232,232)",
            "linecolor": "rgb(36,36,36)",
            "showgrid": false,
            "showline": true,
            "ticks": "outside"
           },
           "bgcolor": "white",
           "radialaxis": {
            "gridcolor": "rgb(232,232,232)",
            "linecolor": "rgb(36,36,36)",
            "showgrid": false,
            "showline": true,
            "ticks": "outside"
           }
          },
          "scene": {
           "xaxis": {
            "backgroundcolor": "white",
            "gridcolor": "rgb(232,232,232)",
            "gridwidth": 2,
            "linecolor": "rgb(36,36,36)",
            "showbackground": true,
            "showgrid": false,
            "showline": true,
            "ticks": "outside",
            "zeroline": false,
            "zerolinecolor": "rgb(36,36,36)"
           },
           "yaxis": {
            "backgroundcolor": "white",
            "gridcolor": "rgb(232,232,232)",
            "gridwidth": 2,
            "linecolor": "rgb(36,36,36)",
            "showbackground": true,
            "showgrid": false,
            "showline": true,
            "ticks": "outside",
            "zeroline": false,
            "zerolinecolor": "rgb(36,36,36)"
           },
           "zaxis": {
            "backgroundcolor": "white",
            "gridcolor": "rgb(232,232,232)",
            "gridwidth": 2,
            "linecolor": "rgb(36,36,36)",
            "showbackground": true,
            "showgrid": false,
            "showline": true,
            "ticks": "outside",
            "zeroline": false,
            "zerolinecolor": "rgb(36,36,36)"
           }
          },
          "shapedefaults": {
           "fillcolor": "black",
           "line": {
            "width": 0
           },
           "opacity": 0.3
          },
          "ternary": {
           "aaxis": {
            "gridcolor": "rgb(232,232,232)",
            "linecolor": "rgb(36,36,36)",
            "showgrid": false,
            "showline": true,
            "ticks": "outside"
           },
           "baxis": {
            "gridcolor": "rgb(232,232,232)",
            "linecolor": "rgb(36,36,36)",
            "showgrid": false,
            "showline": true,
            "ticks": "outside"
           },
           "bgcolor": "white",
           "caxis": {
            "gridcolor": "rgb(232,232,232)",
            "linecolor": "rgb(36,36,36)",
            "showgrid": false,
            "showline": true,
            "ticks": "outside"
           }
          },
          "title": {
           "x": 0.05
          },
          "xaxis": {
           "automargin": true,
           "gridcolor": "rgb(232,232,232)",
           "linecolor": "rgb(36,36,36)",
           "showgrid": false,
           "showline": true,
           "ticks": "outside",
           "title": {
            "standoff": 15
           },
           "zeroline": false,
           "zerolinecolor": "rgb(36,36,36)"
          },
          "yaxis": {
           "automargin": true,
           "gridcolor": "rgb(232,232,232)",
           "linecolor": "rgb(36,36,36)",
           "showgrid": false,
           "showline": true,
           "ticks": "outside",
           "title": {
            "standoff": 15
           },
           "zeroline": false,
           "zerolinecolor": "rgb(36,36,36)"
          }
         }
        },
        "xaxis": {
         "anchor": "y",
         "domain": [
          0.0,
          1.0
         ],
         "title": {
          "text": "Sample Size",
          "font": {
           "family": "Times New Roman"
          }
         },
         "tickmode": "linear",
         "tick0": 0,
         "dtick": 50
        },
        "yaxis": {
         "anchor": "x",
         "domain": [
          0.0,
          1.0
         ],
         "title": {
          "text": "Absolute distance between est. and true value of expectation",
          "font": {
           "family": "Times New Roman"
          }
         }
        },
        "legend": {
         "tracegroupgap": 0
        },
        "margin": {
         "t": 60
        },
        "title": {
         "font": {
          "family": "Helvetica",
          "color": "black"
         },
         "text": "Error of Estimated Value of Expectation, as a Function of Sample Size",
         "x": 0.5,
         "y": 0.95
        },
        "font": {
         "color": "black"
        }
       },
       "config": {
        "plotlyServerURL": "https://plot.ly"
       }
      },
      "text/html": "<div>                            <div id=\"c7dda014-cd67-4219-bc1a-cef414867606\" class=\"plotly-graph-div\" style=\"height:525px; width:100%;\"></div>            <script type=\"text/javascript\">                require([\"plotly\"], function(Plotly) {                    window.PLOTLYENV=window.PLOTLYENV || {};                                    if (document.getElementById(\"c7dda014-cd67-4219-bc1a-cef414867606\")) {                    Plotly.newPlot(                        \"c7dda014-cd67-4219-bc1a-cef414867606\",                        [{\"hovertemplate\":\"sample size=%{x}<br>absolute distance=%{y}<extra></extra>\",\"legendgroup\":\"\",\"marker\":{\"color\":\"black\",\"symbol\":\"diamond\",\"size\":5},\"mode\":\"markers\",\"name\":\"\",\"orientation\":\"v\",\"showlegend\":false,\"x\":[10,20,30,40,50,60,70,80,90,100,110,120,130,140,150,160,170,180,190,200,210,220,230,240,250,260,270,280,290,300,310,320,330,340,350,360,370,380,390,400,410,420,430,440,450,460,470,480,490,500,510,520,530,540,550,560,570,580,590,600,610,620,630,640,650,660,670,680,690,700,710,720,730,740,750,760,770,780,790,800,810,820,830,840,850,860,870,880,890,900,910,920,930,940,950,960,970,980,990,1000],\"xaxis\":\"x\",\"y\":[0.5005666501229751,0.3992327851419546,0.39499917759740555,0.23909279978733622,0.2607312788885636,0.18054971480256832,0.17156767986529253,0.14832436405328409,0.11815332576211546,0.09775767134405378,0.1448486721593838,0.12200311041474343,0.12037202194378693,0.1186101095263119,0.08979789048036224,0.05207354860286273,0.042039213886102544,0.028962003595610852,0.03396564822936021,0.06051888069569067,0.06836666050012319,0.03966843172116974,0.04863279231334516,0.02926235210962247,0.032202360796469875,0.04218853170189618,0.049034666464578436,0.044893117368413726,0.04243854548780135,0.040675846922683334,0.03127040757389565,0.02493420107028932,0.03958212029039743,0.04493482448576458,0.04106546414769063,0.03679222680996297,0.05198133190413046,0.04759112798697984,0.0466311022200383,0.04066467866672774,0.046999008355717464,0.03353699783244046,0.03472181396130125,0.0219839592507185,0.021771473487117277,0.01368512016606438,0.014015662990743749,0.02370637307001644,0.020359666153810352,0.02491355548842833,0.027641074890107475,0.04305409003137406,0.04190494649495946,0.04103906970722093,0.041388715618996486,0.041546221641290515,0.033644171383055976,0.03252388270836448,0.027710574732074278,0.019039234729673282,0.015842681622954657,0.013288653087977664,0.014518635279612724,0.012086412153147208,0.01077654120972582,0.013285414018019637,0.012420031069023452,0.01150816944065447,0.01192273727883908,0.01612648022081231,0.014744110676197408,0.018234811285894992,0.009969830745930608,0.01586207908658288,0.007235369052379426,0.005145348318180254,0.00397133600135291,0.0008700126110454676,0.0043049782848783025,0.006236731515270932,0.008774152320395245,0.014328370613172936,0.011497239961521188,0.007788403156732571,0.003470449839793943,0.007092270347754948,0.006817215541254029,0.01191674016856581,0.006981008866233651,0.005281714593349918,0.0006317869294356626,0.00464275227012223,0.006914072824157458,0.010506323043847132,0.0050301783746302675,0.003053169562539537,1.5373842167321072e-05,0.002485186016317087,7.914980729495369e-06,0.00034848037738477444],\"yaxis\":\"y\",\"type\":\"scatter\"}],                        {\"template\":{\"data\":{\"barpolar\":[{\"marker\":{\"line\":{\"color\":\"white\",\"width\":0.5},\"pattern\":{\"fillmode\":\"overlay\",\"size\":10,\"solidity\":0.2}},\"type\":\"barpolar\"}],\"bar\":[{\"error_x\":{\"color\":\"rgb(36,36,36)\"},\"error_y\":{\"color\":\"rgb(36,36,36)\"},\"marker\":{\"line\":{\"color\":\"white\",\"width\":0.5},\"pattern\":{\"fillmode\":\"overlay\",\"size\":10,\"solidity\":0.2}},\"type\":\"bar\"}],\"carpet\":[{\"aaxis\":{\"endlinecolor\":\"rgb(36,36,36)\",\"gridcolor\":\"white\",\"linecolor\":\"white\",\"minorgridcolor\":\"white\",\"startlinecolor\":\"rgb(36,36,36)\"},\"baxis\":{\"endlinecolor\":\"rgb(36,36,36)\",\"gridcolor\":\"white\",\"linecolor\":\"white\",\"minorgridcolor\":\"white\",\"startlinecolor\":\"rgb(36,36,36)\"},\"type\":\"carpet\"}],\"choropleth\":[{\"colorbar\":{\"outlinewidth\":1,\"tickcolor\":\"rgb(36,36,36)\",\"ticks\":\"outside\"},\"type\":\"choropleth\"}],\"contourcarpet\":[{\"colorbar\":{\"outlinewidth\":1,\"tickcolor\":\"rgb(36,36,36)\",\"ticks\":\"outside\"},\"type\":\"contourcarpet\"}],\"contour\":[{\"colorbar\":{\"outlinewidth\":1,\"tickcolor\":\"rgb(36,36,36)\",\"ticks\":\"outside\"},\"colorscale\":[[0.0,\"#440154\"],[0.1111111111111111,\"#482878\"],[0.2222222222222222,\"#3e4989\"],[0.3333333333333333,\"#31688e\"],[0.4444444444444444,\"#26828e\"],[0.5555555555555556,\"#1f9e89\"],[0.6666666666666666,\"#35b779\"],[0.7777777777777778,\"#6ece58\"],[0.8888888888888888,\"#b5de2b\"],[1.0,\"#fde725\"]],\"type\":\"contour\"}],\"heatmapgl\":[{\"colorbar\":{\"outlinewidth\":1,\"tickcolor\":\"rgb(36,36,36)\",\"ticks\":\"outside\"},\"colorscale\":[[0.0,\"#440154\"],[0.1111111111111111,\"#482878\"],[0.2222222222222222,\"#3e4989\"],[0.3333333333333333,\"#31688e\"],[0.4444444444444444,\"#26828e\"],[0.5555555555555556,\"#1f9e89\"],[0.6666666666666666,\"#35b779\"],[0.7777777777777778,\"#6ece58\"],[0.8888888888888888,\"#b5de2b\"],[1.0,\"#fde725\"]],\"type\":\"heatmapgl\"}],\"heatmap\":[{\"colorbar\":{\"outlinewidth\":1,\"tickcolor\":\"rgb(36,36,36)\",\"ticks\":\"outside\"},\"colorscale\":[[0.0,\"#440154\"],[0.1111111111111111,\"#482878\"],[0.2222222222222222,\"#3e4989\"],[0.3333333333333333,\"#31688e\"],[0.4444444444444444,\"#26828e\"],[0.5555555555555556,\"#1f9e89\"],[0.6666666666666666,\"#35b779\"],[0.7777777777777778,\"#6ece58\"],[0.8888888888888888,\"#b5de2b\"],[1.0,\"#fde725\"]],\"type\":\"heatmap\"}],\"histogram2dcontour\":[{\"colorbar\":{\"outlinewidth\":1,\"tickcolor\":\"rgb(36,36,36)\",\"ticks\":\"outside\"},\"colorscale\":[[0.0,\"#440154\"],[0.1111111111111111,\"#482878\"],[0.2222222222222222,\"#3e4989\"],[0.3333333333333333,\"#31688e\"],[0.4444444444444444,\"#26828e\"],[0.5555555555555556,\"#1f9e89\"],[0.6666666666666666,\"#35b779\"],[0.7777777777777778,\"#6ece58\"],[0.8888888888888888,\"#b5de2b\"],[1.0,\"#fde725\"]],\"type\":\"histogram2dcontour\"}],\"histogram2d\":[{\"colorbar\":{\"outlinewidth\":1,\"tickcolor\":\"rgb(36,36,36)\",\"ticks\":\"outside\"},\"colorscale\":[[0.0,\"#440154\"],[0.1111111111111111,\"#482878\"],[0.2222222222222222,\"#3e4989\"],[0.3333333333333333,\"#31688e\"],[0.4444444444444444,\"#26828e\"],[0.5555555555555556,\"#1f9e89\"],[0.6666666666666666,\"#35b779\"],[0.7777777777777778,\"#6ece58\"],[0.8888888888888888,\"#b5de2b\"],[1.0,\"#fde725\"]],\"type\":\"histogram2d\"}],\"histogram\":[{\"marker\":{\"line\":{\"color\":\"white\",\"width\":0.6}},\"type\":\"histogram\"}],\"mesh3d\":[{\"colorbar\":{\"outlinewidth\":1,\"tickcolor\":\"rgb(36,36,36)\",\"ticks\":\"outside\"},\"type\":\"mesh3d\"}],\"parcoords\":[{\"line\":{\"colorbar\":{\"outlinewidth\":1,\"tickcolor\":\"rgb(36,36,36)\",\"ticks\":\"outside\"}},\"type\":\"parcoords\"}],\"pie\":[{\"automargin\":true,\"type\":\"pie\"}],\"scatter3d\":[{\"line\":{\"colorbar\":{\"outlinewidth\":1,\"tickcolor\":\"rgb(36,36,36)\",\"ticks\":\"outside\"}},\"marker\":{\"colorbar\":{\"outlinewidth\":1,\"tickcolor\":\"rgb(36,36,36)\",\"ticks\":\"outside\"}},\"type\":\"scatter3d\"}],\"scattercarpet\":[{\"marker\":{\"colorbar\":{\"outlinewidth\":1,\"tickcolor\":\"rgb(36,36,36)\",\"ticks\":\"outside\"}},\"type\":\"scattercarpet\"}],\"scattergeo\":[{\"marker\":{\"colorbar\":{\"outlinewidth\":1,\"tickcolor\":\"rgb(36,36,36)\",\"ticks\":\"outside\"}},\"type\":\"scattergeo\"}],\"scattergl\":[{\"marker\":{\"colorbar\":{\"outlinewidth\":1,\"tickcolor\":\"rgb(36,36,36)\",\"ticks\":\"outside\"}},\"type\":\"scattergl\"}],\"scattermapbox\":[{\"marker\":{\"colorbar\":{\"outlinewidth\":1,\"tickcolor\":\"rgb(36,36,36)\",\"ticks\":\"outside\"}},\"type\":\"scattermapbox\"}],\"scatterpolargl\":[{\"marker\":{\"colorbar\":{\"outlinewidth\":1,\"tickcolor\":\"rgb(36,36,36)\",\"ticks\":\"outside\"}},\"type\":\"scatterpolargl\"}],\"scatterpolar\":[{\"marker\":{\"colorbar\":{\"outlinewidth\":1,\"tickcolor\":\"rgb(36,36,36)\",\"ticks\":\"outside\"}},\"type\":\"scatterpolar\"}],\"scatter\":[{\"fillpattern\":{\"fillmode\":\"overlay\",\"size\":10,\"solidity\":0.2},\"type\":\"scatter\"}],\"scatterternary\":[{\"marker\":{\"colorbar\":{\"outlinewidth\":1,\"tickcolor\":\"rgb(36,36,36)\",\"ticks\":\"outside\"}},\"type\":\"scatterternary\"}],\"surface\":[{\"colorbar\":{\"outlinewidth\":1,\"tickcolor\":\"rgb(36,36,36)\",\"ticks\":\"outside\"},\"colorscale\":[[0.0,\"#440154\"],[0.1111111111111111,\"#482878\"],[0.2222222222222222,\"#3e4989\"],[0.3333333333333333,\"#31688e\"],[0.4444444444444444,\"#26828e\"],[0.5555555555555556,\"#1f9e89\"],[0.6666666666666666,\"#35b779\"],[0.7777777777777778,\"#6ece58\"],[0.8888888888888888,\"#b5de2b\"],[1.0,\"#fde725\"]],\"type\":\"surface\"}],\"table\":[{\"cells\":{\"fill\":{\"color\":\"rgb(237,237,237)\"},\"line\":{\"color\":\"white\"}},\"header\":{\"fill\":{\"color\":\"rgb(217,217,217)\"},\"line\":{\"color\":\"white\"}},\"type\":\"table\"}]},\"layout\":{\"annotationdefaults\":{\"arrowhead\":0,\"arrowwidth\":1},\"autotypenumbers\":\"strict\",\"coloraxis\":{\"colorbar\":{\"outlinewidth\":1,\"tickcolor\":\"rgb(36,36,36)\",\"ticks\":\"outside\"}},\"colorscale\":{\"diverging\":[[0.0,\"rgb(103,0,31)\"],[0.1,\"rgb(178,24,43)\"],[0.2,\"rgb(214,96,77)\"],[0.3,\"rgb(244,165,130)\"],[0.4,\"rgb(253,219,199)\"],[0.5,\"rgb(247,247,247)\"],[0.6,\"rgb(209,229,240)\"],[0.7,\"rgb(146,197,222)\"],[0.8,\"rgb(67,147,195)\"],[0.9,\"rgb(33,102,172)\"],[1.0,\"rgb(5,48,97)\"]],\"sequential\":[[0.0,\"#440154\"],[0.1111111111111111,\"#482878\"],[0.2222222222222222,\"#3e4989\"],[0.3333333333333333,\"#31688e\"],[0.4444444444444444,\"#26828e\"],[0.5555555555555556,\"#1f9e89\"],[0.6666666666666666,\"#35b779\"],[0.7777777777777778,\"#6ece58\"],[0.8888888888888888,\"#b5de2b\"],[1.0,\"#fde725\"]],\"sequentialminus\":[[0.0,\"#440154\"],[0.1111111111111111,\"#482878\"],[0.2222222222222222,\"#3e4989\"],[0.3333333333333333,\"#31688e\"],[0.4444444444444444,\"#26828e\"],[0.5555555555555556,\"#1f9e89\"],[0.6666666666666666,\"#35b779\"],[0.7777777777777778,\"#6ece58\"],[0.8888888888888888,\"#b5de2b\"],[1.0,\"#fde725\"]]},\"colorway\":[\"#1F77B4\",\"#FF7F0E\",\"#2CA02C\",\"#D62728\",\"#9467BD\",\"#8C564B\",\"#E377C2\",\"#7F7F7F\",\"#BCBD22\",\"#17BECF\"],\"font\":{\"color\":\"rgb(36,36,36)\"},\"geo\":{\"bgcolor\":\"white\",\"lakecolor\":\"white\",\"landcolor\":\"white\",\"showlakes\":true,\"showland\":true,\"subunitcolor\":\"white\"},\"hoverlabel\":{\"align\":\"left\"},\"hovermode\":\"closest\",\"mapbox\":{\"style\":\"light\"},\"paper_bgcolor\":\"white\",\"plot_bgcolor\":\"white\",\"polar\":{\"angularaxis\":{\"gridcolor\":\"rgb(232,232,232)\",\"linecolor\":\"rgb(36,36,36)\",\"showgrid\":false,\"showline\":true,\"ticks\":\"outside\"},\"bgcolor\":\"white\",\"radialaxis\":{\"gridcolor\":\"rgb(232,232,232)\",\"linecolor\":\"rgb(36,36,36)\",\"showgrid\":false,\"showline\":true,\"ticks\":\"outside\"}},\"scene\":{\"xaxis\":{\"backgroundcolor\":\"white\",\"gridcolor\":\"rgb(232,232,232)\",\"gridwidth\":2,\"linecolor\":\"rgb(36,36,36)\",\"showbackground\":true,\"showgrid\":false,\"showline\":true,\"ticks\":\"outside\",\"zeroline\":false,\"zerolinecolor\":\"rgb(36,36,36)\"},\"yaxis\":{\"backgroundcolor\":\"white\",\"gridcolor\":\"rgb(232,232,232)\",\"gridwidth\":2,\"linecolor\":\"rgb(36,36,36)\",\"showbackground\":true,\"showgrid\":false,\"showline\":true,\"ticks\":\"outside\",\"zeroline\":false,\"zerolinecolor\":\"rgb(36,36,36)\"},\"zaxis\":{\"backgroundcolor\":\"white\",\"gridcolor\":\"rgb(232,232,232)\",\"gridwidth\":2,\"linecolor\":\"rgb(36,36,36)\",\"showbackground\":true,\"showgrid\":false,\"showline\":true,\"ticks\":\"outside\",\"zeroline\":false,\"zerolinecolor\":\"rgb(36,36,36)\"}},\"shapedefaults\":{\"fillcolor\":\"black\",\"line\":{\"width\":0},\"opacity\":0.3},\"ternary\":{\"aaxis\":{\"gridcolor\":\"rgb(232,232,232)\",\"linecolor\":\"rgb(36,36,36)\",\"showgrid\":false,\"showline\":true,\"ticks\":\"outside\"},\"baxis\":{\"gridcolor\":\"rgb(232,232,232)\",\"linecolor\":\"rgb(36,36,36)\",\"showgrid\":false,\"showline\":true,\"ticks\":\"outside\"},\"bgcolor\":\"white\",\"caxis\":{\"gridcolor\":\"rgb(232,232,232)\",\"linecolor\":\"rgb(36,36,36)\",\"showgrid\":false,\"showline\":true,\"ticks\":\"outside\"}},\"title\":{\"x\":0.05},\"xaxis\":{\"automargin\":true,\"gridcolor\":\"rgb(232,232,232)\",\"linecolor\":\"rgb(36,36,36)\",\"showgrid\":false,\"showline\":true,\"ticks\":\"outside\",\"title\":{\"standoff\":15},\"zeroline\":false,\"zerolinecolor\":\"rgb(36,36,36)\"},\"yaxis\":{\"automargin\":true,\"gridcolor\":\"rgb(232,232,232)\",\"linecolor\":\"rgb(36,36,36)\",\"showgrid\":false,\"showline\":true,\"ticks\":\"outside\",\"title\":{\"standoff\":15},\"zeroline\":false,\"zerolinecolor\":\"rgb(36,36,36)\"}}},\"xaxis\":{\"anchor\":\"y\",\"domain\":[0.0,1.0],\"title\":{\"text\":\"Sample Size\",\"font\":{\"family\":\"Times New Roman\"}},\"tickmode\":\"linear\",\"tick0\":0,\"dtick\":50},\"yaxis\":{\"anchor\":\"x\",\"domain\":[0.0,1.0],\"title\":{\"text\":\"Absolute distance between est. and true value of expectation\",\"font\":{\"family\":\"Times New Roman\"}}},\"legend\":{\"tracegroupgap\":0},\"margin\":{\"t\":60},\"title\":{\"font\":{\"family\":\"Helvetica\",\"color\":\"black\"},\"text\":\"Error of Estimated Value of Expectation, as a Function of Sample Size\",\"x\":0.5,\"y\":0.95},\"font\":{\"color\":\"black\"}},                        {\"responsive\": true}                    ).then(function(){\n                            \nvar gd = document.getElementById('c7dda014-cd67-4219-bc1a-cef414867606');\nvar x = new MutationObserver(function (mutations, observer) {{\n        var display = window.getComputedStyle(gd).display;\n        if (!display || display === 'none') {{\n            console.log([gd, 'removed!']);\n            Plotly.purge(gd);\n            observer.disconnect();\n        }}\n}});\n\n// Listen for the removal of the full notebook cells\nvar notebookContainer = gd.closest('#notebook-container');\nif (notebookContainer) {{\n    x.observe(notebookContainer, {childList: true});\n}}\n\n// Listen for the clearing of the current output cell\nvar outputEl = gd.closest('.output');\nif (outputEl) {{\n    x.observe(outputEl, {childList: true});\n}}\n\n                        })                };                });            </script>        </div>"
     },
     "metadata": {},
     "output_type": "display_data"
    },
    {
     "data": {
      "application/vnd.plotly.v1+json": {
       "data": [
        {
         "hovertemplate": "sample=%{x}<br>empirical PDF=%{y}<extra></extra>",
         "legendgroup": "",
         "marker": {
          "color": "black",
          "symbol": "diamond",
          "size": 5
         },
         "mode": "markers",
         "name": "",
         "orientation": "v",
         "showlegend": false,
         "x": [
          13.168998781713714,
          13.137722169907558,
          7.060527931335813,
          7.136888800570405,
          7.179295666357335,
          7.311996246201602,
          12.650185963605924,
          12.583090964004722,
          12.565239240599485,
          7.435616704737288,
          7.522886857547101,
          7.5498324785386846,
          12.450788340849005,
          7.568606075896449,
          7.5761379208417114,
          12.366459451937445,
          12.36493832116166,
          12.358112095839704,
          7.709755327511395,
          7.733258700734218,
          12.246887774267915,
          7.7571285027002865,
          7.782313977488983,
          12.187216178422641,
          12.185523842562546,
          12.169526713592013,
          7.839311173114497,
          7.840923136121399,
          12.144993337888268,
          12.125069811278312,
          12.112715816621398,
          7.897208064634328,
          12.098024725256415,
          7.90505890987629,
          7.909491472688423,
          12.085671700109776,
          12.0762678704655,
          7.948883616087631,
          7.967954306963489,
          12.028606500660361,
          7.972514005252404,
          12.011318759377778,
          7.994380259643918,
          11.998526717441285,
          8.019015581289668,
          8.030153253661092,
          8.034726820577918,
          8.035056304594663,
          8.043609816052241,
          8.062740522633145,
          8.110411505716023,
          11.872966509287188,
          11.870090896476933,
          11.864389682499324,
          8.136498795331196,
          8.143413059149328,
          11.852502466587179,
          8.150379091638511,
          8.153449760109147,
          8.154247683681636,
          11.845780326267903,
          11.830553214380663,
          8.179669420739819,
          11.796190489434869,
          8.20475063444602,
          11.783560997276918,
          8.22123588080353,
          11.776551394451111,
          11.769590549064475,
          8.231489126290198,
          11.763272022949716,
          11.752526885237708,
          11.751397641158974,
          8.258777776004735,
          11.741800127718825,
          11.737406966354913,
          8.272003049696892,
          11.726121774338262,
          8.274909027921357,
          8.281776790764965,
          11.716040403330839,
          8.290762401839302,
          8.299536106669589,
          11.700199108951518,
          8.306902627405558,
          8.31788747471711,
          11.662803960490004,
          8.349114886844616,
          8.360406392783188,
          8.362439246025499,
          8.368298367360138,
          11.631302150299254,
          11.623793779595115,
          8.380513540252698,
          8.3833234912599,
          11.616501721652863,
          11.614180200888475,
          8.387508840839367,
          11.610887553947997,
          8.397522106124995,
          11.603161077665346,
          11.601551821874093,
          8.4001320118943,
          11.59779651816762,
          8.40378007118588,
          11.59687748794877,
          11.587696337186351,
          11.57711491590539,
          11.574788473350736,
          11.570990813333097,
          11.570962639370554,
          8.429806109479177,
          8.437097786123397,
          11.557951075874492,
          11.554329798385561,
          8.446490730429844,
          11.546762256097757,
          8.454458542993452,
          11.545184258477496,
          8.456770992830048,
          11.54115246968302,
          11.538264716007026,
          8.464088477355839,
          11.524133802423771,
          8.489117544195118,
          8.492006958198408,
          8.496046621880467,
          11.504646042109272,
          11.50158313816139,
          8.502619593814133,
          11.49760832952544,
          8.503211874220442,
          11.494832094339609,
          11.483368997578415,
          11.480038562520905,
          11.479916407955155,
          8.532434955753487,
          11.467883242038877,
          11.466767403858345,
          11.458949723217303,
          11.457950559445488,
          11.455092979436042,
          11.448155766310656,
          8.560428818435057,
          11.434800157724954,
          11.431340184135122,
          8.569575437141864,
          8.583011519453201,
          8.58429158424348,
          11.403351499110805,
          8.599453570928747,
          8.599487403948075,
          11.40116447811728,
          8.604180549183745,
          11.395777715281799,
          11.391545688624268,
          8.609298949568803,
          8.610720108457551,
          11.387244055901252,
          11.385123839964225,
          8.631835202090231,
          8.632992458134638,
          8.634850156567854,
          8.636026094545013,
          8.638069430973342,
          11.36196428881173,
          8.642094309919806,
          11.358458250883624,
          8.64786659436087,
          8.653977409273022,
          8.655130438482214,
          8.657283179417385,
          11.341882447553875,
          11.341701322825452,
          11.341536591848008,
          11.34153471430803,
          11.339655067407831,
          8.66267938919314,
          11.333782832099034,
          8.669094484904019,
          8.67137373439413,
          8.672731376855745,
          11.32794879348345,
          8.677441607844266,
          8.682198369643118,
          8.683600199753986,
          8.683834457731015,
          11.30598144488043,
          8.700388476232197,
          11.291656542878506,
          8.71514954187376,
          11.283125150099037,
          11.265124708853486,
          11.261834304100748,
          11.260593586605935,
          11.254749075235733,
          8.746645547437186,
          11.253239461477405,
          8.751409151792108,
          11.243129782386442,
          8.765129652746104,
          11.230522787289528,
          8.77181173505359,
          8.772710222489836,
          11.221366772107455,
          11.220333549931418,
          8.781622633515134,
          8.78273402260453,
          8.795549179137758,
          11.202536442036106,
          8.802093961155308,
          11.197541031081029,
          8.80634741975027,
          8.809530091980891,
          11.188469109903103,
          11.183499231277791,
          11.182247658493479,
          8.819440494633316,
          8.819459177723946,
          11.178606294705434,
          8.827023043346719,
          8.827293706822758,
          8.83057844259568,
          11.16594581500202,
          11.165034670477006,
          11.164167093480094,
          11.163847684876476,
          11.161611275448555,
          8.840564502591,
          11.154290541937835,
          11.15319628491793,
          8.848652024373646,
          11.14998330737085,
          11.146220814221858,
          11.140744839152166,
          8.860995136979337,
          11.138767952561466,
          8.868563271046659,
          8.870002340931363,
          8.879375314560098,
          11.115895243656192,
          8.890260911121219,
          11.10966672062099,
          11.10935916296536,
          11.107918114919245,
          8.895292224401224,
          8.908628603093533,
          8.908678558286795,
          11.09134132160588,
          8.909648630160401,
          8.90983050651186,
          11.08973816640847,
          11.08825660230626,
          8.912701650042637,
          11.08545283439044,
          8.915830842399068,
          11.084801700167219,
          11.084532686190048,
          11.080587606278083,
          8.92244012625193,
          11.077713115407125,
          11.077312513331151,
          8.924984510085473,
          8.934008904310547,
          11.064914636860747,
          8.940475799258422,
          11.054569379547857,
          11.053446129328112,
          11.052785557065814,
          11.052709475346818,
          8.950048567355216,
          11.047146680951265,
          11.046821080428405,
          11.046654515900038,
          8.959958473592591,
          11.031177850041372,
          11.028789705336742,
          11.027636785854627,
          8.975578011618223,
          8.978568955045715,
          11.021509968009301,
          8.979668269926266,
          8.981106955817918,
          8.986120636242049,
          11.014381307949545,
          8.987659274205862,
          11.01268539242725,
          11.01113314791635,
          8.990089040660681,
          8.990307823947143,
          11.008711462440775,
          8.99552526091903,
          11.00262393290619,
          10.994640448278938,
          9.00777902386155,
          9.008434972072315,
          9.008642106530118,
          9.008881886474667,
          9.012638917165537,
          10.985521614910766,
          9.015547915868318,
          10.983766858319523,
          9.023184537831227,
          10.974911818869659,
          9.028143992390248,
          10.972263112361771,
          10.972008462063025,
          9.033698042294082,
          10.96425264042352,
          9.036765924417805,
          9.037051761512526,
          9.037264527510938,
          10.96243263050476,
          9.038474790573945,
          10.961286975806418,
          9.043404608400516,
          9.043800104000976,
          9.04846028995569,
          9.049640389127758,
          9.05002521774115,
          10.948698466540058,
          10.946293375431974,
          10.942467348782532,
          9.058505494399606,
          10.939850735472548,
          10.937699372280434,
          9.06392251071823,
          9.067917833806868,
          9.068011359421638,
          10.932053606825775,
          10.930168625730785,
          9.07095919925247,
          9.074049463434553,
          9.07659222034738,
          9.079565790348518,
          10.92106077625754,
          9.079954187091689,
          9.080709517743319,
          10.91486359448673,
          10.9146637442566,
          9.088116616643083,
          10.909045646965827,
          10.904304081622573,
          10.904246002847021,
          9.099347813762197,
          10.89861249874138,
          9.102186052663058,
          10.896428475024498,
          10.894966781330512,
          10.894747389501864,
          9.10704161139725,
          10.89319889620515,
          10.892333609787496,
          9.10977866780377,
          9.114118042411786,
          9.119307765444592,
          10.879660633252623,
          10.878196750404886,
          9.124494851614608,
          10.874797908863389,
          10.87114645832911,
          10.870996675907888,
          9.13093241950612,
          9.132646801157104,
          9.135165581256164,
          10.86390790300538,
          10.863637556936961,
          10.860280579358127,
          10.858859146013232,
          9.143371253479653,
          9.144232182586764,
          9.14613461824937,
          10.853273497624262,
          9.148733697365174,
          9.149515171363376,
          9.150114264268938,
          9.154860943447645,
          10.845028919550735,
          10.844364892131575,
          10.841597668915718,
          9.161590915952562,
          10.83564691910124,
          9.170884482406475,
          9.171038991137188,
          10.828588705408402,
          10.828566320747278,
          9.173183959001515,
          9.173402257810615,
          9.173724884641318,
          10.826827682739802,
          9.174510022887702,
          9.1766270841859,
          10.822492738161218,
          10.81806310046448,
          9.18293888383541,
          10.816264882269973,
          9.184487548521846,
          10.815943470003306,
          10.81553662062553,
          9.187485303770345,
          10.8117690753575,
          9.189028512205585,
          10.808786952811129,
          10.805232971150593,
          9.19729784292919,
          9.198552720476561,
          9.19882529803003,
          10.801571070916212,
          10.797995849354137,
          10.797564756371028,
          9.205176830380783,
          9.206139860672465,
          10.794282424866893,
          9.206682929418829,
          10.792410046852881,
          9.212501853280083,
          10.788096261172514,
          9.212691572821992,
          10.785041632926868,
          10.784679847670091,
          9.2160684457236,
          10.784324725531722,
          9.218978027417803,
          10.78161302833666,
          9.226582392143396,
          10.772270809658739,
          9.2305144461039,
          10.76963825738498,
          10.761666894615605,
          9.239478186988741,
          9.241456609808866,
          10.758611915518554,
          10.75634053110467,
          10.753051669312008,
          10.752024561988296,
          10.750567740777377,
          10.75001543645585,
          10.74770217838197,
          9.253192751633064,
          9.254589568163142,
          10.744234032657316,
          9.256909834353849,
          9.25838387584025,
          9.259794438853717,
          10.740840911125474,
          9.259981636270245,
          10.74001865697174,
          10.739420726490367,
          9.261475480119573,
          10.737644712013944,
          9.263621271548494,
          9.267187125002714,
          10.733018498500222,
          9.267906231501158,
          9.27285904207363,
          10.727423044897563,
          10.718269533264031,
          9.282520198160373,
          10.717382748732732,
          10.717267179703256,
          9.287398028501883,
          10.712113184886798,
          9.293220932356418,
          10.707242845672162,
          10.707199158536659,
          10.70566773062297,
          9.296301643424814,
          10.703418438847017,
          9.29899998069192,
          9.301726602638166,
          10.69861504866808,
          9.302741043885609,
          10.69467425890386,
          9.306023504747436,
          10.693252589861663,
          9.307875112624686,
          9.308142534796211,
          9.310185956213394,
          10.689843713272841,
          10.68876264643746,
          10.686287611878605,
          9.316840651100394,
          9.317885421436012,
          10.681759665394683,
          9.319030182762912,
          9.319505364194889,
          10.679341169056912,
          10.677837061213008,
          9.322969088279871,
          10.674615792813883,
          9.32741138914146,
          9.329139387531587,
          9.332518545632379,
          9.33415616921887,
          9.335481879541504,
          9.336154326593531,
          9.336679114376484,
          9.33740613404864,
          9.33749996163101,
          9.341555483504795,
          9.34272468262489,
          9.344404784512182,
          9.344838196134123,
          10.652044236200345,
          9.352756882975276,
          10.64756157545588,
          9.353614398819841,
          9.359565837692648,
          10.640900511412214,
          10.640793699495806,
          10.640246355957968,
          10.639693020602367,
          10.639678367132122,
          10.638558752387635,
          10.635860073995643,
          9.366129451678452,
          10.63359659315191,
          10.63247480248194,
          10.630671578193835,
          10.630658888252169,
          9.370976521528117,
          10.629409390220994,
          9.371351628000083,
          9.37295016527919,
          9.373157681330342,
          9.373507708941457,
          10.623766771902334,
          9.377539219534645,
          9.380615774090892,
          9.3815624843077,
          10.618610276228315,
          10.612278506184266,
          9.395040417828493,
          9.398645678751636,
          10.601038657208584,
          9.402370187990574,
          10.597827424260279,
          10.594324825325652,
          9.406765240515636,
          10.593353369011323,
          10.590663385893631,
          9.41199130602846,
          10.588619327041338,
          9.413723810600173,
          10.58539874170896,
          9.419130476189785,
          10.579813726265357,
          10.578042076060377,
          9.424802325110747,
          10.575241293588027,
          9.425774447711534,
          9.428186737522324,
          10.570725785695567,
          10.56953440251245,
          9.43214132534286,
          10.56756164434656,
          10.566329722553913,
          9.434889226737468,
          10.563565251172097,
          10.562916078904722,
          9.438181731959405,
          9.438406941769939,
          9.438803850907576,
          9.439322807511942,
          10.559885945221486,
          9.440903654834866,
          9.441827171220362,
          10.558409345369686,
          10.55751779966197,
          10.557091515082494,
          10.554957465529684,
          10.553860658664663,
          10.553673578847413,
          10.552684698879073,
          10.552495999302186,
          10.551873995403453,
          10.551374441945601,
          9.449481901165468,
          9.453082733914394,
          10.546605108033253,
          9.454577350613349,
          9.457070273404542,
          9.46176076973956,
          9.461855314311885,
          9.462765240795303,
          9.46343813004566,
          9.464814627776038,
          10.534976865326373,
          9.465898769854483,
          9.466445503472563,
          10.534239018563602,
          9.46772058628897,
          9.469238022518935,
          10.529663354778059,
          9.472572550324436,
          10.525968304845778,
          10.525710241225147,
          10.524558170478128,
          9.478460727921266,
          9.480288466447746,
          10.520254607991388,
          10.519539164616893,
          10.518387535198473,
          10.51679678128038,
          9.484428679526637,
          9.486298404306389,
          9.486687119584365,
          9.488646954515223,
          9.489274758521603,
          10.510968635132878,
          9.48988977414075,
          10.509726266138431,
          9.491591028131163,
          10.508015098437182,
          9.49448633953466,
          9.49452713374122,
          9.495078206180773,
          10.505168274758992,
          10.503255290830138,
          9.497526629133008,
          10.500681112490195,
          9.500367563217145,
          9.50054756554209,
          9.501441299075413,
          9.503807887380395,
          10.493845662704471,
          10.493597032623635,
          9.509457970828368,
          10.490977587589102,
          9.510545981792976,
          10.48883558689565,
          9.51304737995165,
          9.514143757109206,
          9.514420312478357,
          10.479277224131545,
          9.52187824870942,
          10.47831591095356,
          9.522463715896077,
          10.478090080343017,
          9.522662303212085,
          10.47671870356858,
          10.473407288380251,
          9.528345384044192,
          10.471152606637592,
          10.469736161863025,
          9.531631014730886,
          9.532260297670936,
          9.533237535606588,
          9.533239135735867,
          9.533678830913203,
          10.464265958917752,
          9.538591057070066,
          10.461856094002082,
          9.540631650155628,
          10.454222515332217,
          10.449796025327853,
          9.551561441688168,
          9.552819385386025,
          9.553172774716849,
          9.553216923184218,
          10.439382358381996,
          9.561329217027968,
          10.436702295709777,
          10.436087117299527,
          9.565296818891863,
          9.569654835555438,
          9.570579407376917,
          9.570635556858436,
          10.42965037433458,
          9.573151845586347,
          10.426264929911964,
          10.426180151218192,
          9.575222354198464,
          10.425108243773156,
          10.424758533425775,
          10.422883365016057,
          10.422675621777389,
          10.422329310853618,
          9.578503277855939,
          10.42091257571688,
          10.418402544255835,
          10.417466008087812,
          9.58405357048586,
          10.416420694640491,
          10.41343337350276,
          10.413329630479106,
          10.411475010260686,
          10.409727062293046,
          9.591430862586861,
          9.591849369325887,
          10.407670576686199,
          9.594740557122993,
          10.405727515853508,
          10.404921018288466,
          9.5963585005407,
          10.400496109750485,
          9.600745639828654,
          10.396872193082249,
          10.394168664567102,
          9.608882894872622,
          9.61058837707427,
          10.387006601111032,
          9.615556199512673,
          9.61606288987514,
          9.616247004278923,
          9.616560322939268,
          10.381281195896225,
          9.61941681230491,
          10.381239937060519,
          10.380085368701646,
          9.622484017275859,
          10.373025386040384,
          9.631022244735133,
          9.631802762200062,
          10.368570802500034,
          9.633035028667448,
          10.367598814151247,
          9.640763059250864,
          9.641799166704317,
          9.641851510436092,
          10.35821811401409,
          10.357885922086629,
          10.356576804680456,
          10.353326574678192,
          9.647703739500779,
          10.350959431102108,
          10.348883253738009,
          9.652152651249759,
          10.347307641127049,
          9.654305122003123,
          9.654391219408765,
          10.341224289424437,
          10.340217943977326,
          10.340217030747416,
          9.661757345880304,
          9.662344983600317,
          10.336033291866514,
          9.665774053395143,
          10.333322476196175,
          10.332003874900929,
          10.330734618339092,
          10.328918651047449,
          9.675376774577362,
          9.67714915377607,
          9.677219220099152,
          10.323226582903496,
          10.322833988048302,
          10.321539802722217,
          9.679874948093342,
          10.319434072382187,
          10.316512425392412,
          10.315625554853533,
          9.686568261075722,
          10.313598229914836,
          9.688066179550795,
          9.688536049415976,
          9.68919211160386,
          9.68945268277799,
          10.310324624852015,
          9.691227402515786,
          9.692912462880663,
          10.305366546709546,
          9.695659627653507,
          10.304795794212248,
          10.30431996469124,
          9.696835573313255,
          9.698305489708089,
          9.698311889552473,
          9.702198009890694,
          9.706781154425023,
          9.709229680745453,
          9.711250197317728,
          9.711387127934763,
          9.712410178210474,
          10.287920359131578,
          10.287910523869858,
          10.287218697134303,
          9.714686752378231,
          9.716982266534469,
          10.281148377462706,
          10.28011407639421,
          10.28003218588066,
          10.278548008320774,
          9.722923448732345,
          9.72653199193071,
          10.273006580870874,
          10.269079503783454,
          9.733977308827278,
          10.264976100111515,
          10.264280641030231,
          9.736901753564101,
          9.738057975318332,
          10.26248444470134,
          10.261220521573675,
          9.740220042981187,
          9.740525894791581,
          10.259508949383177,
          9.7427763734978,
          10.257320372730623,
          10.256841249405857,
          10.254718576021238,
          10.2537814202237,
          9.748829102883237,
          9.749307169916264,
          10.249805576352466,
          10.248787193311896,
          9.756584726375273,
          9.756830667595846,
          9.756923789683073,
          10.24298302865628,
          10.242818075084045,
          10.2414246767314,
          9.760227347082557,
          10.240014565950379,
          9.762772048781871,
          10.237578427348742,
          9.763925322218963,
          9.764603642705898,
          9.765621063114757,
          10.234614950044191,
          9.76617936904643,
          10.232479867161517,
          10.230474573085274,
          9.772260006555054,
          10.227847993757635,
          10.226387655080469,
          9.775211676659753,
          9.776678720295243,
          9.776737955156106,
          9.779674096077,
          10.216869216453768,
          9.783873263619865,
          9.784228533220833,
          10.216094567078223,
          9.784706067830951,
          9.784983443677971,
          10.214404045769385,
          9.79232719241316,
          10.208148900752517,
          9.793868045483181,
          9.796600337594235,
          10.203040070640075,
          10.202431526210752,
          10.200716674002752,
          10.200546443395226,
          9.800198735340649,
          10.19667787857179,
          10.194857083315341,
          10.193260238559974,
          10.192493652787586,
          10.191567737610423,
          9.809172528228226,
          9.810445103391777,
          9.811282338021407,
          9.811800442300763,
          10.187097299539753,
          10.184935066789398,
          10.18469927915743,
          10.183824154148699,
          9.818260917694097,
          9.818817909509853,
          10.181685214325109,
          10.180754131777869,
          9.822560329451793,
          9.822999929274404,
          9.823018586122718,
          9.82467087372476,
          9.825571231206395,
          9.832809361152481,
          10.166552979751536,
          9.835705738931484,
          10.164476493144102,
          10.161133997712867,
          10.159159491558759,
          9.841910159484378,
          10.156681762374964,
          10.154359667756987,
          9.846538609438952,
          10.153881656976191,
          10.15328667164791,
          10.152475309782833,
          10.150607972228627,
          10.149162820097986,
          10.148943186154286,
          9.852383731665833,
          10.147491037560089,
          10.147365894577407,
          10.147308564871508,
          10.145727749525204,
          10.145712037264369,
          10.144399382043176,
          9.859300490521454,
          10.140294025324462,
          9.860684836599338,
          9.862682676117148,
          9.864690720306026,
          10.134608690505338,
          10.134367424820821,
          10.131294013010159,
          9.869985189132619,
          9.871023349172349,
          9.871442521873536,
          9.871568766153437,
          9.871774908404488,
          9.872888692643981,
          9.873116066496921,
          10.124493346112711,
          9.879583033199646,
          9.880502709169189,
          9.8809562389847,
          10.117609802534636,
          9.883412833818037,
          10.116059600543316,
          10.11502644678843,
          10.1103904785454,
          9.890452418250549,
          9.890815363144092,
          9.892391155582786,
          10.107820668545372,
          10.102088672659885,
          9.900031962963077,
          10.09760825349517,
          10.097384438488948,
          10.096876704678348,
          10.09644531810499,
          10.095098166818676,
          9.908269471427932,
          10.087942161430062,
          9.913207407031337,
          9.913595144272255,
          10.085996732942418,
          9.915296068709797,
          10.084902618521076,
          9.91747905124572,
          9.91909463294779,
          9.919487297835042,
          9.921406343402492,
          10.077612094486778,
          10.077564169812598,
          10.077224829249072,
          10.076986094995425,
          10.076979237435465,
          9.923921984464908,
          10.073540272041617,
          9.930619821352463,
          10.067384028339772,
          10.067002878663232,
          10.065031529264159,
          9.93610771636348,
          9.940111827048336,
          9.940371888496433,
          10.058439879493983,
          9.942363083924972,
          10.05791776083863,
          10.057269569347364,
          10.054760070421224,
          10.053786284662175,
          9.947334157079798,
          9.948873479136086,
          10.051587562879389,
          10.04807494267099,
          9.957361452168344,
          10.040031514883497,
          9.960721001375841,
          10.038478500794076,
          9.962515047692124,
          10.037921824607324,
          10.03671691316672,
          10.034046994510566,
          9.966766892607206,
          9.968003626065077,
          10.031664504459822,
          10.031241989754847,
          9.969649452715718,
          9.971135924530232,
          10.028791686902625,
          9.973714620256136,
          9.973725610731302,
          10.023057591769465,
          10.021315252257544,
          10.019335667319307,
          9.98164521504964,
          10.018944198508137,
          9.981925199585914,
          9.982231412822156,
          9.982781642510973,
          10.017420006283206,
          9.984479519226548,
          9.984545645799596,
          9.991915249988718,
          10.0087624065899,
          10.007706504915511,
          10.007696863411915,
          10.00717507935608,
          9.99456798054104,
          9.996343833587645,
          9.997831318756509,
          9.998504145517254,
          10.001975217099401,
          10.00059986225126
         ],
         "xaxis": "x",
         "y": [
          0.0020602020740164806,
          0.0022859176958554927,
          0.004304261635785479,
          0.005436814339120856,
          0.00617346901843054,
          0.009076017428824896,
          0.010114902861561735,
          0.012171162696508383,
          0.012775231138746077,
          0.012780724119308178,
          0.016117186349156865,
          0.017285715067869654,
          0.01728911552303078,
          0.018141362099860302,
          0.018494500006788168,
          0.02141684638177811,
          0.021498237499460154,
          0.021866656894314624,
          0.025778616577927894,
          0.027276087390757122,
          0.028642859045289317,
          0.028868750866326467,
          0.03063017889375022,
          0.0329289325432176,
          0.033057609665637006,
          0.03429395609686692,
          0.034937158529606084,
          0.03506565045512582,
          0.03626144749942518,
          0.0379242966833271,
          0.038985267138056015,
          0.03979282274348746,
          0.04027721620497402,
          0.04049023867441584,
          0.040888209101366285,
          0.041389342406776615,
          0.04225194073183563,
          0.04456076318698181,
          0.046428175915119656,
          0.046841036483547885,
          0.04688347266013866,
          0.048597284917138606,
          0.04911472892866685,
          0.04992894371591924,
          0.05172476463243869,
          0.052938742740264215,
          0.05344344017050979,
          0.05347993875869094,
          0.05443404643931237,
          0.056614250988618914,
          0.062329801490519234,
          0.0645079407722716,
          0.06487490784684881,
          0.06560695254981096,
          0.0656316474804023,
          0.0665277287321717,
          0.06715256368528937,
          0.0674394544005579,
          0.06784420403168528,
          0.06794966606890457,
          0.06803817282762303,
          0.070075357325918,
          0.07137179402498381,
          0.07483234375576998,
          0.07486694119255337,
          0.07663674535238953,
          0.07722902122853323,
          0.07765129575358981,
          0.07866804735807414,
          0.07872421732989507,
          0.07959897903527964,
          0.08119961788139982,
          0.08136911744058065,
          0.08280146624827535,
          0.08281956723836752,
          0.0834893889947331,
          0.08482882450739532,
          0.08522702116821468,
          0.08527879696397105,
          0.08634868064545452,
          0.0868000007336351,
          0.08776219527585621,
          0.08915737626473863,
          0.08931121326737743,
          0.0903402413934883,
          0.09212353496010535,
          0.09543098494367519,
          0.09732000195159529,
          0.09924518120389275,
          0.09959438033918391,
          0.10060528461188481,
          0.10079519099792228,
          0.10210184841471508,
          0.10273399089266019,
          0.10322771443131475,
          0.10338119203786446,
          0.10379062113734247,
          0.10396590097000366,
          0.10437308576362674,
          0.10574554812747196,
          0.10574800985975774,
          0.10603580786921694,
          0.10621254331420751,
          0.10670932039880952,
          0.10686746923322865,
          0.1068745567108573,
          0.10853408031598046,
          0.11046651903711466,
          0.11089422448605184,
          0.11159459910185131,
          0.11159980517380005,
          0.11161307107572407,
          0.11296556849234392,
          0.11402006809044776,
          0.11469930382687422,
          0.11472252451144875,
          0.11612664079845982,
          0.11622583864334239,
          0.11642561675424491,
          0.11666435132191183,
          0.11719160450708993,
          0.11774209576426743,
          0.11805852040736382,
          0.12045810934014783,
          0.12290191500797407,
          0.12346843917752709,
          0.1242630384640994,
          0.12426388521359798,
          0.12486833376541782,
          0.12556226521486377,
          0.12565527489520792,
          0.12567972045706358,
          0.12620661285788884,
          0.12849776834899315,
          0.12916783994483386,
          0.12919245460461087,
          0.13155305027935243,
          0.13163017181298692,
          0.13185751933621842,
          0.13345647796252774,
          0.13366160987197948,
          0.1342492434420909,
          0.1356817254709262,
          0.13732057449026217,
          0.13846295696606084,
          0.13918845969841978,
          0.1392343778813159,
          0.14207144059877563,
          0.14234331381299126,
          0.145131394850741,
          0.1455842913532523,
          0.14559156583334298,
          0.14560125855090494,
          0.1466024609467258,
          0.1467619024982186,
          0.14767706151450677,
          0.14770904865310439,
          0.14801705407105484,
          0.14861024536786394,
          0.14907129624531307,
          0.15263139817560423,
          0.15288633740069776,
          0.15329601963834794,
          0.15355563024454497,
          0.15400724765080698,
          0.1541539763863032,
          0.15489871918375914,
          0.15493074891209724,
          0.1561815829474878,
          0.1575452325522109,
          0.15780317044231562,
          0.15828528543814385,
          0.15862865835764442,
          0.15866929547549047,
          0.15870625876709035,
          0.15870668008385225,
          0.15912873453441737,
          0.15949684707433098,
          0.1604506758060888,
          0.16094281295365573,
          0.16145802044051075,
          0.16176526789507165,
          0.16176906941651975,
          0.16283332516368157,
          0.1639151993423192,
          0.1642346522631327,
          0.16428806310731356,
          0.16677754849695287,
          0.16808207359732785,
          0.1700801935125839,
          0.17149720193000653,
          0.17206043477864,
          0.1762701464619408,
          0.1770441871956129,
          0.17733641196372926,
          0.17871556281100312,
          0.17888047724878156,
          0.1790724836468203,
          0.18000811137278327,
          0.1814699384489084,
          0.18327138845917812,
          0.1844767868164125,
          0.18486872116516917,
          0.1850838967061055,
          0.1866721309387074,
          0.18692046473308263,
          0.18722327931763574,
          0.18749069041189578,
          0.19058394469300857,
          0.19121642735573313,
          0.1921704880959771,
          0.19242834671495226,
          0.19320398032399774,
          0.19397851003328045,
          0.1946358353879966,
          0.19584867952598373,
          0.19615449640625424,
          0.1963967990326141,
          0.19640136714019782,
          0.19704511720420767,
          0.19825353234481713,
          0.1983199108086953,
          0.19912601883390485,
          0.20015148684987544,
          0.20037561862618009,
          0.20058910335846822,
          0.20066771742439243,
          0.20121840856032372,
          0.20158279699572124,
          0.20302416309384508,
          0.2032944777485632,
          0.20357900686563965,
          0.2040887734361548,
          0.2050200270544834,
          0.2063774786158499,
          0.20663631057832987,
          0.20686813173052618,
          0.20851698447436565,
          0.20887509685340527,
          0.21121137334587184,
          0.21256686698390703,
          0.2139326286248488,
          0.21412525991640077,
          0.2142022800041986,
          0.21456323845530975,
          0.21519312660132142,
          0.21854212812502,
          0.21855469320045567,
          0.2187250117731455,
          0.2187987215366249,
          0.21884447995321538,
          0.21912838994876346,
          0.21950130656977368,
          0.21956708798322766,
          0.22020737123280137,
          0.22035517827421117,
          0.22037140784391915,
          0.2204391859368749,
          0.22143360644327728,
          0.2220215096333212,
          0.22215869620118442,
          0.22225978261485688,
          0.22266361961678421,
          0.22494368001003212,
          0.22539220607076668,
          0.22657995594575747,
          0.2280115008363057,
          0.22829616968614416,
          0.22846360463119408,
          0.22848289016371987,
          0.2290054305405545,
          0.22989359082818925,
          0.22997619860155116,
          0.23001845905288168,
          0.23152011857348612,
          0.2339493884177412,
          0.23455663422247183,
          0.23484985147066248,
          0.23549033018946555,
          0.23625137457077663,
          0.23640866242764358,
          0.2365311518926471,
          0.2368973442956594,
          0.23817386387431497,
          0.23822352770026842,
          0.2385657221912402,
          0.23865545086655177,
          0.23905083433161445,
          0.2391846296181228,
          0.23924036351573066,
          0.23966777217896854,
          0.24056973612948676,
          0.2412190585269443,
          0.24325431603091127,
          0.24369354153756867,
          0.2438608105447253,
          0.2439136313934603,
          0.24397477759442998,
          0.2449329221715471,
          0.2455798405820183,
          0.24567486836359484,
          0.24602741596016836,
          0.24762280479461363,
          0.2482861974097167,
          0.24888792290311554,
          0.24896186283111724,
          0.2490268219928688,
          0.25030468720441523,
          0.2510051871409417,
          0.25108721703135484,
          0.2511601235346037,
          0.2512143919909341,
          0.25146939972747595,
          0.2515230785284347,
          0.2517616002636917,
          0.25278035594097525,
          0.2528812124280593,
          0.2540694997121536,
          0.25437037064299617,
          0.2544684804509063,
          0.2549715251843901,
          0.2555845780312624,
          0.25655963935053155,
          0.2566299384077076,
          0.25722633751686336,
          0.2577743964268355,
          0.2580099918179218,
          0.25902746944626254,
          0.2590512831331056,
          0.2592121976331754,
          0.25969208420502077,
          0.2598017635090197,
          0.2605882745299129,
          0.2612352510389429,
          0.26199161575748714,
          0.26200951830604835,
          0.2620903904968113,
          0.26228246888327106,
          0.2635849847853163,
          0.2636357710310214,
          0.26416512854780294,
          0.2650628945946733,
          0.2662664746143728,
          0.26628121180257175,
          0.26701610503871326,
          0.2677100431592269,
          0.2677357977265677,
          0.26826362507112994,
          0.2686340035486903,
          0.2686895871145784,
          0.2689662268033529,
          0.26908184135821583,
          0.2693009829425804,
          0.26965935065006985,
          0.27075752066909375,
          0.27206967116799124,
          0.27250640688074346,
          0.27287614518083,
          0.2733797525996682,
          0.2737341540827057,
          0.2746552112160943,
          0.2746929766195977,
          0.2750035912953231,
          0.27543562892904894,
          0.27607006114466753,
          0.2764787778531306,
          0.2765468226718114,
          0.27739137384843043,
          0.2777487616045892,
          0.2781341626454228,
          0.27835047292195103,
          0.27882828806695426,
          0.2791518547009501,
          0.2794806743728113,
          0.27967673844211993,
          0.2798270160442591,
          0.2810167812723754,
          0.2812189201925198,
          0.28138519104627163,
          0.28207774436550526,
          0.28270082911306865,
          0.28356506426284145,
          0.2850205970357102,
          0.2850591050584143,
          0.28532554229500834,
          0.2853311190477934,
          0.2855934880368871,
          0.2856478519999458,
          0.28572818991816784,
          0.2857641427467224,
          0.28592366200904146,
          0.28645047554177816,
          0.2868426835112194,
          0.2879430964752675,
          0.2880188065024499,
          0.2883893121746596,
          0.2884030720468934,
          0.288469037678084,
          0.28856994218045623,
          0.2891462761299533,
          0.28950362602788543,
          0.28952854562495783,
          0.2902417261720988,
          0.29112025967825866,
          0.2915731036974378,
          0.2918827873928107,
          0.2919500345684869,
          0.2920241845394884,
          0.29290542598417085,
          0.2930115970446531,
          0.29351489574981204,
          0.293751803161699,
          0.2938193562113231,
          0.2938853567833335,
          0.29427963542705654,
          0.29531442339078634,
          0.2953386678706074,
          0.29536095583322847,
          0.29608736892308396,
          0.29617597652425887,
          0.2961885476315119,
          0.29626293824084726,
          0.2969006143443746,
          0.29692651492975025,
          0.29875714615294274,
          0.2992062803946325,
          0.29971450116487547,
          0.2998468703702528,
          0.30178150498125994,
          0.30189003249985547,
          0.30236887561035575,
          0.3025208752116181,
          0.3030698399101332,
          0.303863552849312,
          0.30411114346431317,
          0.304462084580659,
          0.3045950596796109,
          0.30515157445807,
          0.3051991683727083,
          0.3055348301796691,
          0.30598459923112215,
          0.3060918260095847,
          0.30644530367613126,
          0.30678328331399274,
          0.30679803946275636,
          0.30682811660910614,
          0.30699492459755096,
          0.3071380382804003,
          0.3071857165495131,
          0.307562834416327,
          0.3076988439822725,
          0.30855013758960725,
          0.30866729706458174,
          0.3087215971275821,
          0.3099005181186181,
          0.30999911103930683,
          0.3121679888328583,
          0.3121899067083197,
          0.3123774463937201,
          0.3124047349487541,
          0.3133405021154686,
          0.3136196508451148,
          0.31470924131501227,
          0.3147639435763614,
          0.3147741911781213,
          0.31513322529946763,
          0.3154312532636457,
          0.31565988593246397,
          0.3160624127668139,
          0.316699001790075,
          0.3167818680075449,
          0.31693553820269554,
          0.3176995694625212,
          0.3176997561756663,
          0.3180300111687352,
          0.3181300634533531,
          0.31819216454574184,
          0.31866629749338454,
          0.3188209773826662,
          0.31907141302466663,
          0.31964402771654554,
          0.3202055117950661,
          0.3204464801256118,
          0.3206888972357835,
          0.3207102950992572,
          0.3208197362257499,
          0.3212455436218101,
          0.32159121941884006,
          0.32161629791363544,
          0.3223302006309454,
          0.32263482807411087,
          0.3230300786366096,
          0.3238014584313001,
          0.32417454667507867,
          0.3244762168322163,
          0.3246291119529511,
          0.32474837610138685,
          0.32491351633891913,
          0.32493482190573647,
          0.325854161269108,
          0.3261186376411864,
          0.3264982337850264,
          0.3265960712144239,
          0.3274556234175647,
          0.3283773408792598,
          0.32846218223914964,
          0.3285695134844397,
          0.3298993094608059,
          0.32995069779954256,
          0.32997449567265724,
          0.3300964093623817,
          0.33021959742447515,
          0.3302228588764058,
          0.33047192780988593,
          0.3310712485996135,
          0.3313577843539822,
          0.3315727959599274,
          0.33182098224877987,
          0.33221939543430357,
          0.33222219687100224,
          0.3324292783358528,
          0.33249787586446455,
          0.3325120003931626,
          0.3328642023637044,
          0.33290988547021083,
          0.33298692138360064,
          0.33373882728653986,
          0.3338723747557157,
          0.33454581541222894,
          0.3347526461007542,
          0.33486708863023007,
          0.33624483045601666,
          0.33767651187542785,
          0.33845195945721507,
          0.33866924804708537,
          0.33925004413184795,
          0.33935680978667976,
          0.3401041322112876,
          0.3401878340395826,
          0.34031091603253244,
          0.34088239136105,
          0.34129726925604525,
          0.3413155434928712,
          0.34166368735061986,
          0.3419960713151682,
          0.3428027329927629,
          0.34317053867437886,
          0.34354157903836446,
          0.343990333787463,
          0.3441266482705002,
          0.344193122610249,
          0.34469536946858265,
          0.3450660047539042,
          0.34531303663408486,
          0.34551572829212895,
          0.34572133708306635,
          0.3459758319752636,
          0.3460835557533707,
          0.3465455905236516,
          0.3466791161832649,
          0.3467615142037282,
          0.3468077907405371,
          0.34688931826239966,
          0.34699585704486263,
          0.3473010121805427,
          0.3473199898084484,
          0.347509061601515,
          0.3476032501650401,
          0.3477854765654319,
          0.34787253722742645,
          0.34830770157749996,
          0.3485309174831027,
          0.34856896105207213,
          0.3487699097001968,
          0.3488082273306025,
          0.34893446947554274,
          0.3490357890344592,
          0.3490681018704469,
          0.3497964281815388,
          0.3499999529106591,
          0.3500977791200384,
          0.35059915340639247,
          0.35153820530314245,
          0.35155707542181164,
          0.35173856966937755,
          0.3518726471065519,
          0.35214655857887994,
          0.3523264715416859,
          0.35236194834606566,
          0.3524704538617094,
          0.3524729215635639,
          0.3527232065225358,
          0.3530234472472517,
          0.3533779443834332,
          0.3536811005433581,
          0.3541047815191686,
          0.3541554094590763,
          0.35438121207951323,
          0.35483523414846735,
          0.35519161165025614,
          0.35522157606145643,
          0.355360802347427,
          0.35558462265687,
          0.35589320072842984,
          0.35599556945070515,
          0.35635712311861584,
          0.3564321711834784,
          0.3568099255969872,
          0.3569307126107804,
          0.3570179102697809,
          0.3570489349812111,
          0.3572564663474628,
          0.3573754229724506,
          0.35758434816283813,
          0.35792923836933266,
          0.3579370250179995,
          0.35804216675127004,
          0.358128053710093,
          0.35849215195844536,
          0.3585082987502097,
          0.35898049391906295,
          0.35904707389481416,
          0.359081135167661,
          0.3592501196830512,
          0.35969650851550705,
          0.3602682490759914,
          0.360314841845592,
          0.3607558650749716,
          0.36080465798789174,
          0.3609588236549902,
          0.3612037486728873,
          0.3614241594031454,
          0.3616275558741723,
          0.3616788072523705,
          0.3629686211495264,
          0.3630526190831893,
          0.3631446604434394,
          0.3631597860360332,
          0.3631859764552473,
          0.3631961138647024,
          0.3634365530144634,
          0.3640393487726005,
          0.36423085091644936,
          0.3644479424533484,
          0.3647038656078483,
          0.3648247538514738,
          0.36493813810962367,
          0.3651139846393168,
          0.36511427233843663,
          0.3651932996368758,
          0.36568664830040515,
          0.366072274793989,
          0.36611678241920476,
          0.3664352920147548,
          0.36746778324133356,
          0.3682431093883554,
          0.3683582887793984,
          0.3685772803786942,
          0.3686387136271753,
          0.3686463857116803,
          0.37004343749238866,
          0.37004594053980827,
          0.37050133911883604,
          0.3706061292374342,
          0.3707230095568176,
          0.3714610259847741,
          0.3716168314030602,
          0.3716262848232408,
          0.37169545614573474,
          0.3720489089043502,
          0.37226315356192824,
          0.37227732329762286,
          0.3723951580424252,
          0.3724562828016403,
          0.37251458942008886,
          0.3728265689252349,
          0.37286106305235794,
          0.37291853462876795,
          0.3729410321530245,
          0.37315324801799304,
          0.37356751196623333,
          0.37372156293225234,
          0.37385664268245467,
          0.3738931734213552,
          0.3743816630533175,
          0.3743985753885119,
          0.3747003297958499,
          0.37498370612200743,
          0.37505827176416917,
          0.3751259095543105,
          0.3753158289836415,
          0.375591613415388,
          0.3756283652594346,
          0.3757577254935044,
          0.37585103377552304,
          0.3764636695231698,
          0.3765501386679859,
          0.37703701513996646,
          0.37746190969885934,
          0.37782998353319674,
          0.378095430744767,
          0.37857573643593506,
          0.3788630826293565,
          0.37894091233359645,
          0.3789691716094648,
          0.3790172358422671,
          0.3794537423539853,
          0.3794539019690671,
          0.3794600292992936,
          0.3796357262579931,
          0.3799197013221536,
          0.3807002151933154,
          0.38119945667095,
          0.38131519770326916,
          0.381363091846768,
          0.38149750026608203,
          0.3815068238918541,
          0.38262881436081025,
          0.38277891381056656,
          0.38278648684096817,
          0.3828771747352942,
          0.382925140846708,
          0.383113792526866,
          0.3835795758525849,
          0.38362713844013624,
          0.3839164714382243,
          0.3842103315150471,
          0.3842581608929809,
          0.38443232631291013,
          0.38456095405658125,
          0.38457303147414473,
          0.38528117765342146,
          0.3854203309362142,
          0.3854204570498085,
          0.3855965718477797,
          0.3856773925117167,
          0.38599508674807903,
          0.38614654352012967,
          0.38636406379588567,
          0.3865425873846971,
          0.3867138386208448,
          0.38695784257261334,
          0.387437829137112,
          0.38767251412666187,
          0.38768176831670753,
          0.3877149259505923,
          0.3877667100140671,
          0.3879370182895325,
          0.38803121270681784,
          0.3882128166504664,
          0.3885927959605621,
          0.388707520782541,
          0.388900498088222,
          0.38896868971215176,
          0.38909278833403455,
          0.3891529362222059,
          0.3892367825265793,
          0.389270040143859,
          0.38938721864804066,
          0.38949588788511785,
          0.38970924940259943,
          0.3900135738319317,
          0.39005484123380657,
          0.3900850929133373,
          0.39014462512613546,
          0.3902019193276937,
          0.3903850426626591,
          0.39038583820392103,
          0.39086609050367027,
          0.39142523255528744,
          0.3917207245954513,
          0.3919628660791522,
          0.39197922040784416,
          0.39210118489236656,
          0.3921447726016953,
          0.39214594185204854,
          0.39222809702313516,
          0.392371172685295,
          0.3926414226884195,
          0.39294119024507107,
          0.39306129847953464,
          0.39307079064688594,
          0.3932423839156614,
          0.39333159439752907,
          0.3937442292382778,
          0.3938756355401354,
          0.3943172944280099,
          0.3945798476613995,
          0.39477245587125676,
          0.39484895564355027,
          0.39490224231732257,
          0.395028795938685,
          0.3950456720016254,
          0.3951833477668292,
          0.3952640579311273,
          0.3952971927459311,
          0.3953687998699362,
          0.3955398869580478,
          0.3956042831494546,
          0.3956555873051199,
          0.39588180911197185,
          0.395981128179808,
          0.3961828642737883,
          0.39623304142782884,
          0.3963986808298734,
          0.3965046416706477,
          0.39698585627043204,
          0.3970109350030923,
          0.3970204245083853,
          0.39710080615814325,
          0.39711755605604226,
          0.3972586195504495,
          0.39735486644308976,
          0.39740059786161475,
          0.3976095571610003,
          0.3976440383064296,
          0.39772414411348905,
          0.3977912955989937,
          0.39789167626098104,
          0.39793701963804756,
          0.3979465860286133,
          0.398145951724122,
          0.39834053967976657,
          0.39853663117430993,
          0.3985930031007019,
          0.3987321837755071,
          0.39881776224428417,
          0.3989562009776398,
          0.39896177271849137,
          0.3992361982994505,
          0.39961853706314016,
          0.39962268883041,
          0.3996550640680363,
          0.39968907886694577,
          0.39969850149379693,
          0.399723690158725,
          0.39984218751023887,
          0.4003793460810246,
          0.40039872934251264,
          0.4005141609731174,
          0.4007508645088051,
          0.40084158729861524,
          0.40089363626119146,
          0.40103950212002637,
          0.40105391704503546,
          0.4010579979536388,
          0.40137833652454485,
          0.40152892745284546,
          0.40165988734766195,
          0.4017223878453832,
          0.4017975596905506,
          0.4018010669350644,
          0.4019037907069115,
          0.40197101332328167,
          0.40201246939358914,
          0.40215558311616934,
          0.4023258226167751,
          0.4023442713724237,
          0.4024125450460764,
          0.4025201969857886,
          0.4025631714759895,
          0.40257809708147735,
          0.40264957663098927,
          0.4028486187245202,
          0.40288177138162096,
          0.40288317664257556,
          0.403007062291952,
          0.40307409725292404,
          0.40360087581815185,
          0.40369564762541765,
          0.4038056140171442,
          0.4038416360978286,
          0.404072884932477,
          0.40420731549415506,
          0.4042325080379712,
          0.40437371895690094,
          0.40452735561824366,
          0.4045405697334078,
          0.4045587040423875,
          0.4045975910130025,
          0.4046503825317934,
          0.40477084037665206,
          0.4048630669770306,
          0.40487700736298377,
          0.4049168797972567,
          0.40496867054017804,
          0.40497652870699036,
          0.40498012645808656,
          0.40507879087701715,
          0.4050797663005809,
          0.40516089237417036,
          0.4053437736110921,
          0.40540996747243835,
          0.40542681194000235,
          0.40554523546944865,
          0.40566257868780503,
          0.4057432488237968,
          0.4057570923498901,
          0.4059313024261834,
          0.40596385854563144,
          0.406021553874665,
          0.40604472080673903,
          0.40605168362566874,
          0.4060630386912729,
          0.40612408076117534,
          0.40613647805989733,
          0.4063026685342427,
          0.406479964558932,
          0.40652738010006373,
          0.4065506312146874,
          0.406658714348509,
          0.40667506408771564,
          0.4067361373123551,
          0.4067871728147013,
          0.40701061961409657,
          0.40701750578653206,
          0.4070345926677821,
          0.40710813125202,
          0.40713055956100147,
          0.4073879958406413,
          0.40744977340435523,
          0.40757950407873866,
          0.4075888468410904,
          0.4076099622818019,
          0.4076278164344705,
          0.40768306225051876,
          0.40779030065311883,
          0.40796356568919934,
          0.407980573060652,
          0.4079950733231497,
          0.4080360482915418,
          0.4080579249618799,
          0.4080761030183553,
          0.40813677951063876,
          0.40819382754899275,
          0.40820752452186393,
          0.4082735167389442,
          0.40832994686622537,
          0.40833154034791974,
          0.40834279521618966,
          0.4083506837672404,
          0.40835091000291657,
          0.4083576394953852,
          0.40846182825509236,
          0.40856840860976645,
          0.4086477389259416,
          0.40865871519550945,
          0.4087144912903473,
          0.4087267760684795,
          0.4088341731084051,
          0.40884091038835146,
          0.40888888078273666,
          0.4088915327882794,
          0.4089018966374071,
          0.4089178924176625,
          0.4089781183171127,
          0.4090007594811059,
          0.40901047851427874,
          0.40904515697293187,
          0.4090503818008489,
          0.40912534313988236,
          0.40921807083975315,
          0.40927699305600174,
          0.4092779436196939,
          0.40930306446803966,
          0.40930792530420046,
          0.40931215675582044,
          0.4093313794997394,
          0.40937174526621917,
          0.40937344281934257,
          0.4093910370496966,
          0.4094051711346637,
          0.40941084345348033,
          0.4094134285282573,
          0.40943264816970804,
          0.4094422214190252,
          0.4094637295207787,
          0.4094638558523787,
          0.40950552990649086,
          0.40952195653708034,
          0.4095390301617615,
          0.40954134026747385,
          0.409542206231449,
          0.4095435842685393,
          0.40954599974927186,
          0.40955023839249677,
          0.4095539422209051,
          0.40956249406273626,
          0.40956294620452716,
          0.4096015076141385,
          0.4096015778315792,
          0.4096051734860035,
          0.40960520410016316,
          0.40960680102751873,
          0.4096096485174613,
          0.40961340042439287,
          0.4096154950262034,
          0.40961612863474484,
          0.40961629171500946,
          0.4096168494409186
         ],
         "yaxis": "y",
         "type": "scatter"
        }
       ],
       "layout": {
        "template": {
         "data": {
          "barpolar": [
           {
            "marker": {
             "line": {
              "color": "white",
              "width": 0.5
             },
             "pattern": {
              "fillmode": "overlay",
              "size": 10,
              "solidity": 0.2
             }
            },
            "type": "barpolar"
           }
          ],
          "bar": [
           {
            "error_x": {
             "color": "rgb(36,36,36)"
            },
            "error_y": {
             "color": "rgb(36,36,36)"
            },
            "marker": {
             "line": {
              "color": "white",
              "width": 0.5
             },
             "pattern": {
              "fillmode": "overlay",
              "size": 10,
              "solidity": 0.2
             }
            },
            "type": "bar"
           }
          ],
          "carpet": [
           {
            "aaxis": {
             "endlinecolor": "rgb(36,36,36)",
             "gridcolor": "white",
             "linecolor": "white",
             "minorgridcolor": "white",
             "startlinecolor": "rgb(36,36,36)"
            },
            "baxis": {
             "endlinecolor": "rgb(36,36,36)",
             "gridcolor": "white",
             "linecolor": "white",
             "minorgridcolor": "white",
             "startlinecolor": "rgb(36,36,36)"
            },
            "type": "carpet"
           }
          ],
          "choropleth": [
           {
            "colorbar": {
             "outlinewidth": 1,
             "tickcolor": "rgb(36,36,36)",
             "ticks": "outside"
            },
            "type": "choropleth"
           }
          ],
          "contourcarpet": [
           {
            "colorbar": {
             "outlinewidth": 1,
             "tickcolor": "rgb(36,36,36)",
             "ticks": "outside"
            },
            "type": "contourcarpet"
           }
          ],
          "contour": [
           {
            "colorbar": {
             "outlinewidth": 1,
             "tickcolor": "rgb(36,36,36)",
             "ticks": "outside"
            },
            "colorscale": [
             [
              0.0,
              "#440154"
             ],
             [
              0.1111111111111111,
              "#482878"
             ],
             [
              0.2222222222222222,
              "#3e4989"
             ],
             [
              0.3333333333333333,
              "#31688e"
             ],
             [
              0.4444444444444444,
              "#26828e"
             ],
             [
              0.5555555555555556,
              "#1f9e89"
             ],
             [
              0.6666666666666666,
              "#35b779"
             ],
             [
              0.7777777777777778,
              "#6ece58"
             ],
             [
              0.8888888888888888,
              "#b5de2b"
             ],
             [
              1.0,
              "#fde725"
             ]
            ],
            "type": "contour"
           }
          ],
          "heatmapgl": [
           {
            "colorbar": {
             "outlinewidth": 1,
             "tickcolor": "rgb(36,36,36)",
             "ticks": "outside"
            },
            "colorscale": [
             [
              0.0,
              "#440154"
             ],
             [
              0.1111111111111111,
              "#482878"
             ],
             [
              0.2222222222222222,
              "#3e4989"
             ],
             [
              0.3333333333333333,
              "#31688e"
             ],
             [
              0.4444444444444444,
              "#26828e"
             ],
             [
              0.5555555555555556,
              "#1f9e89"
             ],
             [
              0.6666666666666666,
              "#35b779"
             ],
             [
              0.7777777777777778,
              "#6ece58"
             ],
             [
              0.8888888888888888,
              "#b5de2b"
             ],
             [
              1.0,
              "#fde725"
             ]
            ],
            "type": "heatmapgl"
           }
          ],
          "heatmap": [
           {
            "colorbar": {
             "outlinewidth": 1,
             "tickcolor": "rgb(36,36,36)",
             "ticks": "outside"
            },
            "colorscale": [
             [
              0.0,
              "#440154"
             ],
             [
              0.1111111111111111,
              "#482878"
             ],
             [
              0.2222222222222222,
              "#3e4989"
             ],
             [
              0.3333333333333333,
              "#31688e"
             ],
             [
              0.4444444444444444,
              "#26828e"
             ],
             [
              0.5555555555555556,
              "#1f9e89"
             ],
             [
              0.6666666666666666,
              "#35b779"
             ],
             [
              0.7777777777777778,
              "#6ece58"
             ],
             [
              0.8888888888888888,
              "#b5de2b"
             ],
             [
              1.0,
              "#fde725"
             ]
            ],
            "type": "heatmap"
           }
          ],
          "histogram2dcontour": [
           {
            "colorbar": {
             "outlinewidth": 1,
             "tickcolor": "rgb(36,36,36)",
             "ticks": "outside"
            },
            "colorscale": [
             [
              0.0,
              "#440154"
             ],
             [
              0.1111111111111111,
              "#482878"
             ],
             [
              0.2222222222222222,
              "#3e4989"
             ],
             [
              0.3333333333333333,
              "#31688e"
             ],
             [
              0.4444444444444444,
              "#26828e"
             ],
             [
              0.5555555555555556,
              "#1f9e89"
             ],
             [
              0.6666666666666666,
              "#35b779"
             ],
             [
              0.7777777777777778,
              "#6ece58"
             ],
             [
              0.8888888888888888,
              "#b5de2b"
             ],
             [
              1.0,
              "#fde725"
             ]
            ],
            "type": "histogram2dcontour"
           }
          ],
          "histogram2d": [
           {
            "colorbar": {
             "outlinewidth": 1,
             "tickcolor": "rgb(36,36,36)",
             "ticks": "outside"
            },
            "colorscale": [
             [
              0.0,
              "#440154"
             ],
             [
              0.1111111111111111,
              "#482878"
             ],
             [
              0.2222222222222222,
              "#3e4989"
             ],
             [
              0.3333333333333333,
              "#31688e"
             ],
             [
              0.4444444444444444,
              "#26828e"
             ],
             [
              0.5555555555555556,
              "#1f9e89"
             ],
             [
              0.6666666666666666,
              "#35b779"
             ],
             [
              0.7777777777777778,
              "#6ece58"
             ],
             [
              0.8888888888888888,
              "#b5de2b"
             ],
             [
              1.0,
              "#fde725"
             ]
            ],
            "type": "histogram2d"
           }
          ],
          "histogram": [
           {
            "marker": {
             "line": {
              "color": "white",
              "width": 0.6
             }
            },
            "type": "histogram"
           }
          ],
          "mesh3d": [
           {
            "colorbar": {
             "outlinewidth": 1,
             "tickcolor": "rgb(36,36,36)",
             "ticks": "outside"
            },
            "type": "mesh3d"
           }
          ],
          "parcoords": [
           {
            "line": {
             "colorbar": {
              "outlinewidth": 1,
              "tickcolor": "rgb(36,36,36)",
              "ticks": "outside"
             }
            },
            "type": "parcoords"
           }
          ],
          "pie": [
           {
            "automargin": true,
            "type": "pie"
           }
          ],
          "scatter3d": [
           {
            "line": {
             "colorbar": {
              "outlinewidth": 1,
              "tickcolor": "rgb(36,36,36)",
              "ticks": "outside"
             }
            },
            "marker": {
             "colorbar": {
              "outlinewidth": 1,
              "tickcolor": "rgb(36,36,36)",
              "ticks": "outside"
             }
            },
            "type": "scatter3d"
           }
          ],
          "scattercarpet": [
           {
            "marker": {
             "colorbar": {
              "outlinewidth": 1,
              "tickcolor": "rgb(36,36,36)",
              "ticks": "outside"
             }
            },
            "type": "scattercarpet"
           }
          ],
          "scattergeo": [
           {
            "marker": {
             "colorbar": {
              "outlinewidth": 1,
              "tickcolor": "rgb(36,36,36)",
              "ticks": "outside"
             }
            },
            "type": "scattergeo"
           }
          ],
          "scattergl": [
           {
            "marker": {
             "colorbar": {
              "outlinewidth": 1,
              "tickcolor": "rgb(36,36,36)",
              "ticks": "outside"
             }
            },
            "type": "scattergl"
           }
          ],
          "scattermapbox": [
           {
            "marker": {
             "colorbar": {
              "outlinewidth": 1,
              "tickcolor": "rgb(36,36,36)",
              "ticks": "outside"
             }
            },
            "type": "scattermapbox"
           }
          ],
          "scatterpolargl": [
           {
            "marker": {
             "colorbar": {
              "outlinewidth": 1,
              "tickcolor": "rgb(36,36,36)",
              "ticks": "outside"
             }
            },
            "type": "scatterpolargl"
           }
          ],
          "scatterpolar": [
           {
            "marker": {
             "colorbar": {
              "outlinewidth": 1,
              "tickcolor": "rgb(36,36,36)",
              "ticks": "outside"
             }
            },
            "type": "scatterpolar"
           }
          ],
          "scatter": [
           {
            "fillpattern": {
             "fillmode": "overlay",
             "size": 10,
             "solidity": 0.2
            },
            "type": "scatter"
           }
          ],
          "scatterternary": [
           {
            "marker": {
             "colorbar": {
              "outlinewidth": 1,
              "tickcolor": "rgb(36,36,36)",
              "ticks": "outside"
             }
            },
            "type": "scatterternary"
           }
          ],
          "surface": [
           {
            "colorbar": {
             "outlinewidth": 1,
             "tickcolor": "rgb(36,36,36)",
             "ticks": "outside"
            },
            "colorscale": [
             [
              0.0,
              "#440154"
             ],
             [
              0.1111111111111111,
              "#482878"
             ],
             [
              0.2222222222222222,
              "#3e4989"
             ],
             [
              0.3333333333333333,
              "#31688e"
             ],
             [
              0.4444444444444444,
              "#26828e"
             ],
             [
              0.5555555555555556,
              "#1f9e89"
             ],
             [
              0.6666666666666666,
              "#35b779"
             ],
             [
              0.7777777777777778,
              "#6ece58"
             ],
             [
              0.8888888888888888,
              "#b5de2b"
             ],
             [
              1.0,
              "#fde725"
             ]
            ],
            "type": "surface"
           }
          ],
          "table": [
           {
            "cells": {
             "fill": {
              "color": "rgb(237,237,237)"
             },
             "line": {
              "color": "white"
             }
            },
            "header": {
             "fill": {
              "color": "rgb(217,217,217)"
             },
             "line": {
              "color": "white"
             }
            },
            "type": "table"
           }
          ]
         },
         "layout": {
          "annotationdefaults": {
           "arrowhead": 0,
           "arrowwidth": 1
          },
          "autotypenumbers": "strict",
          "coloraxis": {
           "colorbar": {
            "outlinewidth": 1,
            "tickcolor": "rgb(36,36,36)",
            "ticks": "outside"
           }
          },
          "colorscale": {
           "diverging": [
            [
             0.0,
             "rgb(103,0,31)"
            ],
            [
             0.1,
             "rgb(178,24,43)"
            ],
            [
             0.2,
             "rgb(214,96,77)"
            ],
            [
             0.3,
             "rgb(244,165,130)"
            ],
            [
             0.4,
             "rgb(253,219,199)"
            ],
            [
             0.5,
             "rgb(247,247,247)"
            ],
            [
             0.6,
             "rgb(209,229,240)"
            ],
            [
             0.7,
             "rgb(146,197,222)"
            ],
            [
             0.8,
             "rgb(67,147,195)"
            ],
            [
             0.9,
             "rgb(33,102,172)"
            ],
            [
             1.0,
             "rgb(5,48,97)"
            ]
           ],
           "sequential": [
            [
             0.0,
             "#440154"
            ],
            [
             0.1111111111111111,
             "#482878"
            ],
            [
             0.2222222222222222,
             "#3e4989"
            ],
            [
             0.3333333333333333,
             "#31688e"
            ],
            [
             0.4444444444444444,
             "#26828e"
            ],
            [
             0.5555555555555556,
             "#1f9e89"
            ],
            [
             0.6666666666666666,
             "#35b779"
            ],
            [
             0.7777777777777778,
             "#6ece58"
            ],
            [
             0.8888888888888888,
             "#b5de2b"
            ],
            [
             1.0,
             "#fde725"
            ]
           ],
           "sequentialminus": [
            [
             0.0,
             "#440154"
            ],
            [
             0.1111111111111111,
             "#482878"
            ],
            [
             0.2222222222222222,
             "#3e4989"
            ],
            [
             0.3333333333333333,
             "#31688e"
            ],
            [
             0.4444444444444444,
             "#26828e"
            ],
            [
             0.5555555555555556,
             "#1f9e89"
            ],
            [
             0.6666666666666666,
             "#35b779"
            ],
            [
             0.7777777777777778,
             "#6ece58"
            ],
            [
             0.8888888888888888,
             "#b5de2b"
            ],
            [
             1.0,
             "#fde725"
            ]
           ]
          },
          "colorway": [
           "#1F77B4",
           "#FF7F0E",
           "#2CA02C",
           "#D62728",
           "#9467BD",
           "#8C564B",
           "#E377C2",
           "#7F7F7F",
           "#BCBD22",
           "#17BECF"
          ],
          "font": {
           "color": "rgb(36,36,36)"
          },
          "geo": {
           "bgcolor": "white",
           "lakecolor": "white",
           "landcolor": "white",
           "showlakes": true,
           "showland": true,
           "subunitcolor": "white"
          },
          "hoverlabel": {
           "align": "left"
          },
          "hovermode": "closest",
          "mapbox": {
           "style": "light"
          },
          "paper_bgcolor": "white",
          "plot_bgcolor": "white",
          "polar": {
           "angularaxis": {
            "gridcolor": "rgb(232,232,232)",
            "linecolor": "rgb(36,36,36)",
            "showgrid": false,
            "showline": true,
            "ticks": "outside"
           },
           "bgcolor": "white",
           "radialaxis": {
            "gridcolor": "rgb(232,232,232)",
            "linecolor": "rgb(36,36,36)",
            "showgrid": false,
            "showline": true,
            "ticks": "outside"
           }
          },
          "scene": {
           "xaxis": {
            "backgroundcolor": "white",
            "gridcolor": "rgb(232,232,232)",
            "gridwidth": 2,
            "linecolor": "rgb(36,36,36)",
            "showbackground": true,
            "showgrid": false,
            "showline": true,
            "ticks": "outside",
            "zeroline": false,
            "zerolinecolor": "rgb(36,36,36)"
           },
           "yaxis": {
            "backgroundcolor": "white",
            "gridcolor": "rgb(232,232,232)",
            "gridwidth": 2,
            "linecolor": "rgb(36,36,36)",
            "showbackground": true,
            "showgrid": false,
            "showline": true,
            "ticks": "outside",
            "zeroline": false,
            "zerolinecolor": "rgb(36,36,36)"
           },
           "zaxis": {
            "backgroundcolor": "white",
            "gridcolor": "rgb(232,232,232)",
            "gridwidth": 2,
            "linecolor": "rgb(36,36,36)",
            "showbackground": true,
            "showgrid": false,
            "showline": true,
            "ticks": "outside",
            "zeroline": false,
            "zerolinecolor": "rgb(36,36,36)"
           }
          },
          "shapedefaults": {
           "fillcolor": "black",
           "line": {
            "width": 0
           },
           "opacity": 0.3
          },
          "ternary": {
           "aaxis": {
            "gridcolor": "rgb(232,232,232)",
            "linecolor": "rgb(36,36,36)",
            "showgrid": false,
            "showline": true,
            "ticks": "outside"
           },
           "baxis": {
            "gridcolor": "rgb(232,232,232)",
            "linecolor": "rgb(36,36,36)",
            "showgrid": false,
            "showline": true,
            "ticks": "outside"
           },
           "bgcolor": "white",
           "caxis": {
            "gridcolor": "rgb(232,232,232)",
            "linecolor": "rgb(36,36,36)",
            "showgrid": false,
            "showline": true,
            "ticks": "outside"
           }
          },
          "title": {
           "x": 0.05
          },
          "xaxis": {
           "automargin": true,
           "gridcolor": "rgb(232,232,232)",
           "linecolor": "rgb(36,36,36)",
           "showgrid": false,
           "showline": true,
           "ticks": "outside",
           "title": {
            "standoff": 15
           },
           "zeroline": false,
           "zerolinecolor": "rgb(36,36,36)"
          },
          "yaxis": {
           "automargin": true,
           "gridcolor": "rgb(232,232,232)",
           "linecolor": "rgb(36,36,36)",
           "showgrid": false,
           "showline": true,
           "ticks": "outside",
           "title": {
            "standoff": 15
           },
           "zeroline": false,
           "zerolinecolor": "rgb(36,36,36)"
          }
         }
        },
        "xaxis": {
         "anchor": "y",
         "domain": [
          0.0,
          1.0
         ],
         "title": {
          "text": "x (sample)",
          "font": {
           "family": "Times New Roman"
          }
         }
        },
        "yaxis": {
         "anchor": "x",
         "domain": [
          0.0,
          1.0
         ],
         "title": {
          "text": "Empirical PDF",
          "font": {
           "family": "Times New Roman"
          }
         }
        },
        "legend": {
         "tracegroupgap": 0
        },
        "margin": {
         "t": 60
        },
        "title": {
         "font": {
          "family": "Helvetica",
          "color": "black"
         },
         "text": "Empirical PDF Under the Fitted Model",
         "x": 0.5,
         "y": 0.95
        },
        "font": {
         "color": "black"
        }
       },
       "config": {
        "plotlyServerURL": "https://plot.ly"
       }
      },
      "text/html": "<div>                            <div id=\"1c848f7c-0bd0-40a7-8a96-470c4e7c4919\" class=\"plotly-graph-div\" style=\"height:525px; width:100%;\"></div>            <script type=\"text/javascript\">                require([\"plotly\"], function(Plotly) {                    window.PLOTLYENV=window.PLOTLYENV || {};                                    if (document.getElementById(\"1c848f7c-0bd0-40a7-8a96-470c4e7c4919\")) {                    Plotly.newPlot(                        \"1c848f7c-0bd0-40a7-8a96-470c4e7c4919\",                        [{\"hovertemplate\":\"sample=%{x}<br>empirical PDF=%{y}<extra></extra>\",\"legendgroup\":\"\",\"marker\":{\"color\":\"black\",\"symbol\":\"diamond\",\"size\":5},\"mode\":\"markers\",\"name\":\"\",\"orientation\":\"v\",\"showlegend\":false,\"x\":[13.168998781713714,13.137722169907558,7.060527931335813,7.136888800570405,7.179295666357335,7.311996246201602,12.650185963605924,12.583090964004722,12.565239240599485,7.435616704737288,7.522886857547101,7.5498324785386846,12.450788340849005,7.568606075896449,7.5761379208417114,12.366459451937445,12.36493832116166,12.358112095839704,7.709755327511395,7.733258700734218,12.246887774267915,7.7571285027002865,7.782313977488983,12.187216178422641,12.185523842562546,12.169526713592013,7.839311173114497,7.840923136121399,12.144993337888268,12.125069811278312,12.112715816621398,7.897208064634328,12.098024725256415,7.90505890987629,7.909491472688423,12.085671700109776,12.0762678704655,7.948883616087631,7.967954306963489,12.028606500660361,7.972514005252404,12.011318759377778,7.994380259643918,11.998526717441285,8.019015581289668,8.030153253661092,8.034726820577918,8.035056304594663,8.043609816052241,8.062740522633145,8.110411505716023,11.872966509287188,11.870090896476933,11.864389682499324,8.136498795331196,8.143413059149328,11.852502466587179,8.150379091638511,8.153449760109147,8.154247683681636,11.845780326267903,11.830553214380663,8.179669420739819,11.796190489434869,8.20475063444602,11.783560997276918,8.22123588080353,11.776551394451111,11.769590549064475,8.231489126290198,11.763272022949716,11.752526885237708,11.751397641158974,8.258777776004735,11.741800127718825,11.737406966354913,8.272003049696892,11.726121774338262,8.274909027921357,8.281776790764965,11.716040403330839,8.290762401839302,8.299536106669589,11.700199108951518,8.306902627405558,8.31788747471711,11.662803960490004,8.349114886844616,8.360406392783188,8.362439246025499,8.368298367360138,11.631302150299254,11.623793779595115,8.380513540252698,8.3833234912599,11.616501721652863,11.614180200888475,8.387508840839367,11.610887553947997,8.397522106124995,11.603161077665346,11.601551821874093,8.4001320118943,11.59779651816762,8.40378007118588,11.59687748794877,11.587696337186351,11.57711491590539,11.574788473350736,11.570990813333097,11.570962639370554,8.429806109479177,8.437097786123397,11.557951075874492,11.554329798385561,8.446490730429844,11.546762256097757,8.454458542993452,11.545184258477496,8.456770992830048,11.54115246968302,11.538264716007026,8.464088477355839,11.524133802423771,8.489117544195118,8.492006958198408,8.496046621880467,11.504646042109272,11.50158313816139,8.502619593814133,11.49760832952544,8.503211874220442,11.494832094339609,11.483368997578415,11.480038562520905,11.479916407955155,8.532434955753487,11.467883242038877,11.466767403858345,11.458949723217303,11.457950559445488,11.455092979436042,11.448155766310656,8.560428818435057,11.434800157724954,11.431340184135122,8.569575437141864,8.583011519453201,8.58429158424348,11.403351499110805,8.599453570928747,8.599487403948075,11.40116447811728,8.604180549183745,11.395777715281799,11.391545688624268,8.609298949568803,8.610720108457551,11.387244055901252,11.385123839964225,8.631835202090231,8.632992458134638,8.634850156567854,8.636026094545013,8.638069430973342,11.36196428881173,8.642094309919806,11.358458250883624,8.64786659436087,8.653977409273022,8.655130438482214,8.657283179417385,11.341882447553875,11.341701322825452,11.341536591848008,11.34153471430803,11.339655067407831,8.66267938919314,11.333782832099034,8.669094484904019,8.67137373439413,8.672731376855745,11.32794879348345,8.677441607844266,8.682198369643118,8.683600199753986,8.683834457731015,11.30598144488043,8.700388476232197,11.291656542878506,8.71514954187376,11.283125150099037,11.265124708853486,11.261834304100748,11.260593586605935,11.254749075235733,8.746645547437186,11.253239461477405,8.751409151792108,11.243129782386442,8.765129652746104,11.230522787289528,8.77181173505359,8.772710222489836,11.221366772107455,11.220333549931418,8.781622633515134,8.78273402260453,8.795549179137758,11.202536442036106,8.802093961155308,11.197541031081029,8.80634741975027,8.809530091980891,11.188469109903103,11.183499231277791,11.182247658493479,8.819440494633316,8.819459177723946,11.178606294705434,8.827023043346719,8.827293706822758,8.83057844259568,11.16594581500202,11.165034670477006,11.164167093480094,11.163847684876476,11.161611275448555,8.840564502591,11.154290541937835,11.15319628491793,8.848652024373646,11.14998330737085,11.146220814221858,11.140744839152166,8.860995136979337,11.138767952561466,8.868563271046659,8.870002340931363,8.879375314560098,11.115895243656192,8.890260911121219,11.10966672062099,11.10935916296536,11.107918114919245,8.895292224401224,8.908628603093533,8.908678558286795,11.09134132160588,8.909648630160401,8.90983050651186,11.08973816640847,11.08825660230626,8.912701650042637,11.08545283439044,8.915830842399068,11.084801700167219,11.084532686190048,11.080587606278083,8.92244012625193,11.077713115407125,11.077312513331151,8.924984510085473,8.934008904310547,11.064914636860747,8.940475799258422,11.054569379547857,11.053446129328112,11.052785557065814,11.052709475346818,8.950048567355216,11.047146680951265,11.046821080428405,11.046654515900038,8.959958473592591,11.031177850041372,11.028789705336742,11.027636785854627,8.975578011618223,8.978568955045715,11.021509968009301,8.979668269926266,8.981106955817918,8.986120636242049,11.014381307949545,8.987659274205862,11.01268539242725,11.01113314791635,8.990089040660681,8.990307823947143,11.008711462440775,8.99552526091903,11.00262393290619,10.994640448278938,9.00777902386155,9.008434972072315,9.008642106530118,9.008881886474667,9.012638917165537,10.985521614910766,9.015547915868318,10.983766858319523,9.023184537831227,10.974911818869659,9.028143992390248,10.972263112361771,10.972008462063025,9.033698042294082,10.96425264042352,9.036765924417805,9.037051761512526,9.037264527510938,10.96243263050476,9.038474790573945,10.961286975806418,9.043404608400516,9.043800104000976,9.04846028995569,9.049640389127758,9.05002521774115,10.948698466540058,10.946293375431974,10.942467348782532,9.058505494399606,10.939850735472548,10.937699372280434,9.06392251071823,9.067917833806868,9.068011359421638,10.932053606825775,10.930168625730785,9.07095919925247,9.074049463434553,9.07659222034738,9.079565790348518,10.92106077625754,9.079954187091689,9.080709517743319,10.91486359448673,10.9146637442566,9.088116616643083,10.909045646965827,10.904304081622573,10.904246002847021,9.099347813762197,10.89861249874138,9.102186052663058,10.896428475024498,10.894966781330512,10.894747389501864,9.10704161139725,10.89319889620515,10.892333609787496,9.10977866780377,9.114118042411786,9.119307765444592,10.879660633252623,10.878196750404886,9.124494851614608,10.874797908863389,10.87114645832911,10.870996675907888,9.13093241950612,9.132646801157104,9.135165581256164,10.86390790300538,10.863637556936961,10.860280579358127,10.858859146013232,9.143371253479653,9.144232182586764,9.14613461824937,10.853273497624262,9.148733697365174,9.149515171363376,9.150114264268938,9.154860943447645,10.845028919550735,10.844364892131575,10.841597668915718,9.161590915952562,10.83564691910124,9.170884482406475,9.171038991137188,10.828588705408402,10.828566320747278,9.173183959001515,9.173402257810615,9.173724884641318,10.826827682739802,9.174510022887702,9.1766270841859,10.822492738161218,10.81806310046448,9.18293888383541,10.816264882269973,9.184487548521846,10.815943470003306,10.81553662062553,9.187485303770345,10.8117690753575,9.189028512205585,10.808786952811129,10.805232971150593,9.19729784292919,9.198552720476561,9.19882529803003,10.801571070916212,10.797995849354137,10.797564756371028,9.205176830380783,9.206139860672465,10.794282424866893,9.206682929418829,10.792410046852881,9.212501853280083,10.788096261172514,9.212691572821992,10.785041632926868,10.784679847670091,9.2160684457236,10.784324725531722,9.218978027417803,10.78161302833666,9.226582392143396,10.772270809658739,9.2305144461039,10.76963825738498,10.761666894615605,9.239478186988741,9.241456609808866,10.758611915518554,10.75634053110467,10.753051669312008,10.752024561988296,10.750567740777377,10.75001543645585,10.74770217838197,9.253192751633064,9.254589568163142,10.744234032657316,9.256909834353849,9.25838387584025,9.259794438853717,10.740840911125474,9.259981636270245,10.74001865697174,10.739420726490367,9.261475480119573,10.737644712013944,9.263621271548494,9.267187125002714,10.733018498500222,9.267906231501158,9.27285904207363,10.727423044897563,10.718269533264031,9.282520198160373,10.717382748732732,10.717267179703256,9.287398028501883,10.712113184886798,9.293220932356418,10.707242845672162,10.707199158536659,10.70566773062297,9.296301643424814,10.703418438847017,9.29899998069192,9.301726602638166,10.69861504866808,9.302741043885609,10.69467425890386,9.306023504747436,10.693252589861663,9.307875112624686,9.308142534796211,9.310185956213394,10.689843713272841,10.68876264643746,10.686287611878605,9.316840651100394,9.317885421436012,10.681759665394683,9.319030182762912,9.319505364194889,10.679341169056912,10.677837061213008,9.322969088279871,10.674615792813883,9.32741138914146,9.329139387531587,9.332518545632379,9.33415616921887,9.335481879541504,9.336154326593531,9.336679114376484,9.33740613404864,9.33749996163101,9.341555483504795,9.34272468262489,9.344404784512182,9.344838196134123,10.652044236200345,9.352756882975276,10.64756157545588,9.353614398819841,9.359565837692648,10.640900511412214,10.640793699495806,10.640246355957968,10.639693020602367,10.639678367132122,10.638558752387635,10.635860073995643,9.366129451678452,10.63359659315191,10.63247480248194,10.630671578193835,10.630658888252169,9.370976521528117,10.629409390220994,9.371351628000083,9.37295016527919,9.373157681330342,9.373507708941457,10.623766771902334,9.377539219534645,9.380615774090892,9.3815624843077,10.618610276228315,10.612278506184266,9.395040417828493,9.398645678751636,10.601038657208584,9.402370187990574,10.597827424260279,10.594324825325652,9.406765240515636,10.593353369011323,10.590663385893631,9.41199130602846,10.588619327041338,9.413723810600173,10.58539874170896,9.419130476189785,10.579813726265357,10.578042076060377,9.424802325110747,10.575241293588027,9.425774447711534,9.428186737522324,10.570725785695567,10.56953440251245,9.43214132534286,10.56756164434656,10.566329722553913,9.434889226737468,10.563565251172097,10.562916078904722,9.438181731959405,9.438406941769939,9.438803850907576,9.439322807511942,10.559885945221486,9.440903654834866,9.441827171220362,10.558409345369686,10.55751779966197,10.557091515082494,10.554957465529684,10.553860658664663,10.553673578847413,10.552684698879073,10.552495999302186,10.551873995403453,10.551374441945601,9.449481901165468,9.453082733914394,10.546605108033253,9.454577350613349,9.457070273404542,9.46176076973956,9.461855314311885,9.462765240795303,9.46343813004566,9.464814627776038,10.534976865326373,9.465898769854483,9.466445503472563,10.534239018563602,9.46772058628897,9.469238022518935,10.529663354778059,9.472572550324436,10.525968304845778,10.525710241225147,10.524558170478128,9.478460727921266,9.480288466447746,10.520254607991388,10.519539164616893,10.518387535198473,10.51679678128038,9.484428679526637,9.486298404306389,9.486687119584365,9.488646954515223,9.489274758521603,10.510968635132878,9.48988977414075,10.509726266138431,9.491591028131163,10.508015098437182,9.49448633953466,9.49452713374122,9.495078206180773,10.505168274758992,10.503255290830138,9.497526629133008,10.500681112490195,9.500367563217145,9.50054756554209,9.501441299075413,9.503807887380395,10.493845662704471,10.493597032623635,9.509457970828368,10.490977587589102,9.510545981792976,10.48883558689565,9.51304737995165,9.514143757109206,9.514420312478357,10.479277224131545,9.52187824870942,10.47831591095356,9.522463715896077,10.478090080343017,9.522662303212085,10.47671870356858,10.473407288380251,9.528345384044192,10.471152606637592,10.469736161863025,9.531631014730886,9.532260297670936,9.533237535606588,9.533239135735867,9.533678830913203,10.464265958917752,9.538591057070066,10.461856094002082,9.540631650155628,10.454222515332217,10.449796025327853,9.551561441688168,9.552819385386025,9.553172774716849,9.553216923184218,10.439382358381996,9.561329217027968,10.436702295709777,10.436087117299527,9.565296818891863,9.569654835555438,9.570579407376917,9.570635556858436,10.42965037433458,9.573151845586347,10.426264929911964,10.426180151218192,9.575222354198464,10.425108243773156,10.424758533425775,10.422883365016057,10.422675621777389,10.422329310853618,9.578503277855939,10.42091257571688,10.418402544255835,10.417466008087812,9.58405357048586,10.416420694640491,10.41343337350276,10.413329630479106,10.411475010260686,10.409727062293046,9.591430862586861,9.591849369325887,10.407670576686199,9.594740557122993,10.405727515853508,10.404921018288466,9.5963585005407,10.400496109750485,9.600745639828654,10.396872193082249,10.394168664567102,9.608882894872622,9.61058837707427,10.387006601111032,9.615556199512673,9.61606288987514,9.616247004278923,9.616560322939268,10.381281195896225,9.61941681230491,10.381239937060519,10.380085368701646,9.622484017275859,10.373025386040384,9.631022244735133,9.631802762200062,10.368570802500034,9.633035028667448,10.367598814151247,9.640763059250864,9.641799166704317,9.641851510436092,10.35821811401409,10.357885922086629,10.356576804680456,10.353326574678192,9.647703739500779,10.350959431102108,10.348883253738009,9.652152651249759,10.347307641127049,9.654305122003123,9.654391219408765,10.341224289424437,10.340217943977326,10.340217030747416,9.661757345880304,9.662344983600317,10.336033291866514,9.665774053395143,10.333322476196175,10.332003874900929,10.330734618339092,10.328918651047449,9.675376774577362,9.67714915377607,9.677219220099152,10.323226582903496,10.322833988048302,10.321539802722217,9.679874948093342,10.319434072382187,10.316512425392412,10.315625554853533,9.686568261075722,10.313598229914836,9.688066179550795,9.688536049415976,9.68919211160386,9.68945268277799,10.310324624852015,9.691227402515786,9.692912462880663,10.305366546709546,9.695659627653507,10.304795794212248,10.30431996469124,9.696835573313255,9.698305489708089,9.698311889552473,9.702198009890694,9.706781154425023,9.709229680745453,9.711250197317728,9.711387127934763,9.712410178210474,10.287920359131578,10.287910523869858,10.287218697134303,9.714686752378231,9.716982266534469,10.281148377462706,10.28011407639421,10.28003218588066,10.278548008320774,9.722923448732345,9.72653199193071,10.273006580870874,10.269079503783454,9.733977308827278,10.264976100111515,10.264280641030231,9.736901753564101,9.738057975318332,10.26248444470134,10.261220521573675,9.740220042981187,9.740525894791581,10.259508949383177,9.7427763734978,10.257320372730623,10.256841249405857,10.254718576021238,10.2537814202237,9.748829102883237,9.749307169916264,10.249805576352466,10.248787193311896,9.756584726375273,9.756830667595846,9.756923789683073,10.24298302865628,10.242818075084045,10.2414246767314,9.760227347082557,10.240014565950379,9.762772048781871,10.237578427348742,9.763925322218963,9.764603642705898,9.765621063114757,10.234614950044191,9.76617936904643,10.232479867161517,10.230474573085274,9.772260006555054,10.227847993757635,10.226387655080469,9.775211676659753,9.776678720295243,9.776737955156106,9.779674096077,10.216869216453768,9.783873263619865,9.784228533220833,10.216094567078223,9.784706067830951,9.784983443677971,10.214404045769385,9.79232719241316,10.208148900752517,9.793868045483181,9.796600337594235,10.203040070640075,10.202431526210752,10.200716674002752,10.200546443395226,9.800198735340649,10.19667787857179,10.194857083315341,10.193260238559974,10.192493652787586,10.191567737610423,9.809172528228226,9.810445103391777,9.811282338021407,9.811800442300763,10.187097299539753,10.184935066789398,10.18469927915743,10.183824154148699,9.818260917694097,9.818817909509853,10.181685214325109,10.180754131777869,9.822560329451793,9.822999929274404,9.823018586122718,9.82467087372476,9.825571231206395,9.832809361152481,10.166552979751536,9.835705738931484,10.164476493144102,10.161133997712867,10.159159491558759,9.841910159484378,10.156681762374964,10.154359667756987,9.846538609438952,10.153881656976191,10.15328667164791,10.152475309782833,10.150607972228627,10.149162820097986,10.148943186154286,9.852383731665833,10.147491037560089,10.147365894577407,10.147308564871508,10.145727749525204,10.145712037264369,10.144399382043176,9.859300490521454,10.140294025324462,9.860684836599338,9.862682676117148,9.864690720306026,10.134608690505338,10.134367424820821,10.131294013010159,9.869985189132619,9.871023349172349,9.871442521873536,9.871568766153437,9.871774908404488,9.872888692643981,9.873116066496921,10.124493346112711,9.879583033199646,9.880502709169189,9.8809562389847,10.117609802534636,9.883412833818037,10.116059600543316,10.11502644678843,10.1103904785454,9.890452418250549,9.890815363144092,9.892391155582786,10.107820668545372,10.102088672659885,9.900031962963077,10.09760825349517,10.097384438488948,10.096876704678348,10.09644531810499,10.095098166818676,9.908269471427932,10.087942161430062,9.913207407031337,9.913595144272255,10.085996732942418,9.915296068709797,10.084902618521076,9.91747905124572,9.91909463294779,9.919487297835042,9.921406343402492,10.077612094486778,10.077564169812598,10.077224829249072,10.076986094995425,10.076979237435465,9.923921984464908,10.073540272041617,9.930619821352463,10.067384028339772,10.067002878663232,10.065031529264159,9.93610771636348,9.940111827048336,9.940371888496433,10.058439879493983,9.942363083924972,10.05791776083863,10.057269569347364,10.054760070421224,10.053786284662175,9.947334157079798,9.948873479136086,10.051587562879389,10.04807494267099,9.957361452168344,10.040031514883497,9.960721001375841,10.038478500794076,9.962515047692124,10.037921824607324,10.03671691316672,10.034046994510566,9.966766892607206,9.968003626065077,10.031664504459822,10.031241989754847,9.969649452715718,9.971135924530232,10.028791686902625,9.973714620256136,9.973725610731302,10.023057591769465,10.021315252257544,10.019335667319307,9.98164521504964,10.018944198508137,9.981925199585914,9.982231412822156,9.982781642510973,10.017420006283206,9.984479519226548,9.984545645799596,9.991915249988718,10.0087624065899,10.007706504915511,10.007696863411915,10.00717507935608,9.99456798054104,9.996343833587645,9.997831318756509,9.998504145517254,10.001975217099401,10.00059986225126],\"xaxis\":\"x\",\"y\":[0.0020602020740164806,0.0022859176958554927,0.004304261635785479,0.005436814339120856,0.00617346901843054,0.009076017428824896,0.010114902861561735,0.012171162696508383,0.012775231138746077,0.012780724119308178,0.016117186349156865,0.017285715067869654,0.01728911552303078,0.018141362099860302,0.018494500006788168,0.02141684638177811,0.021498237499460154,0.021866656894314624,0.025778616577927894,0.027276087390757122,0.028642859045289317,0.028868750866326467,0.03063017889375022,0.0329289325432176,0.033057609665637006,0.03429395609686692,0.034937158529606084,0.03506565045512582,0.03626144749942518,0.0379242966833271,0.038985267138056015,0.03979282274348746,0.04027721620497402,0.04049023867441584,0.040888209101366285,0.041389342406776615,0.04225194073183563,0.04456076318698181,0.046428175915119656,0.046841036483547885,0.04688347266013866,0.048597284917138606,0.04911472892866685,0.04992894371591924,0.05172476463243869,0.052938742740264215,0.05344344017050979,0.05347993875869094,0.05443404643931237,0.056614250988618914,0.062329801490519234,0.0645079407722716,0.06487490784684881,0.06560695254981096,0.0656316474804023,0.0665277287321717,0.06715256368528937,0.0674394544005579,0.06784420403168528,0.06794966606890457,0.06803817282762303,0.070075357325918,0.07137179402498381,0.07483234375576998,0.07486694119255337,0.07663674535238953,0.07722902122853323,0.07765129575358981,0.07866804735807414,0.07872421732989507,0.07959897903527964,0.08119961788139982,0.08136911744058065,0.08280146624827535,0.08281956723836752,0.0834893889947331,0.08482882450739532,0.08522702116821468,0.08527879696397105,0.08634868064545452,0.0868000007336351,0.08776219527585621,0.08915737626473863,0.08931121326737743,0.0903402413934883,0.09212353496010535,0.09543098494367519,0.09732000195159529,0.09924518120389275,0.09959438033918391,0.10060528461188481,0.10079519099792228,0.10210184841471508,0.10273399089266019,0.10322771443131475,0.10338119203786446,0.10379062113734247,0.10396590097000366,0.10437308576362674,0.10574554812747196,0.10574800985975774,0.10603580786921694,0.10621254331420751,0.10670932039880952,0.10686746923322865,0.1068745567108573,0.10853408031598046,0.11046651903711466,0.11089422448605184,0.11159459910185131,0.11159980517380005,0.11161307107572407,0.11296556849234392,0.11402006809044776,0.11469930382687422,0.11472252451144875,0.11612664079845982,0.11622583864334239,0.11642561675424491,0.11666435132191183,0.11719160450708993,0.11774209576426743,0.11805852040736382,0.12045810934014783,0.12290191500797407,0.12346843917752709,0.1242630384640994,0.12426388521359798,0.12486833376541782,0.12556226521486377,0.12565527489520792,0.12567972045706358,0.12620661285788884,0.12849776834899315,0.12916783994483386,0.12919245460461087,0.13155305027935243,0.13163017181298692,0.13185751933621842,0.13345647796252774,0.13366160987197948,0.1342492434420909,0.1356817254709262,0.13732057449026217,0.13846295696606084,0.13918845969841978,0.1392343778813159,0.14207144059877563,0.14234331381299126,0.145131394850741,0.1455842913532523,0.14559156583334298,0.14560125855090494,0.1466024609467258,0.1467619024982186,0.14767706151450677,0.14770904865310439,0.14801705407105484,0.14861024536786394,0.14907129624531307,0.15263139817560423,0.15288633740069776,0.15329601963834794,0.15355563024454497,0.15400724765080698,0.1541539763863032,0.15489871918375914,0.15493074891209724,0.1561815829474878,0.1575452325522109,0.15780317044231562,0.15828528543814385,0.15862865835764442,0.15866929547549047,0.15870625876709035,0.15870668008385225,0.15912873453441737,0.15949684707433098,0.1604506758060888,0.16094281295365573,0.16145802044051075,0.16176526789507165,0.16176906941651975,0.16283332516368157,0.1639151993423192,0.1642346522631327,0.16428806310731356,0.16677754849695287,0.16808207359732785,0.1700801935125839,0.17149720193000653,0.17206043477864,0.1762701464619408,0.1770441871956129,0.17733641196372926,0.17871556281100312,0.17888047724878156,0.1790724836468203,0.18000811137278327,0.1814699384489084,0.18327138845917812,0.1844767868164125,0.18486872116516917,0.1850838967061055,0.1866721309387074,0.18692046473308263,0.18722327931763574,0.18749069041189578,0.19058394469300857,0.19121642735573313,0.1921704880959771,0.19242834671495226,0.19320398032399774,0.19397851003328045,0.1946358353879966,0.19584867952598373,0.19615449640625424,0.1963967990326141,0.19640136714019782,0.19704511720420767,0.19825353234481713,0.1983199108086953,0.19912601883390485,0.20015148684987544,0.20037561862618009,0.20058910335846822,0.20066771742439243,0.20121840856032372,0.20158279699572124,0.20302416309384508,0.2032944777485632,0.20357900686563965,0.2040887734361548,0.2050200270544834,0.2063774786158499,0.20663631057832987,0.20686813173052618,0.20851698447436565,0.20887509685340527,0.21121137334587184,0.21256686698390703,0.2139326286248488,0.21412525991640077,0.2142022800041986,0.21456323845530975,0.21519312660132142,0.21854212812502,0.21855469320045567,0.2187250117731455,0.2187987215366249,0.21884447995321538,0.21912838994876346,0.21950130656977368,0.21956708798322766,0.22020737123280137,0.22035517827421117,0.22037140784391915,0.2204391859368749,0.22143360644327728,0.2220215096333212,0.22215869620118442,0.22225978261485688,0.22266361961678421,0.22494368001003212,0.22539220607076668,0.22657995594575747,0.2280115008363057,0.22829616968614416,0.22846360463119408,0.22848289016371987,0.2290054305405545,0.22989359082818925,0.22997619860155116,0.23001845905288168,0.23152011857348612,0.2339493884177412,0.23455663422247183,0.23484985147066248,0.23549033018946555,0.23625137457077663,0.23640866242764358,0.2365311518926471,0.2368973442956594,0.23817386387431497,0.23822352770026842,0.2385657221912402,0.23865545086655177,0.23905083433161445,0.2391846296181228,0.23924036351573066,0.23966777217896854,0.24056973612948676,0.2412190585269443,0.24325431603091127,0.24369354153756867,0.2438608105447253,0.2439136313934603,0.24397477759442998,0.2449329221715471,0.2455798405820183,0.24567486836359484,0.24602741596016836,0.24762280479461363,0.2482861974097167,0.24888792290311554,0.24896186283111724,0.2490268219928688,0.25030468720441523,0.2510051871409417,0.25108721703135484,0.2511601235346037,0.2512143919909341,0.25146939972747595,0.2515230785284347,0.2517616002636917,0.25278035594097525,0.2528812124280593,0.2540694997121536,0.25437037064299617,0.2544684804509063,0.2549715251843901,0.2555845780312624,0.25655963935053155,0.2566299384077076,0.25722633751686336,0.2577743964268355,0.2580099918179218,0.25902746944626254,0.2590512831331056,0.2592121976331754,0.25969208420502077,0.2598017635090197,0.2605882745299129,0.2612352510389429,0.26199161575748714,0.26200951830604835,0.2620903904968113,0.26228246888327106,0.2635849847853163,0.2636357710310214,0.26416512854780294,0.2650628945946733,0.2662664746143728,0.26628121180257175,0.26701610503871326,0.2677100431592269,0.2677357977265677,0.26826362507112994,0.2686340035486903,0.2686895871145784,0.2689662268033529,0.26908184135821583,0.2693009829425804,0.26965935065006985,0.27075752066909375,0.27206967116799124,0.27250640688074346,0.27287614518083,0.2733797525996682,0.2737341540827057,0.2746552112160943,0.2746929766195977,0.2750035912953231,0.27543562892904894,0.27607006114466753,0.2764787778531306,0.2765468226718114,0.27739137384843043,0.2777487616045892,0.2781341626454228,0.27835047292195103,0.27882828806695426,0.2791518547009501,0.2794806743728113,0.27967673844211993,0.2798270160442591,0.2810167812723754,0.2812189201925198,0.28138519104627163,0.28207774436550526,0.28270082911306865,0.28356506426284145,0.2850205970357102,0.2850591050584143,0.28532554229500834,0.2853311190477934,0.2855934880368871,0.2856478519999458,0.28572818991816784,0.2857641427467224,0.28592366200904146,0.28645047554177816,0.2868426835112194,0.2879430964752675,0.2880188065024499,0.2883893121746596,0.2884030720468934,0.288469037678084,0.28856994218045623,0.2891462761299533,0.28950362602788543,0.28952854562495783,0.2902417261720988,0.29112025967825866,0.2915731036974378,0.2918827873928107,0.2919500345684869,0.2920241845394884,0.29290542598417085,0.2930115970446531,0.29351489574981204,0.293751803161699,0.2938193562113231,0.2938853567833335,0.29427963542705654,0.29531442339078634,0.2953386678706074,0.29536095583322847,0.29608736892308396,0.29617597652425887,0.2961885476315119,0.29626293824084726,0.2969006143443746,0.29692651492975025,0.29875714615294274,0.2992062803946325,0.29971450116487547,0.2998468703702528,0.30178150498125994,0.30189003249985547,0.30236887561035575,0.3025208752116181,0.3030698399101332,0.303863552849312,0.30411114346431317,0.304462084580659,0.3045950596796109,0.30515157445807,0.3051991683727083,0.3055348301796691,0.30598459923112215,0.3060918260095847,0.30644530367613126,0.30678328331399274,0.30679803946275636,0.30682811660910614,0.30699492459755096,0.3071380382804003,0.3071857165495131,0.307562834416327,0.3076988439822725,0.30855013758960725,0.30866729706458174,0.3087215971275821,0.3099005181186181,0.30999911103930683,0.3121679888328583,0.3121899067083197,0.3123774463937201,0.3124047349487541,0.3133405021154686,0.3136196508451148,0.31470924131501227,0.3147639435763614,0.3147741911781213,0.31513322529946763,0.3154312532636457,0.31565988593246397,0.3160624127668139,0.316699001790075,0.3167818680075449,0.31693553820269554,0.3176995694625212,0.3176997561756663,0.3180300111687352,0.3181300634533531,0.31819216454574184,0.31866629749338454,0.3188209773826662,0.31907141302466663,0.31964402771654554,0.3202055117950661,0.3204464801256118,0.3206888972357835,0.3207102950992572,0.3208197362257499,0.3212455436218101,0.32159121941884006,0.32161629791363544,0.3223302006309454,0.32263482807411087,0.3230300786366096,0.3238014584313001,0.32417454667507867,0.3244762168322163,0.3246291119529511,0.32474837610138685,0.32491351633891913,0.32493482190573647,0.325854161269108,0.3261186376411864,0.3264982337850264,0.3265960712144239,0.3274556234175647,0.3283773408792598,0.32846218223914964,0.3285695134844397,0.3298993094608059,0.32995069779954256,0.32997449567265724,0.3300964093623817,0.33021959742447515,0.3302228588764058,0.33047192780988593,0.3310712485996135,0.3313577843539822,0.3315727959599274,0.33182098224877987,0.33221939543430357,0.33222219687100224,0.3324292783358528,0.33249787586446455,0.3325120003931626,0.3328642023637044,0.33290988547021083,0.33298692138360064,0.33373882728653986,0.3338723747557157,0.33454581541222894,0.3347526461007542,0.33486708863023007,0.33624483045601666,0.33767651187542785,0.33845195945721507,0.33866924804708537,0.33925004413184795,0.33935680978667976,0.3401041322112876,0.3401878340395826,0.34031091603253244,0.34088239136105,0.34129726925604525,0.3413155434928712,0.34166368735061986,0.3419960713151682,0.3428027329927629,0.34317053867437886,0.34354157903836446,0.343990333787463,0.3441266482705002,0.344193122610249,0.34469536946858265,0.3450660047539042,0.34531303663408486,0.34551572829212895,0.34572133708306635,0.3459758319752636,0.3460835557533707,0.3465455905236516,0.3466791161832649,0.3467615142037282,0.3468077907405371,0.34688931826239966,0.34699585704486263,0.3473010121805427,0.3473199898084484,0.347509061601515,0.3476032501650401,0.3477854765654319,0.34787253722742645,0.34830770157749996,0.3485309174831027,0.34856896105207213,0.3487699097001968,0.3488082273306025,0.34893446947554274,0.3490357890344592,0.3490681018704469,0.3497964281815388,0.3499999529106591,0.3500977791200384,0.35059915340639247,0.35153820530314245,0.35155707542181164,0.35173856966937755,0.3518726471065519,0.35214655857887994,0.3523264715416859,0.35236194834606566,0.3524704538617094,0.3524729215635639,0.3527232065225358,0.3530234472472517,0.3533779443834332,0.3536811005433581,0.3541047815191686,0.3541554094590763,0.35438121207951323,0.35483523414846735,0.35519161165025614,0.35522157606145643,0.355360802347427,0.35558462265687,0.35589320072842984,0.35599556945070515,0.35635712311861584,0.3564321711834784,0.3568099255969872,0.3569307126107804,0.3570179102697809,0.3570489349812111,0.3572564663474628,0.3573754229724506,0.35758434816283813,0.35792923836933266,0.3579370250179995,0.35804216675127004,0.358128053710093,0.35849215195844536,0.3585082987502097,0.35898049391906295,0.35904707389481416,0.359081135167661,0.3592501196830512,0.35969650851550705,0.3602682490759914,0.360314841845592,0.3607558650749716,0.36080465798789174,0.3609588236549902,0.3612037486728873,0.3614241594031454,0.3616275558741723,0.3616788072523705,0.3629686211495264,0.3630526190831893,0.3631446604434394,0.3631597860360332,0.3631859764552473,0.3631961138647024,0.3634365530144634,0.3640393487726005,0.36423085091644936,0.3644479424533484,0.3647038656078483,0.3648247538514738,0.36493813810962367,0.3651139846393168,0.36511427233843663,0.3651932996368758,0.36568664830040515,0.366072274793989,0.36611678241920476,0.3664352920147548,0.36746778324133356,0.3682431093883554,0.3683582887793984,0.3685772803786942,0.3686387136271753,0.3686463857116803,0.37004343749238866,0.37004594053980827,0.37050133911883604,0.3706061292374342,0.3707230095568176,0.3714610259847741,0.3716168314030602,0.3716262848232408,0.37169545614573474,0.3720489089043502,0.37226315356192824,0.37227732329762286,0.3723951580424252,0.3724562828016403,0.37251458942008886,0.3728265689252349,0.37286106305235794,0.37291853462876795,0.3729410321530245,0.37315324801799304,0.37356751196623333,0.37372156293225234,0.37385664268245467,0.3738931734213552,0.3743816630533175,0.3743985753885119,0.3747003297958499,0.37498370612200743,0.37505827176416917,0.3751259095543105,0.3753158289836415,0.375591613415388,0.3756283652594346,0.3757577254935044,0.37585103377552304,0.3764636695231698,0.3765501386679859,0.37703701513996646,0.37746190969885934,0.37782998353319674,0.378095430744767,0.37857573643593506,0.3788630826293565,0.37894091233359645,0.3789691716094648,0.3790172358422671,0.3794537423539853,0.3794539019690671,0.3794600292992936,0.3796357262579931,0.3799197013221536,0.3807002151933154,0.38119945667095,0.38131519770326916,0.381363091846768,0.38149750026608203,0.3815068238918541,0.38262881436081025,0.38277891381056656,0.38278648684096817,0.3828771747352942,0.382925140846708,0.383113792526866,0.3835795758525849,0.38362713844013624,0.3839164714382243,0.3842103315150471,0.3842581608929809,0.38443232631291013,0.38456095405658125,0.38457303147414473,0.38528117765342146,0.3854203309362142,0.3854204570498085,0.3855965718477797,0.3856773925117167,0.38599508674807903,0.38614654352012967,0.38636406379588567,0.3865425873846971,0.3867138386208448,0.38695784257261334,0.387437829137112,0.38767251412666187,0.38768176831670753,0.3877149259505923,0.3877667100140671,0.3879370182895325,0.38803121270681784,0.3882128166504664,0.3885927959605621,0.388707520782541,0.388900498088222,0.38896868971215176,0.38909278833403455,0.3891529362222059,0.3892367825265793,0.389270040143859,0.38938721864804066,0.38949588788511785,0.38970924940259943,0.3900135738319317,0.39005484123380657,0.3900850929133373,0.39014462512613546,0.3902019193276937,0.3903850426626591,0.39038583820392103,0.39086609050367027,0.39142523255528744,0.3917207245954513,0.3919628660791522,0.39197922040784416,0.39210118489236656,0.3921447726016953,0.39214594185204854,0.39222809702313516,0.392371172685295,0.3926414226884195,0.39294119024507107,0.39306129847953464,0.39307079064688594,0.3932423839156614,0.39333159439752907,0.3937442292382778,0.3938756355401354,0.3943172944280099,0.3945798476613995,0.39477245587125676,0.39484895564355027,0.39490224231732257,0.395028795938685,0.3950456720016254,0.3951833477668292,0.3952640579311273,0.3952971927459311,0.3953687998699362,0.3955398869580478,0.3956042831494546,0.3956555873051199,0.39588180911197185,0.395981128179808,0.3961828642737883,0.39623304142782884,0.3963986808298734,0.3965046416706477,0.39698585627043204,0.3970109350030923,0.3970204245083853,0.39710080615814325,0.39711755605604226,0.3972586195504495,0.39735486644308976,0.39740059786161475,0.3976095571610003,0.3976440383064296,0.39772414411348905,0.3977912955989937,0.39789167626098104,0.39793701963804756,0.3979465860286133,0.398145951724122,0.39834053967976657,0.39853663117430993,0.3985930031007019,0.3987321837755071,0.39881776224428417,0.3989562009776398,0.39896177271849137,0.3992361982994505,0.39961853706314016,0.39962268883041,0.3996550640680363,0.39968907886694577,0.39969850149379693,0.399723690158725,0.39984218751023887,0.4003793460810246,0.40039872934251264,0.4005141609731174,0.4007508645088051,0.40084158729861524,0.40089363626119146,0.40103950212002637,0.40105391704503546,0.4010579979536388,0.40137833652454485,0.40152892745284546,0.40165988734766195,0.4017223878453832,0.4017975596905506,0.4018010669350644,0.4019037907069115,0.40197101332328167,0.40201246939358914,0.40215558311616934,0.4023258226167751,0.4023442713724237,0.4024125450460764,0.4025201969857886,0.4025631714759895,0.40257809708147735,0.40264957663098927,0.4028486187245202,0.40288177138162096,0.40288317664257556,0.403007062291952,0.40307409725292404,0.40360087581815185,0.40369564762541765,0.4038056140171442,0.4038416360978286,0.404072884932477,0.40420731549415506,0.4042325080379712,0.40437371895690094,0.40452735561824366,0.4045405697334078,0.4045587040423875,0.4045975910130025,0.4046503825317934,0.40477084037665206,0.4048630669770306,0.40487700736298377,0.4049168797972567,0.40496867054017804,0.40497652870699036,0.40498012645808656,0.40507879087701715,0.4050797663005809,0.40516089237417036,0.4053437736110921,0.40540996747243835,0.40542681194000235,0.40554523546944865,0.40566257868780503,0.4057432488237968,0.4057570923498901,0.4059313024261834,0.40596385854563144,0.406021553874665,0.40604472080673903,0.40605168362566874,0.4060630386912729,0.40612408076117534,0.40613647805989733,0.4063026685342427,0.406479964558932,0.40652738010006373,0.4065506312146874,0.406658714348509,0.40667506408771564,0.4067361373123551,0.4067871728147013,0.40701061961409657,0.40701750578653206,0.4070345926677821,0.40710813125202,0.40713055956100147,0.4073879958406413,0.40744977340435523,0.40757950407873866,0.4075888468410904,0.4076099622818019,0.4076278164344705,0.40768306225051876,0.40779030065311883,0.40796356568919934,0.407980573060652,0.4079950733231497,0.4080360482915418,0.4080579249618799,0.4080761030183553,0.40813677951063876,0.40819382754899275,0.40820752452186393,0.4082735167389442,0.40832994686622537,0.40833154034791974,0.40834279521618966,0.4083506837672404,0.40835091000291657,0.4083576394953852,0.40846182825509236,0.40856840860976645,0.4086477389259416,0.40865871519550945,0.4087144912903473,0.4087267760684795,0.4088341731084051,0.40884091038835146,0.40888888078273666,0.4088915327882794,0.4089018966374071,0.4089178924176625,0.4089781183171127,0.4090007594811059,0.40901047851427874,0.40904515697293187,0.4090503818008489,0.40912534313988236,0.40921807083975315,0.40927699305600174,0.4092779436196939,0.40930306446803966,0.40930792530420046,0.40931215675582044,0.4093313794997394,0.40937174526621917,0.40937344281934257,0.4093910370496966,0.4094051711346637,0.40941084345348033,0.4094134285282573,0.40943264816970804,0.4094422214190252,0.4094637295207787,0.4094638558523787,0.40950552990649086,0.40952195653708034,0.4095390301617615,0.40954134026747385,0.409542206231449,0.4095435842685393,0.40954599974927186,0.40955023839249677,0.4095539422209051,0.40956249406273626,0.40956294620452716,0.4096015076141385,0.4096015778315792,0.4096051734860035,0.40960520410016316,0.40960680102751873,0.4096096485174613,0.40961340042439287,0.4096154950262034,0.40961612863474484,0.40961629171500946,0.4096168494409186],\"yaxis\":\"y\",\"type\":\"scatter\"}],                        {\"template\":{\"data\":{\"barpolar\":[{\"marker\":{\"line\":{\"color\":\"white\",\"width\":0.5},\"pattern\":{\"fillmode\":\"overlay\",\"size\":10,\"solidity\":0.2}},\"type\":\"barpolar\"}],\"bar\":[{\"error_x\":{\"color\":\"rgb(36,36,36)\"},\"error_y\":{\"color\":\"rgb(36,36,36)\"},\"marker\":{\"line\":{\"color\":\"white\",\"width\":0.5},\"pattern\":{\"fillmode\":\"overlay\",\"size\":10,\"solidity\":0.2}},\"type\":\"bar\"}],\"carpet\":[{\"aaxis\":{\"endlinecolor\":\"rgb(36,36,36)\",\"gridcolor\":\"white\",\"linecolor\":\"white\",\"minorgridcolor\":\"white\",\"startlinecolor\":\"rgb(36,36,36)\"},\"baxis\":{\"endlinecolor\":\"rgb(36,36,36)\",\"gridcolor\":\"white\",\"linecolor\":\"white\",\"minorgridcolor\":\"white\",\"startlinecolor\":\"rgb(36,36,36)\"},\"type\":\"carpet\"}],\"choropleth\":[{\"colorbar\":{\"outlinewidth\":1,\"tickcolor\":\"rgb(36,36,36)\",\"ticks\":\"outside\"},\"type\":\"choropleth\"}],\"contourcarpet\":[{\"colorbar\":{\"outlinewidth\":1,\"tickcolor\":\"rgb(36,36,36)\",\"ticks\":\"outside\"},\"type\":\"contourcarpet\"}],\"contour\":[{\"colorbar\":{\"outlinewidth\":1,\"tickcolor\":\"rgb(36,36,36)\",\"ticks\":\"outside\"},\"colorscale\":[[0.0,\"#440154\"],[0.1111111111111111,\"#482878\"],[0.2222222222222222,\"#3e4989\"],[0.3333333333333333,\"#31688e\"],[0.4444444444444444,\"#26828e\"],[0.5555555555555556,\"#1f9e89\"],[0.6666666666666666,\"#35b779\"],[0.7777777777777778,\"#6ece58\"],[0.8888888888888888,\"#b5de2b\"],[1.0,\"#fde725\"]],\"type\":\"contour\"}],\"heatmapgl\":[{\"colorbar\":{\"outlinewidth\":1,\"tickcolor\":\"rgb(36,36,36)\",\"ticks\":\"outside\"},\"colorscale\":[[0.0,\"#440154\"],[0.1111111111111111,\"#482878\"],[0.2222222222222222,\"#3e4989\"],[0.3333333333333333,\"#31688e\"],[0.4444444444444444,\"#26828e\"],[0.5555555555555556,\"#1f9e89\"],[0.6666666666666666,\"#35b779\"],[0.7777777777777778,\"#6ece58\"],[0.8888888888888888,\"#b5de2b\"],[1.0,\"#fde725\"]],\"type\":\"heatmapgl\"}],\"heatmap\":[{\"colorbar\":{\"outlinewidth\":1,\"tickcolor\":\"rgb(36,36,36)\",\"ticks\":\"outside\"},\"colorscale\":[[0.0,\"#440154\"],[0.1111111111111111,\"#482878\"],[0.2222222222222222,\"#3e4989\"],[0.3333333333333333,\"#31688e\"],[0.4444444444444444,\"#26828e\"],[0.5555555555555556,\"#1f9e89\"],[0.6666666666666666,\"#35b779\"],[0.7777777777777778,\"#6ece58\"],[0.8888888888888888,\"#b5de2b\"],[1.0,\"#fde725\"]],\"type\":\"heatmap\"}],\"histogram2dcontour\":[{\"colorbar\":{\"outlinewidth\":1,\"tickcolor\":\"rgb(36,36,36)\",\"ticks\":\"outside\"},\"colorscale\":[[0.0,\"#440154\"],[0.1111111111111111,\"#482878\"],[0.2222222222222222,\"#3e4989\"],[0.3333333333333333,\"#31688e\"],[0.4444444444444444,\"#26828e\"],[0.5555555555555556,\"#1f9e89\"],[0.6666666666666666,\"#35b779\"],[0.7777777777777778,\"#6ece58\"],[0.8888888888888888,\"#b5de2b\"],[1.0,\"#fde725\"]],\"type\":\"histogram2dcontour\"}],\"histogram2d\":[{\"colorbar\":{\"outlinewidth\":1,\"tickcolor\":\"rgb(36,36,36)\",\"ticks\":\"outside\"},\"colorscale\":[[0.0,\"#440154\"],[0.1111111111111111,\"#482878\"],[0.2222222222222222,\"#3e4989\"],[0.3333333333333333,\"#31688e\"],[0.4444444444444444,\"#26828e\"],[0.5555555555555556,\"#1f9e89\"],[0.6666666666666666,\"#35b779\"],[0.7777777777777778,\"#6ece58\"],[0.8888888888888888,\"#b5de2b\"],[1.0,\"#fde725\"]],\"type\":\"histogram2d\"}],\"histogram\":[{\"marker\":{\"line\":{\"color\":\"white\",\"width\":0.6}},\"type\":\"histogram\"}],\"mesh3d\":[{\"colorbar\":{\"outlinewidth\":1,\"tickcolor\":\"rgb(36,36,36)\",\"ticks\":\"outside\"},\"type\":\"mesh3d\"}],\"parcoords\":[{\"line\":{\"colorbar\":{\"outlinewidth\":1,\"tickcolor\":\"rgb(36,36,36)\",\"ticks\":\"outside\"}},\"type\":\"parcoords\"}],\"pie\":[{\"automargin\":true,\"type\":\"pie\"}],\"scatter3d\":[{\"line\":{\"colorbar\":{\"outlinewidth\":1,\"tickcolor\":\"rgb(36,36,36)\",\"ticks\":\"outside\"}},\"marker\":{\"colorbar\":{\"outlinewidth\":1,\"tickcolor\":\"rgb(36,36,36)\",\"ticks\":\"outside\"}},\"type\":\"scatter3d\"}],\"scattercarpet\":[{\"marker\":{\"colorbar\":{\"outlinewidth\":1,\"tickcolor\":\"rgb(36,36,36)\",\"ticks\":\"outside\"}},\"type\":\"scattercarpet\"}],\"scattergeo\":[{\"marker\":{\"colorbar\":{\"outlinewidth\":1,\"tickcolor\":\"rgb(36,36,36)\",\"ticks\":\"outside\"}},\"type\":\"scattergeo\"}],\"scattergl\":[{\"marker\":{\"colorbar\":{\"outlinewidth\":1,\"tickcolor\":\"rgb(36,36,36)\",\"ticks\":\"outside\"}},\"type\":\"scattergl\"}],\"scattermapbox\":[{\"marker\":{\"colorbar\":{\"outlinewidth\":1,\"tickcolor\":\"rgb(36,36,36)\",\"ticks\":\"outside\"}},\"type\":\"scattermapbox\"}],\"scatterpolargl\":[{\"marker\":{\"colorbar\":{\"outlinewidth\":1,\"tickcolor\":\"rgb(36,36,36)\",\"ticks\":\"outside\"}},\"type\":\"scatterpolargl\"}],\"scatterpolar\":[{\"marker\":{\"colorbar\":{\"outlinewidth\":1,\"tickcolor\":\"rgb(36,36,36)\",\"ticks\":\"outside\"}},\"type\":\"scatterpolar\"}],\"scatter\":[{\"fillpattern\":{\"fillmode\":\"overlay\",\"size\":10,\"solidity\":0.2},\"type\":\"scatter\"}],\"scatterternary\":[{\"marker\":{\"colorbar\":{\"outlinewidth\":1,\"tickcolor\":\"rgb(36,36,36)\",\"ticks\":\"outside\"}},\"type\":\"scatterternary\"}],\"surface\":[{\"colorbar\":{\"outlinewidth\":1,\"tickcolor\":\"rgb(36,36,36)\",\"ticks\":\"outside\"},\"colorscale\":[[0.0,\"#440154\"],[0.1111111111111111,\"#482878\"],[0.2222222222222222,\"#3e4989\"],[0.3333333333333333,\"#31688e\"],[0.4444444444444444,\"#26828e\"],[0.5555555555555556,\"#1f9e89\"],[0.6666666666666666,\"#35b779\"],[0.7777777777777778,\"#6ece58\"],[0.8888888888888888,\"#b5de2b\"],[1.0,\"#fde725\"]],\"type\":\"surface\"}],\"table\":[{\"cells\":{\"fill\":{\"color\":\"rgb(237,237,237)\"},\"line\":{\"color\":\"white\"}},\"header\":{\"fill\":{\"color\":\"rgb(217,217,217)\"},\"line\":{\"color\":\"white\"}},\"type\":\"table\"}]},\"layout\":{\"annotationdefaults\":{\"arrowhead\":0,\"arrowwidth\":1},\"autotypenumbers\":\"strict\",\"coloraxis\":{\"colorbar\":{\"outlinewidth\":1,\"tickcolor\":\"rgb(36,36,36)\",\"ticks\":\"outside\"}},\"colorscale\":{\"diverging\":[[0.0,\"rgb(103,0,31)\"],[0.1,\"rgb(178,24,43)\"],[0.2,\"rgb(214,96,77)\"],[0.3,\"rgb(244,165,130)\"],[0.4,\"rgb(253,219,199)\"],[0.5,\"rgb(247,247,247)\"],[0.6,\"rgb(209,229,240)\"],[0.7,\"rgb(146,197,222)\"],[0.8,\"rgb(67,147,195)\"],[0.9,\"rgb(33,102,172)\"],[1.0,\"rgb(5,48,97)\"]],\"sequential\":[[0.0,\"#440154\"],[0.1111111111111111,\"#482878\"],[0.2222222222222222,\"#3e4989\"],[0.3333333333333333,\"#31688e\"],[0.4444444444444444,\"#26828e\"],[0.5555555555555556,\"#1f9e89\"],[0.6666666666666666,\"#35b779\"],[0.7777777777777778,\"#6ece58\"],[0.8888888888888888,\"#b5de2b\"],[1.0,\"#fde725\"]],\"sequentialminus\":[[0.0,\"#440154\"],[0.1111111111111111,\"#482878\"],[0.2222222222222222,\"#3e4989\"],[0.3333333333333333,\"#31688e\"],[0.4444444444444444,\"#26828e\"],[0.5555555555555556,\"#1f9e89\"],[0.6666666666666666,\"#35b779\"],[0.7777777777777778,\"#6ece58\"],[0.8888888888888888,\"#b5de2b\"],[1.0,\"#fde725\"]]},\"colorway\":[\"#1F77B4\",\"#FF7F0E\",\"#2CA02C\",\"#D62728\",\"#9467BD\",\"#8C564B\",\"#E377C2\",\"#7F7F7F\",\"#BCBD22\",\"#17BECF\"],\"font\":{\"color\":\"rgb(36,36,36)\"},\"geo\":{\"bgcolor\":\"white\",\"lakecolor\":\"white\",\"landcolor\":\"white\",\"showlakes\":true,\"showland\":true,\"subunitcolor\":\"white\"},\"hoverlabel\":{\"align\":\"left\"},\"hovermode\":\"closest\",\"mapbox\":{\"style\":\"light\"},\"paper_bgcolor\":\"white\",\"plot_bgcolor\":\"white\",\"polar\":{\"angularaxis\":{\"gridcolor\":\"rgb(232,232,232)\",\"linecolor\":\"rgb(36,36,36)\",\"showgrid\":false,\"showline\":true,\"ticks\":\"outside\"},\"bgcolor\":\"white\",\"radialaxis\":{\"gridcolor\":\"rgb(232,232,232)\",\"linecolor\":\"rgb(36,36,36)\",\"showgrid\":false,\"showline\":true,\"ticks\":\"outside\"}},\"scene\":{\"xaxis\":{\"backgroundcolor\":\"white\",\"gridcolor\":\"rgb(232,232,232)\",\"gridwidth\":2,\"linecolor\":\"rgb(36,36,36)\",\"showbackground\":true,\"showgrid\":false,\"showline\":true,\"ticks\":\"outside\",\"zeroline\":false,\"zerolinecolor\":\"rgb(36,36,36)\"},\"yaxis\":{\"backgroundcolor\":\"white\",\"gridcolor\":\"rgb(232,232,232)\",\"gridwidth\":2,\"linecolor\":\"rgb(36,36,36)\",\"showbackground\":true,\"showgrid\":false,\"showline\":true,\"ticks\":\"outside\",\"zeroline\":false,\"zerolinecolor\":\"rgb(36,36,36)\"},\"zaxis\":{\"backgroundcolor\":\"white\",\"gridcolor\":\"rgb(232,232,232)\",\"gridwidth\":2,\"linecolor\":\"rgb(36,36,36)\",\"showbackground\":true,\"showgrid\":false,\"showline\":true,\"ticks\":\"outside\",\"zeroline\":false,\"zerolinecolor\":\"rgb(36,36,36)\"}},\"shapedefaults\":{\"fillcolor\":\"black\",\"line\":{\"width\":0},\"opacity\":0.3},\"ternary\":{\"aaxis\":{\"gridcolor\":\"rgb(232,232,232)\",\"linecolor\":\"rgb(36,36,36)\",\"showgrid\":false,\"showline\":true,\"ticks\":\"outside\"},\"baxis\":{\"gridcolor\":\"rgb(232,232,232)\",\"linecolor\":\"rgb(36,36,36)\",\"showgrid\":false,\"showline\":true,\"ticks\":\"outside\"},\"bgcolor\":\"white\",\"caxis\":{\"gridcolor\":\"rgb(232,232,232)\",\"linecolor\":\"rgb(36,36,36)\",\"showgrid\":false,\"showline\":true,\"ticks\":\"outside\"}},\"title\":{\"x\":0.05},\"xaxis\":{\"automargin\":true,\"gridcolor\":\"rgb(232,232,232)\",\"linecolor\":\"rgb(36,36,36)\",\"showgrid\":false,\"showline\":true,\"ticks\":\"outside\",\"title\":{\"standoff\":15},\"zeroline\":false,\"zerolinecolor\":\"rgb(36,36,36)\"},\"yaxis\":{\"automargin\":true,\"gridcolor\":\"rgb(232,232,232)\",\"linecolor\":\"rgb(36,36,36)\",\"showgrid\":false,\"showline\":true,\"ticks\":\"outside\",\"title\":{\"standoff\":15},\"zeroline\":false,\"zerolinecolor\":\"rgb(36,36,36)\"}}},\"xaxis\":{\"anchor\":\"y\",\"domain\":[0.0,1.0],\"title\":{\"text\":\"x (sample)\",\"font\":{\"family\":\"Times New Roman\"}}},\"yaxis\":{\"anchor\":\"x\",\"domain\":[0.0,1.0],\"title\":{\"text\":\"Empirical PDF\",\"font\":{\"family\":\"Times New Roman\"}}},\"legend\":{\"tracegroupgap\":0},\"margin\":{\"t\":60},\"title\":{\"font\":{\"family\":\"Helvetica\",\"color\":\"black\"},\"text\":\"Empirical PDF Under the Fitted Model\",\"x\":0.5,\"y\":0.95},\"font\":{\"color\":\"black\"}},                        {\"responsive\": true}                    ).then(function(){\n                            \nvar gd = document.getElementById('1c848f7c-0bd0-40a7-8a96-470c4e7c4919');\nvar x = new MutationObserver(function (mutations, observer) {{\n        var display = window.getComputedStyle(gd).display;\n        if (!display || display === 'none') {{\n            console.log([gd, 'removed!']);\n            Plotly.purge(gd);\n            observer.disconnect();\n        }}\n}});\n\n// Listen for the removal of the full notebook cells\nvar notebookContainer = gd.closest('#notebook-container');\nif (notebookContainer) {{\n    x.observe(notebookContainer, {childList: true});\n}}\n\n// Listen for the clearing of the current output cell\nvar outputEl = gd.closest('.output');\nif (outputEl) {{\n    x.observe(outputEl, {childList: true});\n}}\n\n                        })                };                });            </script>        </div>"
     },
     "metadata": {},
     "output_type": "display_data"
    }
   ],
   "source": [
    "if __name__ == '__main__':\n",
    "    np.random.seed(173)\n",
    "    univariate_gaussian_estimation()\n",
    "    multivariate_gaussian_estimation()"
   ]
  }
 ],
 "metadata": {
  "kernelspec": {
   "display_name": "Python 3 (ipykernel)",
   "language": "python",
   "name": "python3"
  },
  "language_info": {
   "codemirror_mode": {
    "name": "ipython",
    "version": 3
   },
   "file_extension": ".py",
   "mimetype": "text/x-python",
   "name": "python",
   "nbconvert_exporter": "python",
   "pygments_lexer": "ipython3",
   "version": "3.9.13"
  }
 },
 "nbformat": 4,
 "nbformat_minor": 1
}
